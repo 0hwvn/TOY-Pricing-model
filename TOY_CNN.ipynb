{
 "cells": [
  {
   "cell_type": "code",
   "execution_count": 1,
   "id": "2f6a2d97",
   "metadata": {
    "ExecuteTime": {
     "end_time": "2022-08-03T12:20:39.712299Z",
     "start_time": "2022-08-03T12:20:38.812734Z"
    }
   },
   "outputs": [],
   "source": [
    "# check for requirements.txt\n",
    "\n",
    "import os\n",
    "import sys\n",
    "import argparse\n",
    "from omegaconf import OmegaConf\n",
    "from omegaconf import DictConfig\n",
    "import torch\n",
    "import numpy as np\n",
    "\n",
    "import torch\n",
    "from torch import nn\n",
    "import torch.nn.functional as F\n",
    "import torch.optim as optim\n",
    "from torch.utils.data import DataLoader\n",
    "from torch.utils.data import random_split\n",
    "\n",
    "# from torch.utils.tensorboard import SummaryWriter # Not available at Pytorch 1.2 version.\n",
    "from torchvision.datasets import FashionMNIST\n",
    "from torchvision import transforms # callable\n",
    "from tqdm import tqdm\n",
    "from datetime import datetime"
   ]
  },
  {
   "cell_type": "code",
   "execution_count": 2,
   "id": "9304cca9",
   "metadata": {
    "ExecuteTime": {
     "end_time": "2022-08-03T12:20:39.727461Z",
     "start_time": "2022-08-03T12:20:39.713311Z"
    }
   },
   "outputs": [
    {
     "name": "stdout",
     "output_type": "stream",
     "text": [
      "True\n",
      "cuda\n"
     ]
    }
   ],
   "source": [
    "# check if GPu is available\n",
    "# os.environ[\"CUDA_DEVICE_ORDER\"]=\"PCI_BUS_ID\"\n",
    "# os.environ[\"CUDA_VISIBLE_DEVICES\"]=\"0\"\n",
    "print(torch.cuda.is_available())\n",
    "device = torch.device('cuda' if torch.cuda.is_available() else 'cpu')\n",
    "print(device)"
   ]
  },
  {
   "cell_type": "code",
   "execution_count": 3,
   "id": "c5439885",
   "metadata": {
    "ExecuteTime": {
     "end_time": "2022-08-03T12:20:39.743467Z",
     "start_time": "2022-08-03T12:20:39.728461Z"
    }
   },
   "outputs": [],
   "source": [
    "project_root = os.getcwd()\n",
    "data_root = os.path.join(project_root,'data')\n",
    "model_root = os.path.join(project_root,'logs')"
   ]
  },
  {
   "cell_type": "code",
   "execution_count": 4,
   "id": "6a1740af",
   "metadata": {
    "ExecuteTime": {
     "end_time": "2022-08-03T12:20:39.949247Z",
     "start_time": "2022-08-03T12:20:39.916239Z"
    },
    "scrolled": true
   },
   "outputs": [],
   "source": [
    "# Preprocessing & Dataset definition\n",
    "# Composes several transforms together.\n",
    "transform = transforms.Compose( \n",
    "    [\n",
    "    transforms.ToTensor(), # PIL Image or ndarray-> FloatTensor with (c,h,w), Intensity to [0,1]\n",
    "    transforms.Normalize([0.5],[0.5]) # normalize each channel of the input\n",
    "    # mean (sequence) – Sequence of means for each channel.\n",
    "    # std (sequence) – Sequence of standard deviations for each channel.\n",
    "    ]\n",
    ")\n",
    "fashion_mnist_dataset = FashionMNIST(data_root, download=True, train=True, transform = transform)"
   ]
  },
  {
   "cell_type": "code",
   "execution_count": 5,
   "id": "8d848499",
   "metadata": {
    "ExecuteTime": {
     "end_time": "2022-08-03T12:20:41.029261Z",
     "start_time": "2022-08-03T12:20:41.011257Z"
    }
   },
   "outputs": [],
   "source": [
    "data = random_split(fashion_mnist_dataset, [int(len(fashion_mnist_dataset)*0.9),int(len(fashion_mnist_dataset)*0.1)])\n",
    "train_dataset = data[0]\n",
    "val_dataset = data[1]\n",
    "\n",
    "train_batchszie = 100\n",
    "val_batchszie = 10\n",
    "\n",
    "train_dataloader = torch.utils.data.DataLoader(\n",
    "    train_dataset, batch_size=train_batchszie, shuffle =True, num_workers=1\n",
    ")\n",
    "# Iterable object composed of iterable data\n",
    "\n",
    "val_dataloader = torch.utils.data.DataLoader(\n",
    "    val_dataset, batch_size=val_batchszie, shuffle =True, num_workers=1\n",
    ")\n"
   ]
  },
  {
   "cell_type": "code",
   "execution_count": 6,
   "id": "6cd23e77",
   "metadata": {
    "ExecuteTime": {
     "end_time": "2022-08-03T12:20:42.801715Z",
     "start_time": "2022-08-03T12:20:42.788713Z"
    }
   },
   "outputs": [],
   "source": [
    "def softmax(x,axis=0):\n",
    "    max = np.max(x, axis=axis,keepdims=True)\n",
    "    e_x = np.exp(x-max) \n",
    "    sum = np.sum(e_x, axis=axis,keepdims=True)\n",
    "    f_x = e_x/sum\n",
    "    return f_x"
   ]
  },
  {
   "cell_type": "code",
   "execution_count": 15,
   "id": "643f0d53",
   "metadata": {
    "ExecuteTime": {
     "end_time": "2022-08-03T12:27:56.493389Z",
     "start_time": "2022-08-03T12:27:56.465973Z"
    }
   },
   "outputs": [],
   "source": [
    "_cnn_config_dict: dict = {\n",
    "    \"layer_1\": {\n",
    "        \"conv2d_in_channels\":1,\n",
    "        \"conv2d_out_channels\":32,\n",
    "        \"conv2d_kernel_size\":3,\n",
    "        \"conv2d_padding\":1,\n",
    "        \"maxpool2d_kernel_size\":2,\n",
    "        \"maxpool2d_stride\":2,\n",
    "    },\n",
    "    \"layer_2\":{\n",
    "        \"conv2d_in_channels\":32,\n",
    "        \"conv2d_out_channels\":64,\n",
    "        \"conv2d_kernel_size\":3,\n",
    "        \"conv2d_padding\":0,\n",
    "        \"maxpool2d_kernel_size\":2,\n",
    "        \"maxpool2d_stride\":2,        \n",
    "    },\n",
    "    \"fc_1\":{\n",
    "        'in_features':2304,\n",
    "        \"out_features\":512\n",
    "    },\n",
    "    \"fc_2\":{\n",
    "        'in_features':512,\n",
    "        \"out_features\":128        \n",
    "    },\n",
    "    \"fc_3\":{\n",
    "        'in_features':128,\n",
    "        \"out_features\":10        \n",
    "    },\n",
    "    \"dropout_prob\":0.25,\n",
    "}\n",
    "    \n",
    "_cnn_config = OmegaConf.create(_cnn_config_dict)\n",
    "\n",
    "with open('TOY_CNN.yaml','w') as f:\n",
    "    OmegaConf.save(_cnn_config, f)\n",
    "\n",
    "class CNN(nn.Module):\n",
    "    def __init__(self, cfg: DictConfig = _cnn_config):\n",
    "        super().__init__()\n",
    "        self.layer1 = nn.Sequential(\n",
    "            nn.Conv2d(\n",
    "                in_channels=cfg.layer_1.conv2d_in_channels,\n",
    "                out_channels=cfg.layer_1.conv2d_out_channels,\n",
    "                kernel_size = cfg.layer_1.conv2d_kernel_size,\n",
    "                padding = cfg.layer_1.conv2d_padding\n",
    "            ),\n",
    "            nn.BatchNorm2d(\n",
    "                cfg.layer_1.conv2d_out_channels\n",
    "            ),\n",
    "            nn.ReLU(),\n",
    "            nn.MaxPool2d(\n",
    "                kernel_size = cfg.layer_1.maxpool2d_kernel_size,\n",
    "                stride = cfg.layer_1.maxpool2d_stride\n",
    "            )\n",
    "        )\n",
    "        \n",
    "        self.layer2 = nn.Sequential(\n",
    "            nn.Conv2d(\n",
    "                in_channels=cfg.layer_2.conv2d_in_channels,\n",
    "                out_channels=cfg.layer_2.conv2d_out_channels,\n",
    "                kernel_size = cfg.layer_2.conv2d_kernel_size,\n",
    "                padding = cfg.layer_2.conv2d_padding\n",
    "            ),\n",
    "            nn.BatchNorm2d(\n",
    "                cfg.layer_2.conv2d_out_channels\n",
    "            ),\n",
    "            nn.ReLU(),\n",
    "            nn.MaxPool2d(\n",
    "                kernel_size = cfg.layer_2.maxpool2d_kernel_size,\n",
    "                stride = cfg.layer_2.maxpool2d_stride\n",
    "            )\n",
    "        )\n",
    "        self.fc1 = nn.Linear(\n",
    "            in_features = cfg.fc_1.in_features,\n",
    "            out_features = cfg.fc_1.out_features\n",
    "        )\n",
    "        self.fc2 = nn.Linear(\n",
    "            in_features = cfg.fc_2.in_features,\n",
    "            out_features = cfg.fc_2.out_features\n",
    "        )\n",
    "        self.fc3 = nn.Linear(\n",
    "            in_features = cfg.fc_3.in_features,\n",
    "            out_features = cfg.fc_3.out_features\n",
    "        )\n",
    "        self.dropout = nn.Dropout2d(cfg.dropout_prob)\n",
    "        self.softmax = F.softmax\n",
    "        \n",
    "    def forward(self, x):\n",
    "        x = self.layer1(x)\n",
    "        x = self.layer2(x)\n",
    "        x = x.view(x.size(0), -1)\n",
    "        x = self.fc1(x)\n",
    "        x = self.dropout(x)\n",
    "        x = self.fc2(x)\n",
    "        x = self.fc3(x)\n",
    "        out = self.softmax(x, dim=1)\n",
    "        return out\n"
   ]
  },
  {
   "cell_type": "code",
   "execution_count": 16,
   "id": "4310a0c0",
   "metadata": {
    "ExecuteTime": {
     "end_time": "2022-08-03T12:27:56.995402Z",
     "start_time": "2022-08-03T12:27:56.976987Z"
    }
   },
   "outputs": [],
   "source": [
    "# Warmup Scheduler\n",
    "class WarmupLR(optim.lr_scheduler.LambdaLR):\n",
    "    def __init__(self,\n",
    "                 optimizer: optim.Optimizer,\n",
    "                 warmup_end_steps: int, \n",
    "                 last_epoch: int = -1,\n",
    "                ):\n",
    "        def warmup_fn(step: int):\n",
    "            if step < warmup_end_steps:\n",
    "                return float(step) / float(max(warmup_end_steps, 1))\n",
    "            return 1.0\n",
    "        super().__init__(optimizer, warmup_fn, last_epoch)"
   ]
  },
  {
   "cell_type": "code",
   "execution_count": 17,
   "id": "c205e6d1",
   "metadata": {
    "ExecuteTime": {
     "end_time": "2022-08-03T12:27:57.276326Z",
     "start_time": "2022-08-03T12:27:57.256315Z"
    }
   },
   "outputs": [],
   "source": [
    "model = CNN(cfg=_cnn_config).to(device)\n",
    "model_name = type(model).__name__\n",
    "\n",
    "loss_function = nn.CrossEntropyLoss()\n",
    "\n",
    "lr=1e-3\n",
    "optimizer= torch.optim.Adam(model.parameters(),lr)\n",
    "optimizer_name = type(optimizer).__name__\n",
    "\n",
    "scheduler = None\n",
    "# scheduler = WarmupLR(optimizer, 1500)\n",
    "scheduler_name = type(scheduler).__name__ if scheduler is not None else \"no\"\n",
    "\n",
    "max_epoch=50\n",
    "\n",
    "log_dir = f\"{model_root}\\\\{model_name}-{optimizer_name}_optim_{lr}_lr_with_{scheduler_name}_scheduler\"\n",
    "log_interval = 100\n",
    "os.makedirs(log_dir, exist_ok=True)"
   ]
  },
  {
   "cell_type": "code",
   "execution_count": 18,
   "id": "0541f910",
   "metadata": {
    "ExecuteTime": {
     "end_time": "2022-08-03T12:36:06.011170Z",
     "start_time": "2022-08-03T12:27:57.736981Z"
    },
    "scrolled": true
   },
   "outputs": [
    {
     "name": "stderr",
     "output_type": "stream",
     "text": [
      "validation:   0%|                                                                              | 0/600 [00:00<?, ?it/s]C:\\Users\\user\\Anaconda3\\envs\\SKT-env\\lib\\site-packages\\torch\\nn\\functional.py:1331: UserWarning: dropout2d: Received a 2-D input to dropout2d, which is deprecated and will result in an error in a future release. To retain the behavior and silence this warning, please use dropout instead. Note that dropout2d exists to provide channel-wise dropout on inputs with 2 spatial dimensions, a channel dimension, and an optional batch dimension (i.e. 3D or 4D inputs).\n",
      "  warnings.warn(warn_msg)\n",
      "validation: 100%|███████████████████████████████████████████████████████████████████| 600/600 [00:02<00:00, 285.04it/s]\n"
     ]
    },
    {
     "name": "stdout",
     "output_type": "stream",
     "text": [
      "1: epoch, 0 step: val_loss : 0.2302682860294976, val_acc: 0.10583321750164032\n"
     ]
    },
    {
     "name": "stderr",
     "output_type": "stream",
     "text": [
      "Train:   2%|█▊                                                                        | 13/540 [00:01<00:36, 14.53it/s]"
     ]
    },
    {
     "name": "stdout",
     "output_type": "stream",
     "text": [
      "0: train_loss : 0.023006575107574465, train_acc: 0.10999999940395355\n"
     ]
    },
    {
     "name": "stderr",
     "output_type": "stream",
     "text": [
      "Train:  20%|██████████████▋                                                          | 109/540 [00:02<00:05, 78.65it/s]"
     ]
    },
    {
     "name": "stdout",
     "output_type": "stream",
     "text": [
      "100: train_loss : 0.016313273906707764, train_acc: 0.8299999833106995\n"
     ]
    },
    {
     "name": "stderr",
     "output_type": "stream",
     "text": [
      "Train:  40%|█████████████████████████████▎                                           | 217/540 [00:03<00:03, 81.98it/s]"
     ]
    },
    {
     "name": "stdout",
     "output_type": "stream",
     "text": [
      "200: train_loss : 0.01733664274215698, train_acc: 0.7199999690055847\n"
     ]
    },
    {
     "name": "stderr",
     "output_type": "stream",
     "text": [
      "Train:  59%|██████████████████████████████████████████▋                              | 316/540 [00:05<00:02, 82.08it/s]"
     ]
    },
    {
     "name": "stdout",
     "output_type": "stream",
     "text": [
      "300: train_loss : 0.016542004346847536, train_acc: 0.8100000023841858\n"
     ]
    },
    {
     "name": "stderr",
     "output_type": "stream",
     "text": [
      "Train:  77%|████████████████████████████████████████████████████████                 | 415/540 [00:06<00:01, 82.78it/s]"
     ]
    },
    {
     "name": "stdout",
     "output_type": "stream",
     "text": [
      "400: train_loss : 0.018301979303359986, train_acc: 0.6299999952316284\n"
     ]
    },
    {
     "name": "stderr",
     "output_type": "stream",
     "text": [
      "Train:  95%|█████████████████████████████████████████████████████████████████████▍   | 514/540 [00:07<00:00, 82.27it/s]"
     ]
    },
    {
     "name": "stdout",
     "output_type": "stream",
     "text": [
      "500: train_loss : 0.017098711729049684, train_acc: 0.75\n"
     ]
    },
    {
     "name": "stderr",
     "output_type": "stream",
     "text": [
      "Train: 100%|█████████████████████████████████████████████████████████████████████████| 540/540 [00:07<00:00, 68.36it/s]\n",
      "validation: 100%|███████████████████████████████████████████████████████████████████| 600/600 [00:01<00:00, 305.88it/s]\n"
     ]
    },
    {
     "name": "stdout",
     "output_type": "stream",
     "text": [
      "2: epoch, 540 step: val_loss : 0.16658162138859395, val_acc: 0.7951655983924866\n"
     ]
    },
    {
     "name": "stderr",
     "output_type": "stream",
     "text": [
      "Train:  13%|█████████▋                                                                | 71/540 [00:01<00:06, 70.79it/s]"
     ]
    },
    {
     "name": "stdout",
     "output_type": "stream",
     "text": [
      "600: train_loss : 0.017230666875839233, train_acc: 0.7400000095367432\n"
     ]
    },
    {
     "name": "stderr",
     "output_type": "stream",
     "text": [
      "Train:  31%|██████████████████████▋                                                  | 168/540 [00:03<00:04, 81.26it/s]"
     ]
    },
    {
     "name": "stdout",
     "output_type": "stream",
     "text": [
      "700: train_loss : 0.016036882400512695, train_acc: 0.85999995470047\n"
     ]
    },
    {
     "name": "stderr",
     "output_type": "stream",
     "text": [
      "Train:  51%|█████████████████████████████████████▎                                   | 276/540 [00:04<00:03, 82.81it/s]"
     ]
    },
    {
     "name": "stdout",
     "output_type": "stream",
     "text": [
      "800: train_loss : 0.01651154279708862, train_acc: 0.8100000023841858\n"
     ]
    },
    {
     "name": "stderr",
     "output_type": "stream",
     "text": [
      "Train:  69%|██████████████████████████████████████████████████▋                      | 375/540 [00:05<00:02, 81.32it/s]"
     ]
    },
    {
     "name": "stdout",
     "output_type": "stream",
     "text": [
      "900: train_loss : 0.017213276624679565, train_acc: 0.7400000095367432\n"
     ]
    },
    {
     "name": "stderr",
     "output_type": "stream",
     "text": [
      "Train:  88%|████████████████████████████████████████████████████████████████         | 474/540 [00:06<00:00, 81.59it/s]"
     ]
    },
    {
     "name": "stdout",
     "output_type": "stream",
     "text": [
      "1000: train_loss : 0.016630319356918336, train_acc: 0.7999999523162842\n"
     ]
    },
    {
     "name": "stderr",
     "output_type": "stream",
     "text": [
      "Train: 100%|█████████████████████████████████████████████████████████████████████████| 540/540 [00:07<00:00, 69.17it/s]\n",
      "validation: 100%|███████████████████████████████████████████████████████████████████| 600/600 [00:01<00:00, 308.02it/s]\n"
     ]
    },
    {
     "name": "stdout",
     "output_type": "stream",
     "text": [
      "3: epoch, 1080 step: val_loss : 0.17087165157000211, val_acc: 0.751833438873291\n"
     ]
    },
    {
     "name": "stderr",
     "output_type": "stream",
     "text": [
      "Train:   6%|████▋                                                                     | 34/540 [00:01<00:11, 43.20it/s]"
     ]
    },
    {
     "name": "stdout",
     "output_type": "stream",
     "text": [
      "1100: train_loss : 0.016699681282043456, train_acc: 0.7899999618530273\n"
     ]
    },
    {
     "name": "stderr",
     "output_type": "stream",
     "text": [
      "Train:  24%|█████████████████▌                                                       | 130/540 [00:02<00:05, 79.65it/s]"
     ]
    },
    {
     "name": "stdout",
     "output_type": "stream",
     "text": [
      "1200: train_loss : 0.01721150040626526, train_acc: 0.7400000095367432\n"
     ]
    },
    {
     "name": "stderr",
     "output_type": "stream",
     "text": [
      "Train:  42%|██████████████████████████████▉                                          | 229/540 [00:03<00:03, 81.84it/s]"
     ]
    },
    {
     "name": "stdout",
     "output_type": "stream",
     "text": [
      "1300: train_loss : 0.016443619728088377, train_acc: 0.8199999928474426\n"
     ]
    },
    {
     "name": "stderr",
     "output_type": "stream",
     "text": [
      "Train:  61%|████████████████████████████████████████████▎                            | 328/540 [00:04<00:02, 81.70it/s]"
     ]
    },
    {
     "name": "stdout",
     "output_type": "stream",
     "text": [
      "1400: train_loss : 0.01620957612991333, train_acc: 0.8399999737739563\n"
     ]
    },
    {
     "name": "stderr",
     "output_type": "stream",
     "text": [
      "Train:  81%|██████████████████████████████████████████████████████████▉              | 436/540 [00:06<00:01, 81.25it/s]"
     ]
    },
    {
     "name": "stdout",
     "output_type": "stream",
     "text": [
      "1500: train_loss : 0.016873408555984497, train_acc: 0.7699999809265137\n"
     ]
    },
    {
     "name": "stderr",
     "output_type": "stream",
     "text": [
      "Train:  99%|████████████████████████████████████████████████████████████████████████▎| 535/540 [00:07<00:00, 81.40it/s]"
     ]
    },
    {
     "name": "stdout",
     "output_type": "stream",
     "text": [
      "1600: train_loss : 0.016807953119277953, train_acc: 0.7799999713897705\n"
     ]
    },
    {
     "name": "stderr",
     "output_type": "stream",
     "text": [
      "Train: 100%|█████████████████████████████████████████████████████████████████████████| 540/540 [00:07<00:00, 69.91it/s]\n",
      "validation: 100%|███████████████████████████████████████████████████████████████████| 600/600 [00:01<00:00, 308.31it/s]\n"
     ]
    },
    {
     "name": "stdout",
     "output_type": "stream",
     "text": [
      "4: epoch, 1620 step: val_loss : 0.17040858685970306, val_acc: 0.7569992542266846\n"
     ]
    },
    {
     "name": "stderr",
     "output_type": "stream",
     "text": [
      "Train:  17%|████████████▋                                                             | 93/540 [00:02<00:05, 76.53it/s]"
     ]
    },
    {
     "name": "stdout",
     "output_type": "stream",
     "text": [
      "1700: train_loss : 0.018210952281951905, train_acc: 0.6399999856948853\n"
     ]
    },
    {
     "name": "stderr",
     "output_type": "stream",
     "text": [
      "Train:  36%|█████████████████████████▉                                               | 192/540 [00:03<00:04, 81.58it/s]"
     ]
    },
    {
     "name": "stdout",
     "output_type": "stream",
     "text": [
      "1800: train_loss : 0.016604750156402587, train_acc: 0.7999999523162842\n"
     ]
    },
    {
     "name": "stderr",
     "output_type": "stream",
     "text": [
      "Train:  54%|███████████████████████████████████████▎                                 | 291/540 [00:04<00:03, 81.62it/s]"
     ]
    },
    {
     "name": "stdout",
     "output_type": "stream",
     "text": [
      "1900: train_loss : 0.017714626789093017, train_acc: 0.6899999976158142\n"
     ]
    },
    {
     "name": "stderr",
     "output_type": "stream",
     "text": [
      "Train:  72%|████████████████████████████████████████████████████▋                    | 390/540 [00:05<00:01, 82.68it/s]"
     ]
    },
    {
     "name": "stdout",
     "output_type": "stream",
     "text": [
      "2000: train_loss : 0.01631150722503662, train_acc: 0.8299999833106995\n"
     ]
    },
    {
     "name": "stderr",
     "output_type": "stream",
     "text": [
      "Train:  91%|██████████████████████████████████████████████████████████████████       | 489/540 [00:07<00:00, 82.31it/s]"
     ]
    },
    {
     "name": "stdout",
     "output_type": "stream",
     "text": [
      "2100: train_loss : 0.01741150617599487, train_acc: 0.7199999690055847\n"
     ]
    },
    {
     "name": "stderr",
     "output_type": "stream",
     "text": [
      "Train: 100%|█████████████████████████████████████████████████████████████████████████| 540/540 [00:07<00:00, 67.94it/s]\n",
      "validation: 100%|███████████████████████████████████████████████████████████████████| 600/600 [00:01<00:00, 305.98it/s]\n"
     ]
    },
    {
     "name": "stdout",
     "output_type": "stream",
     "text": [
      "5: epoch, 2160 step: val_loss : 0.1686010112563768, val_acc: 0.7749997973442078\n"
     ]
    },
    {
     "name": "stderr",
     "output_type": "stream",
     "text": [
      "Train:  10%|███████▋                                                                  | 56/540 [00:01<00:07, 63.40it/s]"
     ]
    },
    {
     "name": "stdout",
     "output_type": "stream",
     "text": [
      "2200: train_loss : 0.017511506080627442, train_acc: 0.7099999785423279\n"
     ]
    },
    {
     "name": "stderr",
     "output_type": "stream",
     "text": [
      "Train:  29%|█████████████████████▏                                                   | 157/540 [00:02<00:04, 80.70it/s]"
     ]
    },
    {
     "name": "stdout",
     "output_type": "stream",
     "text": [
      "2300: train_loss : 0.016111506223678587, train_acc: 0.8499999642372131\n"
     ]
    },
    {
     "name": "stderr",
     "output_type": "stream",
     "text": [
      "Train:  48%|██████████████████████████████████▋                                      | 257/540 [00:04<00:03, 81.96it/s]"
     ]
    },
    {
     "name": "stdout",
     "output_type": "stream",
     "text": [
      "2400: train_loss : 0.017308911085128786, train_acc: 0.7299999594688416\n"
     ]
    },
    {
     "name": "stderr",
     "output_type": "stream",
     "text": [
      "Train:  66%|████████████████████████████████████████████████▎                        | 357/540 [00:05<00:02, 80.30it/s]"
     ]
    },
    {
     "name": "stdout",
     "output_type": "stream",
     "text": [
      "2500: train_loss : 0.016811118125915528, train_acc: 0.7799999713897705\n"
     ]
    },
    {
     "name": "stderr",
     "output_type": "stream",
     "text": [
      "Train:  84%|█████████████████████████████████████████████████████████████▋           | 456/540 [00:06<00:01, 82.01it/s]"
     ]
    },
    {
     "name": "stdout",
     "output_type": "stream",
     "text": [
      "2600: train_loss : 0.017247599363327027, train_acc: 0.7400000095367432\n"
     ]
    },
    {
     "name": "stderr",
     "output_type": "stream",
     "text": [
      "Train: 100%|█████████████████████████████████████████████████████████████████████████| 540/540 [00:07<00:00, 70.05it/s]\n",
      "validation: 100%|███████████████████████████████████████████████████████████████████| 600/600 [00:01<00:00, 308.37it/s]\n"
     ]
    },
    {
     "name": "stdout",
     "output_type": "stream",
     "text": [
      "6: epoch, 2700 step: val_loss : 0.16668299992879199, val_acc: 0.7939988374710083\n"
     ]
    },
    {
     "name": "stderr",
     "output_type": "stream",
     "text": [
      "Train:   3%|██▍                                                                       | 18/540 [00:01<00:22, 23.28it/s]"
     ]
    },
    {
     "name": "stdout",
     "output_type": "stream",
     "text": [
      "2700: train_loss : 0.016911799907684325, train_acc: 0.7699999809265137\n"
     ]
    },
    {
     "name": "stderr",
     "output_type": "stream",
     "text": [
      "Train:  21%|███████████████▋                                                         | 116/540 [00:02<00:05, 79.79it/s]"
     ]
    },
    {
     "name": "stdout",
     "output_type": "stream",
     "text": [
      "2800: train_loss : 0.017011414766311645, train_acc: 0.7599999904632568\n"
     ]
    },
    {
     "name": "stderr",
     "output_type": "stream",
     "text": [
      "Train:  39%|████████████████████████████▎                                            | 209/540 [00:03<00:04, 82.24it/s]"
     ]
    },
    {
     "name": "stdout",
     "output_type": "stream",
     "text": [
      "2900: train_loss : 0.017011506557464598, train_acc: 0.7599999904632568\n"
     ]
    },
    {
     "name": "stderr",
     "output_type": "stream",
     "text": [
      "Train:  57%|█████████████████████████████████████████▉                               | 310/540 [00:04<00:02, 82.67it/s]"
     ]
    },
    {
     "name": "stdout",
     "output_type": "stream",
     "text": [
      "3000: train_loss : 0.016605409383773802, train_acc: 0.7999999523162842\n"
     ]
    },
    {
     "name": "stderr",
     "output_type": "stream",
     "text": [
      "Train:  76%|███████████████████████████████████████████████████████▎                 | 409/540 [00:05<00:01, 81.74it/s]"
     ]
    },
    {
     "name": "stdout",
     "output_type": "stream",
     "text": [
      "3100: train_loss : 0.01661150813102722, train_acc: 0.7999999523162842\n"
     ]
    },
    {
     "name": "stderr",
     "output_type": "stream",
     "text": [
      "Train:  94%|████████████████████████████████████████████████████████████████████▊    | 509/540 [00:07<00:00, 81.54it/s]"
     ]
    },
    {
     "name": "stdout",
     "output_type": "stream",
     "text": [
      "3200: train_loss : 0.016910113096237182, train_acc: 0.7699999809265137\n"
     ]
    },
    {
     "name": "stderr",
     "output_type": "stream",
     "text": [
      "Train: 100%|█████████████████████████████████████████████████████████████████████████| 540/540 [00:07<00:00, 70.49it/s]\n",
      "validation: 100%|███████████████████████████████████████████████████████████████████| 600/600 [00:01<00:00, 312.21it/s]\n"
     ]
    },
    {
     "name": "stdout",
     "output_type": "stream",
     "text": [
      "7: epoch, 3240 step: val_loss : 0.16602268131573963, val_acc: 0.8008321523666382\n"
     ]
    },
    {
     "name": "stderr",
     "output_type": "stream",
     "text": [
      "Train:  12%|█████████▏                                                                | 67/540 [00:01<00:06, 70.07it/s]"
     ]
    },
    {
     "name": "stdout",
     "output_type": "stream",
     "text": [
      "3300: train_loss : 0.017211506366729735, train_acc: 0.7400000095367432\n"
     ]
    },
    {
     "name": "stderr",
     "output_type": "stream",
     "text": [
      "Train:  33%|███████████████████████▊                                                 | 176/540 [00:03<00:04, 83.71it/s]"
     ]
    },
    {
     "name": "stdout",
     "output_type": "stream",
     "text": [
      "3400: train_loss : 0.017611507177352905, train_acc: 0.699999988079071\n"
     ]
    },
    {
     "name": "stderr",
     "output_type": "stream",
     "text": [
      "Train:  51%|█████████████████████████████████████▏                                   | 275/540 [00:04<00:03, 85.19it/s]"
     ]
    },
    {
     "name": "stdout",
     "output_type": "stream",
     "text": [
      "3500: train_loss : 0.016856627464294435, train_acc: 0.7699999809265137\n"
     ]
    },
    {
     "name": "stderr",
     "output_type": "stream",
     "text": [
      "Train:  69%|██████████████████████████████████████████████████▋                      | 375/540 [00:05<00:01, 84.21it/s]"
     ]
    },
    {
     "name": "stdout",
     "output_type": "stream",
     "text": [
      "3600: train_loss : 0.016811506748199465, train_acc: 0.7799999713897705\n"
     ]
    },
    {
     "name": "stderr",
     "output_type": "stream",
     "text": [
      "Train:  88%|████████████████████████████████████████████████████████████████         | 474/540 [00:06<00:00, 80.85it/s]"
     ]
    },
    {
     "name": "stdout",
     "output_type": "stream",
     "text": [
      "3700: train_loss : 0.016514229774475097, train_acc: 0.8100000023841858\n"
     ]
    },
    {
     "name": "stderr",
     "output_type": "stream",
     "text": [
      "Train: 100%|█████████████████████████████████████████████████████████████████████████| 540/540 [00:07<00:00, 70.22it/s]\n",
      "validation: 100%|███████████████████████████████████████████████████████████████████| 600/600 [00:01<00:00, 312.77it/s]\n"
     ]
    },
    {
     "name": "stdout",
     "output_type": "stream",
     "text": [
      "8: epoch, 3780 step: val_loss : 0.16592885400851554, val_acc: 0.8018323183059692\n"
     ]
    },
    {
     "name": "stderr",
     "output_type": "stream",
     "text": [
      "Train:   7%|█████▏                                                                    | 38/540 [00:01<00:10, 48.99it/s]"
     ]
    },
    {
     "name": "stdout",
     "output_type": "stream",
     "text": [
      "3800: train_loss : 0.0164106810092926, train_acc: 0.8199999928474426\n"
     ]
    },
    {
     "name": "stderr",
     "output_type": "stream",
     "text": [
      "Train:  24%|█████████████████▎                                                       | 128/540 [00:02<00:05, 81.59it/s]"
     ]
    },
    {
     "name": "stdout",
     "output_type": "stream",
     "text": [
      "3900: train_loss : 0.01720940113067627, train_acc: 0.7400000095367432\n"
     ]
    },
    {
     "name": "stderr",
     "output_type": "stream",
     "text": [
      "Train:  44%|████████████████████████████████                                         | 237/540 [00:03<00:03, 82.95it/s]"
     ]
    },
    {
     "name": "stdout",
     "output_type": "stream",
     "text": [
      "4000: train_loss : 0.016412103176116945, train_acc: 0.8199999928474426\n"
     ]
    },
    {
     "name": "stderr",
     "output_type": "stream",
     "text": [
      "Train:  62%|█████████████████████████████████████████████▌                           | 337/540 [00:05<00:02, 84.46it/s]"
     ]
    },
    {
     "name": "stdout",
     "output_type": "stream",
     "text": [
      "4100: train_loss : 0.01641150712966919, train_acc: 0.8199999928474426\n"
     ]
    },
    {
     "name": "stderr",
     "output_type": "stream",
     "text": [
      "Train:  81%|███████████████████████████████████████████████████████████              | 437/540 [00:06<00:01, 81.91it/s]"
     ]
    },
    {
     "name": "stdout",
     "output_type": "stream",
     "text": [
      "4200: train_loss : 0.017714183330535888, train_acc: 0.6899999976158142\n"
     ]
    },
    {
     "name": "stderr",
     "output_type": "stream",
     "text": [
      "Train:  99%|████████████████████████████████████████████████████████████████████████▍| 536/540 [00:07<00:00, 81.81it/s]"
     ]
    },
    {
     "name": "stdout",
     "output_type": "stream",
     "text": [
      "4300: train_loss : 0.01631150722503662, train_acc: 0.8299999833106995\n"
     ]
    },
    {
     "name": "stderr",
     "output_type": "stream",
     "text": [
      "Train: 100%|█████████████████████████████████████████████████████████████████████████| 540/540 [00:07<00:00, 70.47it/s]\n",
      "validation: 100%|███████████████████████████████████████████████████████████████████| 600/600 [00:01<00:00, 314.12it/s]\n"
     ]
    },
    {
     "name": "stdout",
     "output_type": "stream",
     "text": [
      "9: epoch, 4320 step: val_loss : 0.16618335803349782, val_acc: 0.7993314266204834\n"
     ]
    },
    {
     "name": "stderr",
     "output_type": "stream",
     "text": [
      "Train:  17%|████████████▌                                                             | 92/540 [00:02<00:05, 77.41it/s]"
     ]
    },
    {
     "name": "stdout",
     "output_type": "stream",
     "text": [
      "4400: train_loss : 0.017011506557464598, train_acc: 0.7599999904632568\n"
     ]
    },
    {
     "name": "stderr",
     "output_type": "stream",
     "text": [
      "Train:  35%|█████████████████████████▊                                               | 191/540 [00:03<00:04, 82.98it/s]"
     ]
    },
    {
     "name": "stdout",
     "output_type": "stream",
     "text": [
      "4500: train_loss : 0.016711506843566894, train_acc: 0.7899999618530273\n"
     ]
    },
    {
     "name": "stderr",
     "output_type": "stream",
     "text": [
      "Train:  54%|███████████████████████████████████████▏                                 | 290/540 [00:04<00:03, 82.17it/s]"
     ]
    },
    {
     "name": "stdout",
     "output_type": "stream",
     "text": [
      "4600: train_loss : 0.016611506938934328, train_acc: 0.7999999523162842\n"
     ]
    },
    {
     "name": "stderr",
     "output_type": "stream",
     "text": [
      "Train:  72%|████████████████████████████████████████████████████▋                    | 390/540 [00:05<00:01, 81.86it/s]"
     ]
    },
    {
     "name": "stdout",
     "output_type": "stream",
     "text": [
      "4700: train_loss : 0.01731150031089783, train_acc: 0.7299999594688416\n"
     ]
    },
    {
     "name": "stderr",
     "output_type": "stream",
     "text": [
      "Train:  91%|██████████████████████████████████████████████████████████████████▏      | 490/540 [00:06<00:00, 83.63it/s]"
     ]
    },
    {
     "name": "stdout",
     "output_type": "stream",
     "text": [
      "4800: train_loss : 0.017111506462097168, train_acc: 0.75\n"
     ]
    },
    {
     "name": "stderr",
     "output_type": "stream",
     "text": [
      "Train: 100%|█████████████████████████████████████████████████████████████████████████| 540/540 [00:07<00:00, 70.50it/s]\n",
      "validation: 100%|███████████████████████████████████████████████████████████████████| 600/600 [00:01<00:00, 310.80it/s]\n"
     ]
    },
    {
     "name": "stdout",
     "output_type": "stream",
     "text": [
      "10: epoch, 4860 step: val_loss : 0.16555345827341045, val_acc: 0.8054991364479065\n"
     ]
    },
    {
     "name": "stderr",
     "output_type": "stream",
     "text": [
      "Train:   9%|██████▋                                                                   | 49/540 [00:01<00:08, 58.24it/s]"
     ]
    },
    {
     "name": "stdout",
     "output_type": "stream",
     "text": [
      "4900: train_loss : 0.016782597303390503, train_acc: 0.7799999713897705\n"
     ]
    },
    {
     "name": "stderr",
     "output_type": "stream",
     "text": [
      "Train:  27%|████████████████████                                                     | 148/540 [00:02<00:04, 83.04it/s]"
     ]
    },
    {
     "name": "stdout",
     "output_type": "stream",
     "text": [
      "5000: train_loss : 0.017111506462097168, train_acc: 0.75\n"
     ]
    },
    {
     "name": "stderr",
     "output_type": "stream",
     "text": [
      "Train:  47%|██████████████████████████████████▌                                      | 256/540 [00:04<00:03, 80.65it/s]"
     ]
    },
    {
     "name": "stdout",
     "output_type": "stream",
     "text": [
      "5100: train_loss : 0.016822097301483156, train_acc: 0.7799999713897705\n"
     ]
    },
    {
     "name": "stderr",
     "output_type": "stream",
     "text": [
      "Train:  64%|███████████████████████████████████████████████                          | 348/540 [00:05<00:02, 78.64it/s]"
     ]
    },
    {
     "name": "stdout",
     "output_type": "stream",
     "text": [
      "5200: train_loss : 0.01691150665283203, train_acc: 0.7699999809265137\n"
     ]
    },
    {
     "name": "stderr",
     "output_type": "stream",
     "text": [
      "Train:  85%|█████████████████████████████████████████████████████████████▊           | 457/540 [00:06<00:01, 80.95it/s]"
     ]
    },
    {
     "name": "stdout",
     "output_type": "stream",
     "text": [
      "5300: train_loss : 0.0167154324054718, train_acc: 0.7899999618530273\n"
     ]
    },
    {
     "name": "stderr",
     "output_type": "stream",
     "text": [
      "Train: 100%|█████████████████████████████████████████████████████████████████████████| 540/540 [00:07<00:00, 69.41it/s]\n",
      "validation: 100%|███████████████████████████████████████████████████████████████████| 600/600 [00:01<00:00, 302.50it/s]\n"
     ]
    },
    {
     "name": "stdout",
     "output_type": "stream",
     "text": [
      "11: epoch, 5400 step: val_loss : 0.16667701450983646, val_acc: 0.7943322062492371\n"
     ]
    },
    {
     "name": "stderr",
     "output_type": "stream",
     "text": [
      "Train:   2%|█▋                                                                        | 12/540 [00:01<00:36, 14.49it/s]"
     ]
    },
    {
     "name": "stdout",
     "output_type": "stream",
     "text": [
      "5400: train_loss : 0.01631150722503662, train_acc: 0.8299999833106995\n"
     ]
    },
    {
     "name": "stderr",
     "output_type": "stream",
     "text": [
      "Train:  21%|███████████████▎                                                         | 113/540 [00:02<00:05, 78.30it/s]"
     ]
    },
    {
     "name": "stdout",
     "output_type": "stream",
     "text": [
      "5500: train_loss : 0.017109460830688476, train_acc: 0.75\n"
     ]
    },
    {
     "name": "stderr",
     "output_type": "stream",
     "text": [
      "Train:  39%|████████████████████████████▊                                            | 213/540 [00:03<00:04, 79.46it/s]"
     ]
    },
    {
     "name": "stdout",
     "output_type": "stream",
     "text": [
      "5600: train_loss : 0.017110060453414917, train_acc: 0.75\n"
     ]
    },
    {
     "name": "stderr",
     "output_type": "stream",
     "text": [
      "Train:  58%|██████████████████████████████████████████▍                              | 314/540 [00:05<00:02, 80.31it/s]"
     ]
    },
    {
     "name": "stdout",
     "output_type": "stream",
     "text": [
      "5700: train_loss : 0.016711816787719727, train_acc: 0.7899999618530273\n"
     ]
    },
    {
     "name": "stderr",
     "output_type": "stream",
     "text": [
      "Train:  76%|███████████████████████████████████████████████████████▋                 | 412/540 [00:06<00:01, 81.66it/s]"
     ]
    },
    {
     "name": "stdout",
     "output_type": "stream",
     "text": [
      "5800: train_loss : 0.016711506843566894, train_acc: 0.7899999618530273\n"
     ]
    },
    {
     "name": "stderr",
     "output_type": "stream",
     "text": [
      "Train:  95%|█████████████████████████████████████████████████████████████████████    | 511/540 [00:07<00:00, 83.99it/s]"
     ]
    },
    {
     "name": "stdout",
     "output_type": "stream",
     "text": [
      "5900: train_loss : 0.016611506938934328, train_acc: 0.7999999523162842\n"
     ]
    },
    {
     "name": "stderr",
     "output_type": "stream",
     "text": [
      "Train: 100%|█████████████████████████████████████████████████████████████████████████| 540/540 [00:07<00:00, 67.86it/s]\n",
      "validation: 100%|███████████████████████████████████████████████████████████████████| 600/600 [00:01<00:00, 307.82it/s]\n"
     ]
    },
    {
     "name": "stdout",
     "output_type": "stream",
     "text": [
      "12: epoch, 5940 step: val_loss : 0.16634342581033684, val_acc: 0.7976654767990112\n"
     ]
    },
    {
     "name": "stderr",
     "output_type": "stream",
     "text": [
      "Train:  13%|█████████▋                                                                | 71/540 [00:01<00:06, 71.03it/s]"
     ]
    },
    {
     "name": "stdout",
     "output_type": "stream",
     "text": [
      "6000: train_loss : 0.01641150712966919, train_acc: 0.8199999928474426\n"
     ]
    },
    {
     "name": "stderr",
     "output_type": "stream",
     "text": [
      "Train:  32%|███████████████████████                                                  | 171/540 [00:03<00:04, 81.87it/s]"
     ]
    },
    {
     "name": "stdout",
     "output_type": "stream",
     "text": [
      "6100: train_loss : 0.01641150712966919, train_acc: 0.8199999928474426\n"
     ]
    },
    {
     "name": "stderr",
     "output_type": "stream",
     "text": [
      "Train:  50%|████████████████████████████████████▌                                    | 270/540 [00:04<00:03, 82.10it/s]"
     ]
    },
    {
     "name": "stdout",
     "output_type": "stream",
     "text": [
      "6200: train_loss : 0.016411417722702028, train_acc: 0.8199999928474426\n"
     ]
    },
    {
     "name": "stderr",
     "output_type": "stream",
     "text": [
      "Train:  69%|██████████████████████████████████████████████████                       | 370/540 [00:05<00:02, 80.55it/s]"
     ]
    },
    {
     "name": "stdout",
     "output_type": "stream",
     "text": [
      "6300: train_loss : 0.017011506557464598, train_acc: 0.7599999904632568\n"
     ]
    },
    {
     "name": "stderr",
     "output_type": "stream",
     "text": [
      "Train:  87%|███████████████████████████████████████████████████████████████▍         | 469/540 [00:06<00:00, 81.34it/s]"
     ]
    },
    {
     "name": "stdout",
     "output_type": "stream",
     "text": [
      "6400: train_loss : 0.016811506748199465, train_acc: 0.7799999713897705\n"
     ]
    },
    {
     "name": "stderr",
     "output_type": "stream",
     "text": [
      "Train: 100%|█████████████████████████████████████████████████████████████████████████| 540/540 [00:07<00:00, 69.43it/s]\n",
      "validation: 100%|███████████████████████████████████████████████████████████████████| 600/600 [00:01<00:00, 310.96it/s]\n"
     ]
    },
    {
     "name": "stdout",
     "output_type": "stream",
     "text": [
      "13: epoch, 6480 step: val_loss : 0.1701265934904416, val_acc: 0.7598332166671753\n"
     ]
    },
    {
     "name": "stderr",
     "output_type": "stream",
     "text": [
      "Train:   5%|███▊                                                                      | 28/540 [00:01<00:13, 37.45it/s]"
     ]
    },
    {
     "name": "stdout",
     "output_type": "stream",
     "text": [
      "6500: train_loss : 0.017511494159698486, train_acc: 0.7099999785423279\n"
     ]
    },
    {
     "name": "stderr",
     "output_type": "stream",
     "text": [
      "Train:  24%|█████████████████▏                                                       | 127/540 [00:02<00:05, 79.19it/s]"
     ]
    },
    {
     "name": "stdout",
     "output_type": "stream",
     "text": [
      "6600: train_loss : 0.017011506557464598, train_acc: 0.7599999904632568\n"
     ]
    },
    {
     "name": "stderr",
     "output_type": "stream",
     "text": [
      "Train:  44%|███████████████████████████████▊                                         | 235/540 [00:03<00:03, 80.97it/s]"
     ]
    },
    {
     "name": "stdout",
     "output_type": "stream",
     "text": [
      "6700: train_loss : 0.016211506128311157, train_acc: 0.8399999737739563\n"
     ]
    },
    {
     "name": "stderr",
     "output_type": "stream",
     "text": [
      "Train:  62%|█████████████████████████████████████████████▏                           | 334/540 [00:05<00:02, 81.20it/s]"
     ]
    },
    {
     "name": "stdout",
     "output_type": "stream",
     "text": [
      "6800: train_loss : 0.016711506843566894, train_acc: 0.7899999618530273\n"
     ]
    },
    {
     "name": "stderr",
     "output_type": "stream",
     "text": [
      "Train:  80%|██████████████████████████████████████████████████████████▌              | 433/540 [00:06<00:01, 81.25it/s]"
     ]
    },
    {
     "name": "stdout",
     "output_type": "stream",
     "text": [
      "6900: train_loss : 0.017211506366729735, train_acc: 0.7400000095367432\n"
     ]
    },
    {
     "name": "stderr",
     "output_type": "stream",
     "text": [
      "Train:  99%|███████████████████████████████████████████████████████████████████████▉ | 532/540 [00:07<00:00, 81.20it/s]"
     ]
    },
    {
     "name": "stdout",
     "output_type": "stream",
     "text": [
      "7000: train_loss : 0.018111506700515746, train_acc: 0.6499999761581421\n"
     ]
    },
    {
     "name": "stderr",
     "output_type": "stream",
     "text": [
      "Train: 100%|█████████████████████████████████████████████████████████████████████████| 540/540 [00:07<00:00, 68.69it/s]\n",
      "validation: 100%|███████████████████████████████████████████████████████████████████| 600/600 [00:02<00:00, 283.74it/s]\n"
     ]
    },
    {
     "name": "stdout",
     "output_type": "stream",
     "text": [
      "14: epoch, 7020 step: val_loss : 0.17175844526290876, val_acc: 0.7436666488647461\n"
     ]
    },
    {
     "name": "stderr",
     "output_type": "stream",
     "text": [
      "Train:  17%|████████████▉                                                             | 94/540 [00:02<00:05, 75.47it/s]"
     ]
    },
    {
     "name": "stdout",
     "output_type": "stream",
     "text": [
      "7100: train_loss : 0.01691150665283203, train_acc: 0.7699999809265137\n"
     ]
    },
    {
     "name": "stderr",
     "output_type": "stream",
     "text": [
      "Train:  36%|██████████████████████████▎                                              | 195/540 [00:03<00:04, 80.25it/s]"
     ]
    },
    {
     "name": "stdout",
     "output_type": "stream",
     "text": [
      "7200: train_loss : 0.016511507034301758, train_acc: 0.8100000023841858\n"
     ]
    },
    {
     "name": "stderr",
     "output_type": "stream",
     "text": [
      "Train:  54%|███████████████████████████████████████▋                                 | 294/540 [00:04<00:03, 80.53it/s]"
     ]
    },
    {
     "name": "stdout",
     "output_type": "stream",
     "text": [
      "7300: train_loss : 0.016511507034301758, train_acc: 0.8100000023841858\n"
     ]
    },
    {
     "name": "stderr",
     "output_type": "stream",
     "text": [
      "Train:  73%|█████████████████████████████████████████████████████▏                   | 393/540 [00:06<00:01, 82.19it/s]"
     ]
    },
    {
     "name": "stdout",
     "output_type": "stream",
     "text": [
      "7400: train_loss : 0.01691150665283203, train_acc: 0.7699999809265137\n"
     ]
    },
    {
     "name": "stderr",
     "output_type": "stream",
     "text": [
      "Train:  91%|██████████████████████████████████████████████████████████████████▌      | 492/540 [00:07<00:00, 82.03it/s]"
     ]
    },
    {
     "name": "stdout",
     "output_type": "stream",
     "text": [
      "7500: train_loss : 0.015911558866500853, train_acc: 0.8700000047683716\n"
     ]
    },
    {
     "name": "stderr",
     "output_type": "stream",
     "text": [
      "Train: 100%|█████████████████████████████████████████████████████████████████████████| 540/540 [00:07<00:00, 68.17it/s]\n",
      "validation: 100%|███████████████████████████████████████████████████████████████████| 600/600 [00:02<00:00, 297.77it/s]\n"
     ]
    },
    {
     "name": "stdout",
     "output_type": "stream",
     "text": [
      "15: epoch, 7560 step: val_loss : 0.17588911235332502, val_acc: 0.7021669745445251\n"
     ]
    },
    {
     "name": "stderr",
     "output_type": "stream",
     "text": [
      "Train:  10%|███████▋                                                                  | 56/540 [00:01<00:07, 62.80it/s]"
     ]
    },
    {
     "name": "stdout",
     "output_type": "stream",
     "text": [
      "7600: train_loss : 0.017211610078811647, train_acc: 0.7400000095367432\n"
     ]
    },
    {
     "name": "stderr",
     "output_type": "stream",
     "text": [
      "Train:  28%|████████████████████▋                                                    | 153/540 [00:02<00:04, 80.56it/s]"
     ]
    },
    {
     "name": "stdout",
     "output_type": "stream",
     "text": [
      "7700: train_loss : 0.016411296129226684, train_acc: 0.8199999928474426\n"
     ]
    },
    {
     "name": "stderr",
     "output_type": "stream",
     "text": [
      "Train:  47%|██████████████████████████████████                                       | 252/540 [00:04<00:03, 81.08it/s]"
     ]
    },
    {
     "name": "stdout",
     "output_type": "stream",
     "text": [
      "7800: train_loss : 0.016711311340332033, train_acc: 0.7899999618530273\n"
     ]
    },
    {
     "name": "stderr",
     "output_type": "stream",
     "text": [
      "Train:  65%|███████████████████████████████████████████████▍                         | 351/540 [00:05<00:02, 81.46it/s]"
     ]
    },
    {
     "name": "stdout",
     "output_type": "stream",
     "text": [
      "7900: train_loss : 0.016311502456665038, train_acc: 0.8299999833106995\n"
     ]
    },
    {
     "name": "stderr",
     "output_type": "stream",
     "text": [
      "Train:  83%|████████████████████████████████████████████████████████████▊            | 450/540 [00:06<00:01, 81.37it/s]"
     ]
    },
    {
     "name": "stdout",
     "output_type": "stream",
     "text": [
      "8000: train_loss : 0.01631150722503662, train_acc: 0.8299999833106995\n"
     ]
    },
    {
     "name": "stderr",
     "output_type": "stream",
     "text": [
      "Train: 100%|█████████████████████████████████████████████████████████████████████████| 540/540 [00:07<00:00, 68.99it/s]\n",
      "validation: 100%|███████████████████████████████████████████████████████████████████| 600/600 [00:02<00:00, 299.27it/s]\n"
     ]
    },
    {
     "name": "stdout",
     "output_type": "stream",
     "text": [
      "16: epoch, 8100 step: val_loss : 0.16915179711580272, val_acc: 0.7696660757064819\n"
     ]
    },
    {
     "name": "stderr",
     "output_type": "stream",
     "text": [
      "Train:   1%|▊                                                                          | 6/540 [00:01<01:14,  7.14it/s]"
     ]
    },
    {
     "name": "stdout",
     "output_type": "stream",
     "text": [
      "8100: train_loss : 0.016811506748199465, train_acc: 0.7799999713897705\n"
     ]
    },
    {
     "name": "stderr",
     "output_type": "stream",
     "text": [
      "Train:  21%|███████████████                                                          | 111/540 [00:02<00:05, 79.50it/s]"
     ]
    },
    {
     "name": "stdout",
     "output_type": "stream",
     "text": [
      "8200: train_loss : 0.017311506271362305, train_acc: 0.7299999594688416\n"
     ]
    },
    {
     "name": "stderr",
     "output_type": "stream",
     "text": [
      "Train:  39%|████████████████████████████▍                                            | 210/540 [00:03<00:03, 82.79it/s]"
     ]
    },
    {
     "name": "stdout",
     "output_type": "stream",
     "text": [
      "8300: train_loss : 0.018011505603790282, train_acc: 0.6599999666213989\n"
     ]
    },
    {
     "name": "stderr",
     "output_type": "stream",
     "text": [
      "Train:  57%|█████████████████████████████████████████▊                               | 309/540 [00:04<00:02, 82.22it/s]"
     ]
    },
    {
     "name": "stdout",
     "output_type": "stream",
     "text": [
      "8400: train_loss : 0.017211506366729735, train_acc: 0.7400000095367432\n"
     ]
    },
    {
     "name": "stderr",
     "output_type": "stream",
     "text": [
      "Train:  76%|███████████████████████████████████████████████████████▏                 | 408/540 [00:06<00:01, 82.92it/s]"
     ]
    },
    {
     "name": "stdout",
     "output_type": "stream",
     "text": [
      "8500: train_loss : 0.016611506938934328, train_acc: 0.7999999523162842\n"
     ]
    },
    {
     "name": "stderr",
     "output_type": "stream",
     "text": [
      "Train:  96%|█████████████████████████████████████████████████████████████████████▉   | 517/540 [00:07<00:00, 84.45it/s]"
     ]
    },
    {
     "name": "stdout",
     "output_type": "stream",
     "text": [
      "8600: train_loss : 0.017311506271362305, train_acc: 0.7299999594688416\n"
     ]
    },
    {
     "name": "stderr",
     "output_type": "stream",
     "text": [
      "Train: 100%|█████████████████████████████████████████████████████████████████████████| 540/540 [00:07<00:00, 70.28it/s]\n",
      "validation: 100%|███████████████████████████████████████████████████████████████████| 600/600 [00:01<00:00, 311.88it/s]\n"
     ]
    },
    {
     "name": "stdout",
     "output_type": "stream",
     "text": [
      "17: epoch, 8640 step: val_loss : 0.17384660945336042, val_acc: 0.7226669192314148\n"
     ]
    },
    {
     "name": "stderr",
     "output_type": "stream",
     "text": [
      "Train:  14%|██████████▎                                                               | 75/540 [00:01<00:06, 72.87it/s]"
     ]
    },
    {
     "name": "stdout",
     "output_type": "stream",
     "text": [
      "8700: train_loss : 0.016511507034301758, train_acc: 0.8100000023841858\n"
     ]
    },
    {
     "name": "stderr",
     "output_type": "stream",
     "text": [
      "Train:  32%|███████████████████████▋                                                 | 175/540 [00:03<00:04, 83.29it/s]"
     ]
    },
    {
     "name": "stdout",
     "output_type": "stream",
     "text": [
      "8800: train_loss : 0.016611449718475342, train_acc: 0.7999999523162842\n"
     ]
    },
    {
     "name": "stderr",
     "output_type": "stream",
     "text": [
      "Train:  51%|█████████████████████████████████████▏                                   | 275/540 [00:04<00:03, 80.54it/s]"
     ]
    },
    {
     "name": "stdout",
     "output_type": "stream",
     "text": [
      "8900: train_loss : 0.017011506557464598, train_acc: 0.7599999904632568\n"
     ]
    },
    {
     "name": "stderr",
     "output_type": "stream",
     "text": [
      "Train:  69%|██████████████████████████████████████████████████▌                      | 374/540 [00:05<00:02, 82.67it/s]"
     ]
    },
    {
     "name": "stdout",
     "output_type": "stream",
     "text": [
      "9000: train_loss : 0.01641150712966919, train_acc: 0.8199999928474426\n"
     ]
    },
    {
     "name": "stderr",
     "output_type": "stream",
     "text": [
      "Train:  88%|████████████████████████████████████████████████████████████████         | 474/540 [00:06<00:00, 83.26it/s]"
     ]
    },
    {
     "name": "stdout",
     "output_type": "stream",
     "text": [
      "9100: train_loss : 0.016511507034301758, train_acc: 0.8100000023841858\n"
     ]
    },
    {
     "name": "stderr",
     "output_type": "stream",
     "text": [
      "Train: 100%|█████████████████████████████████████████████████████████████████████████| 540/540 [00:07<00:00, 69.97it/s]\n",
      "validation: 100%|███████████████████████████████████████████████████████████████████| 600/600 [00:01<00:00, 310.43it/s]\n"
     ]
    },
    {
     "name": "stdout",
     "output_type": "stream",
     "text": [
      "18: epoch, 9180 step: val_loss : 0.16618190073966943, val_acc: 0.7993322014808655\n"
     ]
    },
    {
     "name": "stderr",
     "output_type": "stream",
     "text": [
      "Train:   6%|████▏                                                                     | 31/540 [00:01<00:13, 39.11it/s]"
     ]
    },
    {
     "name": "stdout",
     "output_type": "stream",
     "text": [
      "9200: train_loss : 0.01631150722503662, train_acc: 0.8299999833106995\n"
     ]
    },
    {
     "name": "stderr",
     "output_type": "stream",
     "text": [
      "Train:  24%|█████████████████▌                                                       | 130/540 [00:02<00:04, 82.55it/s]"
     ]
    },
    {
     "name": "stdout",
     "output_type": "stream",
     "text": [
      "9300: train_loss : 0.016611272096633913, train_acc: 0.7999999523162842\n"
     ]
    },
    {
     "name": "stderr",
     "output_type": "stream",
     "text": [
      "Train:  43%|███████████████████████████████                                          | 230/540 [00:03<00:03, 81.19it/s]"
     ]
    },
    {
     "name": "stdout",
     "output_type": "stream",
     "text": [
      "9400: train_loss : 0.015811506509780884, train_acc: 0.8799999952316284\n"
     ]
    },
    {
     "name": "stderr",
     "output_type": "stream",
     "text": [
      "Train:  61%|████████████████████████████████████████████▍                            | 329/540 [00:05<00:02, 82.67it/s]"
     ]
    },
    {
     "name": "stdout",
     "output_type": "stream",
     "text": [
      "9500: train_loss : 0.016812062263488768, train_acc: 0.7799999713897705\n"
     ]
    },
    {
     "name": "stderr",
     "output_type": "stream",
     "text": [
      "Train:  80%|██████████████████████████████████████████████████████████▍              | 432/540 [00:06<00:01, 80.87it/s]"
     ]
    },
    {
     "name": "stdout",
     "output_type": "stream",
     "text": [
      "9600: train_loss : 0.016811506748199465, train_acc: 0.7799999713897705\n"
     ]
    },
    {
     "name": "stderr",
     "output_type": "stream",
     "text": [
      "Train:  99%|████████████████████████████████████████████████████████████████████████▏| 534/540 [00:07<00:00, 80.50it/s]"
     ]
    },
    {
     "name": "stdout",
     "output_type": "stream",
     "text": [
      "9700: train_loss : 0.017011506557464598, train_acc: 0.7599999904632568\n"
     ]
    },
    {
     "name": "stderr",
     "output_type": "stream",
     "text": [
      "Train: 100%|█████████████████████████████████████████████████████████████████████████| 540/540 [00:07<00:00, 69.73it/s]\n",
      "validation: 100%|███████████████████████████████████████████████████████████████████| 600/600 [00:01<00:00, 308.93it/s]\n"
     ]
    },
    {
     "name": "stdout",
     "output_type": "stream",
     "text": [
      "19: epoch, 9720 step: val_loss : 0.16758218723535506, val_acc: 0.7853325009346008\n"
     ]
    },
    {
     "name": "stderr",
     "output_type": "stream",
     "text": [
      "Train:  17%|████████████▌                                                             | 92/540 [00:02<00:05, 77.49it/s]"
     ]
    },
    {
     "name": "stdout",
     "output_type": "stream",
     "text": [
      "9800: train_loss : 0.01680982708930969, train_acc: 0.7799999713897705\n"
     ]
    },
    {
     "name": "stderr",
     "output_type": "stream",
     "text": [
      "Train:  36%|██████████████████████████                                               | 193/540 [00:03<00:04, 80.58it/s]"
     ]
    },
    {
     "name": "stdout",
     "output_type": "stream",
     "text": [
      "9900: train_loss : 0.016811506748199465, train_acc: 0.7799999713897705\n"
     ]
    },
    {
     "name": "stderr",
     "output_type": "stream",
     "text": [
      "Train:  54%|███████████████████████████████████████▌                                 | 293/540 [00:04<00:02, 82.82it/s]"
     ]
    },
    {
     "name": "stdout",
     "output_type": "stream",
     "text": [
      "10000: train_loss : 0.01691150665283203, train_acc: 0.7699999809265137\n"
     ]
    },
    {
     "name": "stderr",
     "output_type": "stream",
     "text": [
      "Train:  73%|█████████████████████████████████████████████████████▍                   | 395/540 [00:05<00:01, 80.13it/s]"
     ]
    },
    {
     "name": "stdout",
     "output_type": "stream",
     "text": [
      "10100: train_loss : 0.017811506986618042, train_acc: 0.6800000071525574\n"
     ]
    },
    {
     "name": "stderr",
     "output_type": "stream",
     "text": [
      "Train:  92%|███████████████████████████████████████████████████████████████████▏     | 497/540 [00:07<00:00, 83.40it/s]"
     ]
    },
    {
     "name": "stdout",
     "output_type": "stream",
     "text": [
      "10200: train_loss : 0.01631150722503662, train_acc: 0.8299999833106995\n"
     ]
    },
    {
     "name": "stderr",
     "output_type": "stream",
     "text": [
      "Train: 100%|█████████████████████████████████████████████████████████████████████████| 540/540 [00:07<00:00, 69.89it/s]\n",
      "validation: 100%|███████████████████████████████████████████████████████████████████| 600/600 [00:02<00:00, 299.44it/s]\n"
     ]
    },
    {
     "name": "stdout",
     "output_type": "stream",
     "text": [
      "20: epoch, 10260 step: val_loss : 0.16544396440188058, val_acc: 0.8066650629043579\n"
     ]
    },
    {
     "name": "stderr",
     "output_type": "stream",
     "text": [
      "Train:  10%|███████▍                                                                  | 54/540 [00:01<00:07, 63.06it/s]"
     ]
    },
    {
     "name": "stdout",
     "output_type": "stream",
     "text": [
      "10300: train_loss : 0.01801150679588318, train_acc: 0.6599999666213989\n"
     ]
    },
    {
     "name": "stderr",
     "output_type": "stream",
     "text": [
      "Train:  28%|████████████████████▋                                                    | 153/540 [00:02<00:04, 82.03it/s]"
     ]
    },
    {
     "name": "stdout",
     "output_type": "stream",
     "text": [
      "10400: train_loss : 0.016711506843566894, train_acc: 0.7899999618530273\n"
     ]
    },
    {
     "name": "stderr",
     "output_type": "stream",
     "text": [
      "Train:  47%|██████████████████████████████████▎                                      | 254/540 [00:04<00:03, 80.07it/s]"
     ]
    },
    {
     "name": "stdout",
     "output_type": "stream",
     "text": [
      "10500: train_loss : 0.016511507034301758, train_acc: 0.8100000023841858\n"
     ]
    },
    {
     "name": "stderr",
     "output_type": "stream",
     "text": [
      "Train:  65%|███████████████████████████████████████████████▋                         | 353/540 [00:05<00:02, 83.28it/s]"
     ]
    },
    {
     "name": "stdout",
     "output_type": "stream",
     "text": [
      "10600: train_loss : 0.016710786819458007, train_acc: 0.7899999618530273\n"
     ]
    },
    {
     "name": "stderr",
     "output_type": "stream",
     "text": [
      "Train:  84%|█████████████████████████████████████████████████████████████▏           | 453/540 [00:06<00:01, 83.26it/s]"
     ]
    },
    {
     "name": "stdout",
     "output_type": "stream",
     "text": [
      "10700: train_loss : 0.01631150722503662, train_acc: 0.8299999833106995\n"
     ]
    },
    {
     "name": "stderr",
     "output_type": "stream",
     "text": [
      "Train: 100%|█████████████████████████████████████████████████████████████████████████| 540/540 [00:07<00:00, 69.06it/s]\n",
      "validation: 100%|███████████████████████████████████████████████████████████████████| 600/600 [00:01<00:00, 308.83it/s]\n"
     ]
    },
    {
     "name": "stdout",
     "output_type": "stream",
     "text": [
      "21: epoch, 10800 step: val_loss : 0.16753303517897894, val_acc: 0.7858321070671082\n"
     ]
    },
    {
     "name": "stderr",
     "output_type": "stream",
     "text": [
      "Train:   2%|█▎                                                                         | 9/540 [00:01<00:46, 11.52it/s]"
     ]
    },
    {
     "name": "stdout",
     "output_type": "stream",
     "text": [
      "10800: train_loss : 0.017211506366729735, train_acc: 0.7400000095367432\n"
     ]
    },
    {
     "name": "stderr",
     "output_type": "stream",
     "text": [
      "Train:  21%|███████████████▎                                                         | 113/540 [00:02<00:05, 79.37it/s]"
     ]
    },
    {
     "name": "stdout",
     "output_type": "stream",
     "text": [
      "10900: train_loss : 0.016711506843566894, train_acc: 0.7899999618530273\n"
     ]
    },
    {
     "name": "stderr",
     "output_type": "stream",
     "text": [
      "Train:  40%|████████████████████████████▉                                            | 214/540 [00:03<00:03, 81.87it/s]"
     ]
    },
    {
     "name": "stdout",
     "output_type": "stream",
     "text": [
      "11000: train_loss : 0.016111506223678587, train_acc: 0.8499999642372131\n"
     ]
    },
    {
     "name": "stderr",
     "output_type": "stream",
     "text": [
      "Train:  58%|██████████████████████████████████████████▍                              | 314/540 [00:04<00:02, 83.73it/s]"
     ]
    },
    {
     "name": "stdout",
     "output_type": "stream",
     "text": [
      "11100: train_loss : 0.01631150722503662, train_acc: 0.8299999833106995\n"
     ]
    },
    {
     "name": "stderr",
     "output_type": "stream",
     "text": [
      "Train:  76%|███████████████████████████████████████████████████████▊                 | 413/540 [00:05<00:01, 81.18it/s]"
     ]
    },
    {
     "name": "stdout",
     "output_type": "stream",
     "text": [
      "11200: train_loss : 0.017111506462097168, train_acc: 0.75\n"
     ]
    },
    {
     "name": "stderr",
     "output_type": "stream",
     "text": [
      "Train:  95%|█████████████████████████████████████████████████████████████████████▎   | 513/540 [00:07<00:00, 81.88it/s]"
     ]
    },
    {
     "name": "stdout",
     "output_type": "stream",
     "text": [
      "11300: train_loss : 0.016611506938934328, train_acc: 0.7999999523162842\n"
     ]
    },
    {
     "name": "stderr",
     "output_type": "stream",
     "text": [
      "Train: 100%|█████████████████████████████████████████████████████████████████████████| 540/540 [00:07<00:00, 70.70it/s]\n",
      "validation: 100%|███████████████████████████████████████████████████████████████████| 600/600 [00:01<00:00, 313.09it/s]\n"
     ]
    },
    {
     "name": "stdout",
     "output_type": "stream",
     "text": [
      "22: epoch, 11340 step: val_loss : 0.16737054763237624, val_acc: 0.78733229637146\n"
     ]
    },
    {
     "name": "stderr",
     "output_type": "stream",
     "text": [
      "Train:  13%|█████████▋                                                                | 71/540 [00:01<00:06, 71.49it/s]"
     ]
    },
    {
     "name": "stdout",
     "output_type": "stream",
     "text": [
      "11400: train_loss : 0.016811506748199465, train_acc: 0.7799999713897705\n"
     ]
    },
    {
     "name": "stderr",
     "output_type": "stream",
     "text": [
      "Train:  31%|██████████████████████▉                                                  | 170/540 [00:03<00:04, 80.78it/s]"
     ]
    },
    {
     "name": "stdout",
     "output_type": "stream",
     "text": [
      "11500: train_loss : 0.017711547613143922, train_acc: 0.6899999976158142\n"
     ]
    },
    {
     "name": "stderr",
     "output_type": "stream",
     "text": [
      "Train:  50%|████████████████████████████████████▋                                    | 271/540 [00:04<00:03, 85.51it/s]"
     ]
    },
    {
     "name": "stdout",
     "output_type": "stream",
     "text": [
      "11600: train_loss : 0.01741150617599487, train_acc: 0.7199999690055847\n"
     ]
    },
    {
     "name": "stderr",
     "output_type": "stream",
     "text": [
      "Train:  69%|██████████████████████████████████████████████████                       | 370/540 [00:05<00:02, 82.26it/s]"
     ]
    },
    {
     "name": "stdout",
     "output_type": "stream",
     "text": [
      "11700: train_loss : 0.01741150617599487, train_acc: 0.7199999690055847\n"
     ]
    },
    {
     "name": "stderr",
     "output_type": "stream",
     "text": [
      "Train:  87%|███████████████████████████████████████████████████████████████▋         | 471/540 [00:06<00:00, 81.48it/s]"
     ]
    },
    {
     "name": "stdout",
     "output_type": "stream",
     "text": [
      "11800: train_loss : 0.016811506748199465, train_acc: 0.7799999713897705\n"
     ]
    },
    {
     "name": "stderr",
     "output_type": "stream",
     "text": [
      "Train: 100%|█████████████████████████████████████████████████████████████████████████| 540/540 [00:07<00:00, 70.01it/s]\n",
      "validation: 100%|███████████████████████████████████████████████████████████████████| 600/600 [00:01<00:00, 308.93it/s]\n"
     ]
    },
    {
     "name": "stdout",
     "output_type": "stream",
     "text": [
      "23: epoch, 11880 step: val_loss : 0.16703743525346093, val_acc: 0.790831983089447\n"
     ]
    },
    {
     "name": "stderr",
     "output_type": "stream",
     "text": [
      "Train:   6%|████▊                                                                     | 35/540 [00:01<00:10, 47.82it/s]"
     ]
    },
    {
     "name": "stdout",
     "output_type": "stream",
     "text": [
      "11900: train_loss : 0.017311506271362305, train_acc: 0.7299999594688416\n"
     ]
    },
    {
     "name": "stderr",
     "output_type": "stream",
     "text": [
      "Train:  25%|█████████████████▉                                                       | 133/540 [00:02<00:05, 80.05it/s]"
     ]
    },
    {
     "name": "stdout",
     "output_type": "stream",
     "text": [
      "12000: train_loss : 0.01741151452064514, train_acc: 0.7199999690055847\n"
     ]
    },
    {
     "name": "stderr",
     "output_type": "stream",
     "text": [
      "Train:  43%|███████████████████████████████▋                                         | 234/540 [00:03<00:03, 83.10it/s]"
     ]
    },
    {
     "name": "stdout",
     "output_type": "stream",
     "text": [
      "12100: train_loss : 0.016711506843566894, train_acc: 0.7899999618530273\n"
     ]
    },
    {
     "name": "stderr",
     "output_type": "stream",
     "text": [
      "Train:  62%|█████████████████████████████████████████████▎                           | 335/540 [00:05<00:02, 84.53it/s]"
     ]
    },
    {
     "name": "stdout",
     "output_type": "stream",
     "text": [
      "12200: train_loss : 0.01741150617599487, train_acc: 0.7199999690055847\n"
     ]
    },
    {
     "name": "stderr",
     "output_type": "stream",
     "text": [
      "Train:  81%|██████████████████████████████████████████████████████████▊              | 435/540 [00:06<00:01, 82.09it/s]"
     ]
    },
    {
     "name": "stdout",
     "output_type": "stream",
     "text": [
      "12300: train_loss : 0.01691150665283203, train_acc: 0.7699999809265137\n"
     ]
    },
    {
     "name": "stderr",
     "output_type": "stream",
     "text": [
      "Train:  99%|████████████████████████████████████████████████████████████████████████▌| 537/540 [00:07<00:00, 83.12it/s]"
     ]
    },
    {
     "name": "stdout",
     "output_type": "stream",
     "text": [
      "12400: train_loss : 0.016511507034301758, train_acc: 0.8100000023841858\n"
     ]
    },
    {
     "name": "stderr",
     "output_type": "stream",
     "text": [
      "Train: 100%|█████████████████████████████████████████████████████████████████████████| 540/540 [00:07<00:00, 70.37it/s]\n",
      "validation: 100%|███████████████████████████████████████████████████████████████████| 600/600 [00:01<00:00, 308.86it/s]\n"
     ]
    },
    {
     "name": "stdout",
     "output_type": "stream",
     "text": [
      "24: epoch, 12420 step: val_loss : 0.16531998223066308, val_acc: 0.8078318238258362\n"
     ]
    },
    {
     "name": "stderr",
     "output_type": "stream",
     "text": [
      "Train:  18%|█████████████                                                             | 95/540 [00:02<00:05, 77.79it/s]"
     ]
    },
    {
     "name": "stdout",
     "output_type": "stream",
     "text": [
      "12500: train_loss : 0.016711506843566894, train_acc: 0.7899999618530273\n"
     ]
    },
    {
     "name": "stderr",
     "output_type": "stream",
     "text": [
      "Train:  36%|██████████████████████████▍                                              | 196/540 [00:03<00:04, 82.91it/s]"
     ]
    },
    {
     "name": "stdout",
     "output_type": "stream",
     "text": [
      "12600: train_loss : 0.017511506080627442, train_acc: 0.7099999785423279\n"
     ]
    },
    {
     "name": "stderr",
     "output_type": "stream",
     "text": [
      "Train:  55%|███████████████████████████████████████▉                                 | 295/540 [00:04<00:03, 80.86it/s]"
     ]
    },
    {
     "name": "stdout",
     "output_type": "stream",
     "text": [
      "12700: train_loss : 0.01690965414047241, train_acc: 0.7699999809265137\n"
     ]
    },
    {
     "name": "stderr",
     "output_type": "stream",
     "text": [
      "Train:  73%|█████████████████████████████████████████████████████▌                   | 396/540 [00:05<00:01, 83.80it/s]"
     ]
    },
    {
     "name": "stdout",
     "output_type": "stream",
     "text": [
      "12800: train_loss : 0.016410752534866332, train_acc: 0.8199999928474426\n"
     ]
    },
    {
     "name": "stderr",
     "output_type": "stream",
     "text": [
      "Train:  92%|██████████████████████████████████████████████████████████████████▉      | 495/540 [00:06<00:00, 80.54it/s]"
     ]
    },
    {
     "name": "stdout",
     "output_type": "stream",
     "text": [
      "12900: train_loss : 0.01691150665283203, train_acc: 0.7699999809265137\n"
     ]
    },
    {
     "name": "stderr",
     "output_type": "stream",
     "text": [
      "Train: 100%|█████████████████████████████████████████████████████████████████████████| 540/540 [00:07<00:00, 70.65it/s]\n",
      "validation: 100%|███████████████████████████████████████████████████████████████████| 600/600 [00:01<00:00, 314.76it/s]\n"
     ]
    },
    {
     "name": "stdout",
     "output_type": "stream",
     "text": [
      "25: epoch, 12960 step: val_loss : 0.1667469844818112, val_acc: 0.7936652302742004\n"
     ]
    },
    {
     "name": "stderr",
     "output_type": "stream",
     "text": [
      "Train:  10%|███████▌                                                                  | 55/540 [00:01<00:07, 64.55it/s]"
     ]
    },
    {
     "name": "stdout",
     "output_type": "stream",
     "text": [
      "13000: train_loss : 0.017511506080627442, train_acc: 0.7099999785423279\n"
     ]
    },
    {
     "name": "stderr",
     "output_type": "stream",
     "text": [
      "Train:  28%|████████████████████▏                                                    | 149/540 [00:02<00:04, 84.96it/s]"
     ]
    },
    {
     "name": "stdout",
     "output_type": "stream",
     "text": [
      "13100: train_loss : 0.016511507034301758, train_acc: 0.8100000023841858\n"
     ]
    },
    {
     "name": "stderr",
     "output_type": "stream",
     "text": [
      "Train:  46%|█████████████████████████████████▋                                       | 249/540 [00:03<00:03, 86.34it/s]"
     ]
    },
    {
     "name": "stdout",
     "output_type": "stream",
     "text": [
      "13200: train_loss : 0.01641150712966919, train_acc: 0.8199999928474426\n"
     ]
    },
    {
     "name": "stderr",
     "output_type": "stream",
     "text": [
      "Train:  65%|███████████████████████████████████████████████▎                         | 350/540 [00:05<00:02, 83.08it/s]"
     ]
    },
    {
     "name": "stdout",
     "output_type": "stream",
     "text": [
      "13300: train_loss : 0.01631150722503662, train_acc: 0.8299999833106995\n"
     ]
    },
    {
     "name": "stderr",
     "output_type": "stream",
     "text": [
      "Train:  84%|████████████████████████████████████████████████████████████▉            | 451/540 [00:06<00:01, 82.33it/s]"
     ]
    },
    {
     "name": "stdout",
     "output_type": "stream",
     "text": [
      "13400: train_loss : 0.017311506271362305, train_acc: 0.7299999594688416\n"
     ]
    },
    {
     "name": "stderr",
     "output_type": "stream",
     "text": [
      "Train: 100%|█████████████████████████████████████████████████████████████████████████| 540/540 [00:07<00:00, 71.21it/s]\n",
      "validation: 100%|███████████████████████████████████████████████████████████████████| 600/600 [00:01<00:00, 309.61it/s]\n"
     ]
    },
    {
     "name": "stdout",
     "output_type": "stream",
     "text": [
      "26: epoch, 13500 step: val_loss : 0.16667006997267383, val_acc: 0.7944984436035156\n"
     ]
    },
    {
     "name": "stderr",
     "output_type": "stream",
     "text": [
      "Train:   1%|▊                                                                          | 6/540 [00:01<01:12,  7.33it/s]"
     ]
    },
    {
     "name": "stdout",
     "output_type": "stream",
     "text": [
      "13500: train_loss : 0.017011506557464598, train_acc: 0.7599999904632568\n"
     ]
    },
    {
     "name": "stderr",
     "output_type": "stream",
     "text": [
      "Train:  21%|███████████████▏                                                         | 112/540 [00:02<00:05, 79.93it/s]"
     ]
    },
    {
     "name": "stdout",
     "output_type": "stream",
     "text": [
      "13600: train_loss : 0.017311506271362305, train_acc: 0.7299999594688416\n"
     ]
    },
    {
     "name": "stderr",
     "output_type": "stream",
     "text": [
      "Train:  39%|████████████████████████████▋                                            | 212/540 [00:03<00:04, 81.50it/s]"
     ]
    },
    {
     "name": "stdout",
     "output_type": "stream",
     "text": [
      "13700: train_loss : 0.017111506462097168, train_acc: 0.75\n"
     ]
    },
    {
     "name": "stderr",
     "output_type": "stream",
     "text": [
      "Train:  58%|██████████████████████████████████████████                               | 311/540 [00:04<00:02, 84.40it/s]"
     ]
    },
    {
     "name": "stdout",
     "output_type": "stream",
     "text": [
      "13800: train_loss : 0.01631150722503662, train_acc: 0.8299999833106995\n"
     ]
    },
    {
     "name": "stderr",
     "output_type": "stream",
     "text": [
      "Train:  77%|███████████████████████████████████████████████████████▉                 | 414/540 [00:06<00:01, 82.89it/s]"
     ]
    },
    {
     "name": "stdout",
     "output_type": "stream",
     "text": [
      "13900: train_loss : 0.015711506605148317, train_acc: 0.8899999856948853\n"
     ]
    },
    {
     "name": "stderr",
     "output_type": "stream",
     "text": [
      "Train:  95%|█████████████████████████████████████████████████████████████████████▍   | 514/540 [00:07<00:00, 83.82it/s]"
     ]
    },
    {
     "name": "stdout",
     "output_type": "stream",
     "text": [
      "14000: train_loss : 0.016711506843566894, train_acc: 0.7899999618530273\n"
     ]
    },
    {
     "name": "stderr",
     "output_type": "stream",
     "text": [
      "Train: 100%|█████████████████████████████████████████████████████████████████████████| 540/540 [00:07<00:00, 70.64it/s]\n",
      "validation: 100%|███████████████████████████████████████████████████████████████████| 600/600 [00:01<00:00, 308.75it/s]\n"
     ]
    },
    {
     "name": "stdout",
     "output_type": "stream",
     "text": [
      "27: epoch, 14040 step: val_loss : 0.16715867767731327, val_acc: 0.7894985675811768\n"
     ]
    },
    {
     "name": "stderr",
     "output_type": "stream",
     "text": [
      "Train:  14%|██████████▍                                                               | 76/540 [00:01<00:06, 73.39it/s]"
     ]
    },
    {
     "name": "stdout",
     "output_type": "stream",
     "text": [
      "14100: train_loss : 0.01641150712966919, train_acc: 0.8199999928474426\n"
     ]
    },
    {
     "name": "stderr",
     "output_type": "stream",
     "text": [
      "Train:  33%|███████████████████████▉                                                 | 177/540 [00:03<00:04, 84.65it/s]"
     ]
    },
    {
     "name": "stdout",
     "output_type": "stream",
     "text": [
      "14200: train_loss : 0.01741150617599487, train_acc: 0.7199999690055847\n"
     ]
    },
    {
     "name": "stderr",
     "output_type": "stream",
     "text": [
      "Train:  51%|█████████████████████████████████████▎                                   | 276/540 [00:04<00:03, 82.00it/s]"
     ]
    },
    {
     "name": "stdout",
     "output_type": "stream",
     "text": [
      "14300: train_loss : 0.017409931421279907, train_acc: 0.7199999690055847\n"
     ]
    },
    {
     "name": "stderr",
     "output_type": "stream",
     "text": [
      "Train:  70%|██████████████████████████████████████████████████▊                      | 376/540 [00:05<00:01, 84.28it/s]"
     ]
    },
    {
     "name": "stdout",
     "output_type": "stream",
     "text": [
      "14400: train_loss : 0.01631150722503662, train_acc: 0.8299999833106995\n"
     ]
    },
    {
     "name": "stderr",
     "output_type": "stream",
     "text": [
      "Train:  88%|████████████████████████████████████████████████████████████████▎        | 476/540 [00:06<00:00, 82.86it/s]"
     ]
    },
    {
     "name": "stdout",
     "output_type": "stream",
     "text": [
      "14500: train_loss : 0.017211506366729735, train_acc: 0.7400000095367432\n"
     ]
    },
    {
     "name": "stderr",
     "output_type": "stream",
     "text": [
      "Train: 100%|█████████████████████████████████████████████████████████████████████████| 540/540 [00:07<00:00, 71.05it/s]\n",
      "validation: 100%|███████████████████████████████████████████████████████████████████| 600/600 [00:01<00:00, 311.67it/s]\n"
     ]
    },
    {
     "name": "stdout",
     "output_type": "stream",
     "text": [
      "28: epoch, 14580 step: val_loss : 0.17059798916180907, val_acc: 0.7551664113998413\n"
     ]
    },
    {
     "name": "stderr",
     "output_type": "stream",
     "text": [
      "Train:   6%|████▏                                                                     | 31/540 [00:01<00:11, 42.51it/s]"
     ]
    },
    {
     "name": "stdout",
     "output_type": "stream",
     "text": [
      "14600: train_loss : 0.01691150665283203, train_acc: 0.7699999809265137\n"
     ]
    },
    {
     "name": "stderr",
     "output_type": "stream",
     "text": [
      "Train:  24%|█████████████████▋                                                       | 131/540 [00:02<00:05, 80.61it/s]"
     ]
    },
    {
     "name": "stdout",
     "output_type": "stream",
     "text": [
      "14700: train_loss : 0.01801150679588318, train_acc: 0.6599999666213989\n"
     ]
    },
    {
     "name": "stderr",
     "output_type": "stream",
     "text": [
      "Train:  43%|███████████████████████████████▍                                         | 233/540 [00:03<00:03, 85.43it/s]"
     ]
    },
    {
     "name": "stdout",
     "output_type": "stream",
     "text": [
      "14800: train_loss : 0.01641150712966919, train_acc: 0.8199999928474426\n"
     ]
    },
    {
     "name": "stderr",
     "output_type": "stream",
     "text": [
      "Train:  62%|█████████████████████████████████████████████                            | 333/540 [00:04<00:02, 83.34it/s]"
     ]
    },
    {
     "name": "stdout",
     "output_type": "stream",
     "text": [
      "14900: train_loss : 0.01691149711608887, train_acc: 0.7699999809265137\n"
     ]
    },
    {
     "name": "stderr",
     "output_type": "stream",
     "text": [
      "Train:  81%|██████████████████████████████████████████████████████████▉              | 436/540 [00:06<00:01, 83.88it/s]"
     ]
    },
    {
     "name": "stdout",
     "output_type": "stream",
     "text": [
      "15000: train_loss : 0.01701149582862854, train_acc: 0.7599999904632568\n"
     ]
    },
    {
     "name": "stderr",
     "output_type": "stream",
     "text": [
      "Train:  98%|███████████████████████████████████████████████████████████████████████▌ | 529/540 [00:07<00:00, 82.02it/s]"
     ]
    },
    {
     "name": "stdout",
     "output_type": "stream",
     "text": [
      "15100: train_loss : 0.017211506366729735, train_acc: 0.7400000095367432\n"
     ]
    },
    {
     "name": "stderr",
     "output_type": "stream",
     "text": [
      "Train: 100%|█████████████████████████████████████████████████████████████████████████| 540/540 [00:07<00:00, 71.08it/s]\n",
      "validation: 100%|███████████████████████████████████████████████████████████████████| 600/600 [00:01<00:00, 319.58it/s]\n"
     ]
    },
    {
     "name": "stdout",
     "output_type": "stream",
     "text": [
      "29: epoch, 15120 step: val_loss : 0.171374543090661, val_acc: 0.7473332285881042\n"
     ]
    },
    {
     "name": "stderr",
     "output_type": "stream",
     "text": [
      "Train:  17%|████████████▉                                                             | 94/540 [00:02<00:05, 79.82it/s]"
     ]
    },
    {
     "name": "stdout",
     "output_type": "stream",
     "text": [
      "15200: train_loss : 0.018211506605148316, train_acc: 0.6399999856948853\n"
     ]
    },
    {
     "name": "stderr",
     "output_type": "stream",
     "text": [
      "Train:  36%|██████████████████████████▎                                              | 195/540 [00:03<00:04, 84.32it/s]"
     ]
    },
    {
     "name": "stdout",
     "output_type": "stream",
     "text": [
      "15300: train_loss : 0.017211506366729735, train_acc: 0.7400000095367432\n"
     ]
    },
    {
     "name": "stderr",
     "output_type": "stream",
     "text": [
      "Train:  54%|███████████████████████████████████████                                  | 289/540 [00:04<00:02, 83.98it/s]"
     ]
    },
    {
     "name": "stdout",
     "output_type": "stream",
     "text": [
      "15400: train_loss : 0.017511506080627442, train_acc: 0.7099999785423279\n"
     ]
    },
    {
     "name": "stderr",
     "output_type": "stream",
     "text": [
      "Train:  72%|████████████████████████████████████████████████████▊                    | 391/540 [00:05<00:01, 81.53it/s]"
     ]
    },
    {
     "name": "stdout",
     "output_type": "stream",
     "text": [
      "15500: train_loss : 0.017011506557464598, train_acc: 0.7599999904632568\n"
     ]
    },
    {
     "name": "stderr",
     "output_type": "stream",
     "text": [
      "Train:  91%|██████████████████████████████████████████████████████████████████▌      | 492/540 [00:06<00:00, 82.73it/s]"
     ]
    },
    {
     "name": "stdout",
     "output_type": "stream",
     "text": [
      "15600: train_loss : 0.017111506462097168, train_acc: 0.75\n"
     ]
    },
    {
     "name": "stderr",
     "output_type": "stream",
     "text": [
      "Train: 100%|█████████████████████████████████████████████████████████████████████████| 540/540 [00:07<00:00, 70.33it/s]\n",
      "validation: 100%|███████████████████████████████████████████████████████████████████| 600/600 [00:01<00:00, 312.16it/s]\n"
     ]
    },
    {
     "name": "stdout",
     "output_type": "stream",
     "text": [
      "30: epoch, 15660 step: val_loss : 0.1672022357583045, val_acc: 0.7891652584075928\n"
     ]
    },
    {
     "name": "stderr",
     "output_type": "stream",
     "text": [
      "Train:  10%|███████▋                                                                  | 56/540 [00:01<00:07, 65.10it/s]"
     ]
    },
    {
     "name": "stdout",
     "output_type": "stream",
     "text": [
      "15700: train_loss : 0.01691150665283203, train_acc: 0.7699999809265137\n"
     ]
    },
    {
     "name": "stderr",
     "output_type": "stream",
     "text": [
      "Train:  29%|████████████████████▉                                                    | 155/540 [00:02<00:04, 81.75it/s]"
     ]
    },
    {
     "name": "stdout",
     "output_type": "stream",
     "text": [
      "15800: train_loss : 0.017311506271362305, train_acc: 0.7299999594688416\n"
     ]
    },
    {
     "name": "stderr",
     "output_type": "stream",
     "text": [
      "Train:  47%|██████████████████████████████████▍                                      | 255/540 [00:04<00:03, 83.95it/s]"
     ]
    },
    {
     "name": "stdout",
     "output_type": "stream",
     "text": [
      "15900: train_loss : 0.016511507034301758, train_acc: 0.8100000023841858\n"
     ]
    },
    {
     "name": "stderr",
     "output_type": "stream",
     "text": [
      "Train:  64%|███████████████████████████████████████████████                          | 348/540 [00:05<00:02, 82.33it/s]"
     ]
    },
    {
     "name": "stdout",
     "output_type": "stream",
     "text": [
      "16000: train_loss : 0.01741150617599487, train_acc: 0.7199999690055847\n"
     ]
    },
    {
     "name": "stderr",
     "output_type": "stream",
     "text": [
      "Train:  83%|████████████████████████████████████████████████████████████▌            | 448/540 [00:06<00:01, 81.39it/s]"
     ]
    },
    {
     "name": "stdout",
     "output_type": "stream",
     "text": [
      "16100: train_loss : 0.016711506843566894, train_acc: 0.7899999618530273\n"
     ]
    },
    {
     "name": "stderr",
     "output_type": "stream",
     "text": [
      "Train: 100%|█████████████████████████████████████████████████████████████████████████| 540/540 [00:07<00:00, 70.08it/s]\n",
      "validation: 100%|███████████████████████████████████████████████████████████████████| 600/600 [00:01<00:00, 318.75it/s]\n"
     ]
    },
    {
     "name": "stdout",
     "output_type": "stream",
     "text": [
      "31: epoch, 16200 step: val_loss : 0.1677506114641821, val_acc: 0.7836657762527466\n"
     ]
    },
    {
     "name": "stderr",
     "output_type": "stream",
     "text": [
      "Train:   1%|▊                                                                          | 6/540 [00:01<01:12,  7.41it/s]"
     ]
    },
    {
     "name": "stdout",
     "output_type": "stream",
     "text": [
      "16200: train_loss : 0.017111506462097168, train_acc: 0.75\n"
     ]
    },
    {
     "name": "stderr",
     "output_type": "stream",
     "text": [
      "Train:  20%|██████████████▋                                                          | 109/540 [00:02<00:05, 79.15it/s]"
     ]
    },
    {
     "name": "stdout",
     "output_type": "stream",
     "text": [
      "16300: train_loss : 0.016811506748199465, train_acc: 0.7799999713897705\n"
     ]
    },
    {
     "name": "stderr",
     "output_type": "stream",
     "text": [
      "Train:  39%|████████████████████████████▎                                            | 209/540 [00:03<00:04, 82.39it/s]"
     ]
    },
    {
     "name": "stdout",
     "output_type": "stream",
     "text": [
      "16400: train_loss : 0.01601150631904602, train_acc: 0.85999995470047\n"
     ]
    },
    {
     "name": "stderr",
     "output_type": "stream",
     "text": [
      "Train:  59%|██████████████████████████████████████████▊                              | 317/540 [00:04<00:02, 81.57it/s]"
     ]
    },
    {
     "name": "stdout",
     "output_type": "stream",
     "text": [
      "16500: train_loss : 0.01641150712966919, train_acc: 0.8199999928474426\n"
     ]
    },
    {
     "name": "stderr",
     "output_type": "stream",
     "text": [
      "Train:  76%|███████████████████████████████████████████████████████▎                 | 409/540 [00:05<00:01, 84.13it/s]"
     ]
    },
    {
     "name": "stdout",
     "output_type": "stream",
     "text": [
      "16600: train_loss : 0.016711506843566894, train_acc: 0.7899999618530273\n"
     ]
    },
    {
     "name": "stderr",
     "output_type": "stream",
     "text": [
      "Train:  94%|████████████████████████████████████████████████████████████████████▉    | 510/540 [00:07<00:00, 80.88it/s]"
     ]
    },
    {
     "name": "stdout",
     "output_type": "stream",
     "text": [
      "16700: train_loss : 0.016811506748199465, train_acc: 0.7799999713897705\n"
     ]
    },
    {
     "name": "stderr",
     "output_type": "stream",
     "text": [
      "Train: 100%|█████████████████████████████████████████████████████████████████████████| 540/540 [00:07<00:00, 70.21it/s]\n",
      "validation: 100%|███████████████████████████████████████████████████████████████████| 600/600 [00:01<00:00, 312.76it/s]\n"
     ]
    },
    {
     "name": "stdout",
     "output_type": "stream",
     "text": [
      "32: epoch, 16740 step: val_loss : 0.17063660869995745, val_acc: 0.7548333406448364\n"
     ]
    },
    {
     "name": "stderr",
     "output_type": "stream",
     "text": [
      "Train:  13%|█████████▊                                                                | 72/540 [00:01<00:06, 71.36it/s]"
     ]
    },
    {
     "name": "stdout",
     "output_type": "stream",
     "text": [
      "16800: train_loss : 0.01791150689125061, train_acc: 0.6699999570846558\n"
     ]
    },
    {
     "name": "stderr",
     "output_type": "stream",
     "text": [
      "Train:  32%|███████████████████████▎                                                 | 172/540 [00:03<00:04, 83.32it/s]"
     ]
    },
    {
     "name": "stdout",
     "output_type": "stream",
     "text": [
      "16900: train_loss : 0.01691150665283203, train_acc: 0.7699999809265137\n"
     ]
    },
    {
     "name": "stderr",
     "output_type": "stream",
     "text": [
      "Train:  50%|████████████████████████████████████▋                                    | 271/540 [00:04<00:03, 81.72it/s]"
     ]
    },
    {
     "name": "stdout",
     "output_type": "stream",
     "text": [
      "17000: train_loss : 0.017311506271362305, train_acc: 0.7299999594688416\n"
     ]
    },
    {
     "name": "stderr",
     "output_type": "stream",
     "text": [
      "Train:  69%|██████████████████████████████████████████████████                       | 370/540 [00:05<00:02, 81.16it/s]"
     ]
    },
    {
     "name": "stdout",
     "output_type": "stream",
     "text": [
      "17100: train_loss : 0.016711506843566894, train_acc: 0.7899999618530273\n"
     ]
    },
    {
     "name": "stderr",
     "output_type": "stream",
     "text": [
      "Train:  87%|███████████████████████████████████████████████████████████████▍         | 469/540 [00:06<00:00, 82.70it/s]"
     ]
    },
    {
     "name": "stdout",
     "output_type": "stream",
     "text": [
      "17200: train_loss : 0.017311506271362305, train_acc: 0.7299999594688416\n"
     ]
    },
    {
     "name": "stderr",
     "output_type": "stream",
     "text": [
      "Train: 100%|█████████████████████████████████████████████████████████████████████████| 540/540 [00:07<00:00, 70.03it/s]\n",
      "validation: 100%|███████████████████████████████████████████████████████████████████| 600/600 [00:01<00:00, 309.02it/s]\n"
     ]
    },
    {
     "name": "stdout",
     "output_type": "stream",
     "text": [
      "33: epoch, 17280 step: val_loss : 0.16728711756070422, val_acc: 0.7881658673286438\n"
     ]
    },
    {
     "name": "stderr",
     "output_type": "stream",
     "text": [
      "Train:   5%|███▊                                                                      | 28/540 [00:01<00:13, 38.04it/s]"
     ]
    },
    {
     "name": "stdout",
     "output_type": "stream",
     "text": [
      "17300: train_loss : 0.016211506128311157, train_acc: 0.8399999737739563\n"
     ]
    },
    {
     "name": "stderr",
     "output_type": "stream",
     "text": [
      "Train:  25%|██████████████████                                                       | 134/540 [00:02<00:05, 80.67it/s]"
     ]
    },
    {
     "name": "stdout",
     "output_type": "stream",
     "text": [
      "17400: train_loss : 0.016711506843566894, train_acc: 0.7899999618530273\n"
     ]
    },
    {
     "name": "stderr",
     "output_type": "stream",
     "text": [
      "Train:  43%|███████████████████████████████▏                                         | 231/540 [00:03<00:03, 79.53it/s]"
     ]
    },
    {
     "name": "stdout",
     "output_type": "stream",
     "text": [
      "17500: train_loss : 0.016711506843566894, train_acc: 0.7899999618530273\n"
     ]
    },
    {
     "name": "stderr",
     "output_type": "stream",
     "text": [
      "Train:  61%|████████████████████████████████████████████▋                            | 331/540 [00:05<00:02, 80.43it/s]"
     ]
    },
    {
     "name": "stdout",
     "output_type": "stream",
     "text": [
      "17600: train_loss : 0.01691150665283203, train_acc: 0.7699999809265137\n"
     ]
    },
    {
     "name": "stderr",
     "output_type": "stream",
     "text": [
      "Train:  80%|██████████████████████████████████████████████████████████▏              | 430/540 [00:06<00:01, 81.77it/s]"
     ]
    },
    {
     "name": "stdout",
     "output_type": "stream",
     "text": [
      "17700: train_loss : 0.016411510705947877, train_acc: 0.8199999928474426\n"
     ]
    },
    {
     "name": "stderr",
     "output_type": "stream",
     "text": [
      "Train:  98%|███████████████████████████████████████████████████████████████████████▌ | 529/540 [00:07<00:00, 81.51it/s]"
     ]
    },
    {
     "name": "stdout",
     "output_type": "stream",
     "text": [
      "17800: train_loss : 0.01691150665283203, train_acc: 0.7699999809265137\n"
     ]
    },
    {
     "name": "stderr",
     "output_type": "stream",
     "text": [
      "Train: 100%|█████████████████████████████████████████████████████████████████████████| 540/540 [00:07<00:00, 69.07it/s]\n",
      "validation: 100%|███████████████████████████████████████████████████████████████████| 600/600 [00:02<00:00, 294.43it/s]\n"
     ]
    },
    {
     "name": "stdout",
     "output_type": "stream",
     "text": [
      "34: epoch, 17820 step: val_loss : 0.16631190067529636, val_acc: 0.7979992628097534\n"
     ]
    },
    {
     "name": "stderr",
     "output_type": "stream",
     "text": [
      "Train:  18%|█████████████▍                                                            | 98/540 [00:02<00:05, 76.78it/s]"
     ]
    },
    {
     "name": "stdout",
     "output_type": "stream",
     "text": [
      "17900: train_loss : 0.016711506843566894, train_acc: 0.7899999618530273\n"
     ]
    },
    {
     "name": "stderr",
     "output_type": "stream",
     "text": [
      "Train:  35%|█████████████████████████▍                                               | 188/540 [00:03<00:04, 79.71it/s]"
     ]
    },
    {
     "name": "stdout",
     "output_type": "stream",
     "text": [
      "18000: train_loss : 0.016711506843566894, train_acc: 0.7899999618530273\n"
     ]
    },
    {
     "name": "stderr",
     "output_type": "stream",
     "text": [
      "Train:  55%|███████████████████████████████████████▉                                 | 295/540 [00:04<00:02, 81.83it/s]"
     ]
    },
    {
     "name": "stdout",
     "output_type": "stream",
     "text": [
      "18100: train_loss : 0.01691150665283203, train_acc: 0.7699999809265137\n"
     ]
    },
    {
     "name": "stderr",
     "output_type": "stream",
     "text": [
      "Train:  73%|█████████████████████████████████████████████████████▎                   | 394/540 [00:05<00:01, 80.83it/s]"
     ]
    },
    {
     "name": "stdout",
     "output_type": "stream",
     "text": [
      "18200: train_loss : 0.016611506938934328, train_acc: 0.7999999523162842\n"
     ]
    },
    {
     "name": "stderr",
     "output_type": "stream",
     "text": [
      "Train:  91%|██████████████████████████████████████████████████████████████████▋      | 493/540 [00:07<00:00, 80.45it/s]"
     ]
    },
    {
     "name": "stdout",
     "output_type": "stream",
     "text": [
      "18300: train_loss : 0.016811506748199465, train_acc: 0.7799999713897705\n"
     ]
    },
    {
     "name": "stderr",
     "output_type": "stream",
     "text": [
      "Train: 100%|█████████████████████████████████████████████████████████████████████████| 540/540 [00:07<00:00, 69.00it/s]\n",
      "validation: 100%|███████████████████████████████████████████████████████████████████| 600/600 [00:01<00:00, 308.68it/s]\n"
     ]
    },
    {
     "name": "stdout",
     "output_type": "stream",
     "text": [
      "35: epoch, 18360 step: val_loss : 0.165629741966724, val_acc: 0.8048317432403564\n"
     ]
    },
    {
     "name": "stderr",
     "output_type": "stream",
     "text": [
      "Train:  10%|███████▋                                                                  | 56/540 [00:01<00:07, 63.77it/s]"
     ]
    },
    {
     "name": "stdout",
     "output_type": "stream",
     "text": [
      "18400: train_loss : 0.01741150617599487, train_acc: 0.7199999690055847\n"
     ]
    },
    {
     "name": "stderr",
     "output_type": "stream",
     "text": [
      "Train:  28%|████████████████████▎                                                    | 150/540 [00:02<00:05, 77.92it/s]"
     ]
    },
    {
     "name": "stdout",
     "output_type": "stream",
     "text": [
      "18500: train_loss : 0.017811506986618042, train_acc: 0.6800000071525574\n"
     ]
    },
    {
     "name": "stderr",
     "output_type": "stream",
     "text": [
      "Train:  47%|██████████████████████████████████                                       | 252/540 [00:04<00:03, 80.17it/s]"
     ]
    },
    {
     "name": "stdout",
     "output_type": "stream",
     "text": [
      "18600: train_loss : 0.016811506748199465, train_acc: 0.7799999713897705\n"
     ]
    },
    {
     "name": "stderr",
     "output_type": "stream",
     "text": [
      "Train:  65%|███████████████████████████████████████████████▍                         | 351/540 [00:05<00:02, 80.71it/s]"
     ]
    },
    {
     "name": "stdout",
     "output_type": "stream",
     "text": [
      "18700: train_loss : 0.016811506748199465, train_acc: 0.7799999713897705\n"
     ]
    },
    {
     "name": "stderr",
     "output_type": "stream",
     "text": [
      "Train:  83%|████████████████████████████████████████████████████████████▊            | 450/540 [00:06<00:01, 79.84it/s]"
     ]
    },
    {
     "name": "stdout",
     "output_type": "stream",
     "text": [
      "18800: train_loss : 0.017511506080627442, train_acc: 0.7099999785423279\n"
     ]
    },
    {
     "name": "stderr",
     "output_type": "stream",
     "text": [
      "Train: 100%|█████████████████████████████████████████████████████████████████████████| 540/540 [00:07<00:00, 68.83it/s]\n",
      "validation: 100%|███████████████████████████████████████████████████████████████████| 600/600 [00:01<00:00, 308.61it/s]\n"
     ]
    },
    {
     "name": "stdout",
     "output_type": "stream",
     "text": [
      "36: epoch, 18900 step: val_loss : 0.16709788783391297, val_acc: 0.7901658415794373\n"
     ]
    },
    {
     "name": "stderr",
     "output_type": "stream",
     "text": [
      "Train:   1%|▉                                                                          | 7/540 [00:01<01:03,  8.45it/s]"
     ]
    },
    {
     "name": "stdout",
     "output_type": "stream",
     "text": [
      "18900: train_loss : 0.01691150665283203, train_acc: 0.7699999809265137\n"
     ]
    },
    {
     "name": "stderr",
     "output_type": "stream",
     "text": [
      "Train:  21%|███████████████▎                                                         | 113/540 [00:02<00:05, 78.21it/s]"
     ]
    },
    {
     "name": "stdout",
     "output_type": "stream",
     "text": [
      "19000: train_loss : 0.016511507034301758, train_acc: 0.8100000023841858\n"
     ]
    },
    {
     "name": "stderr",
     "output_type": "stream",
     "text": [
      "Train:  39%|████████████████████████████▎                                            | 209/540 [00:03<00:04, 80.57it/s]"
     ]
    },
    {
     "name": "stdout",
     "output_type": "stream",
     "text": [
      "19100: train_loss : 0.01741150617599487, train_acc: 0.7199999690055847\n"
     ]
    },
    {
     "name": "stderr",
     "output_type": "stream",
     "text": [
      "Train:  58%|██████████████████████████████████████████▎                              | 313/540 [00:04<00:02, 79.96it/s]"
     ]
    },
    {
     "name": "stdout",
     "output_type": "stream",
     "text": [
      "19200: train_loss : 0.016511507034301758, train_acc: 0.8100000023841858\n"
     ]
    },
    {
     "name": "stderr",
     "output_type": "stream",
     "text": [
      "Train:  76%|███████████████████████████████████████████████████████▎                 | 409/540 [00:06<00:01, 81.54it/s]"
     ]
    },
    {
     "name": "stdout",
     "output_type": "stream",
     "text": [
      "19300: train_loss : 0.016811506748199465, train_acc: 0.7799999713897705\n"
     ]
    },
    {
     "name": "stderr",
     "output_type": "stream",
     "text": [
      "Train:  94%|████████████████████████████████████████████████████████████████████▋    | 508/540 [00:07<00:00, 81.47it/s]"
     ]
    },
    {
     "name": "stdout",
     "output_type": "stream",
     "text": [
      "19400: train_loss : 0.016911510229110718, train_acc: 0.7699999809265137\n"
     ]
    },
    {
     "name": "stderr",
     "output_type": "stream",
     "text": [
      "Train: 100%|█████████████████████████████████████████████████████████████████████████| 540/540 [00:07<00:00, 68.82it/s]\n",
      "validation: 100%|███████████████████████████████████████████████████████████████████| 600/600 [00:01<00:00, 304.54it/s]\n"
     ]
    },
    {
     "name": "stdout",
     "output_type": "stream",
     "text": [
      "37: epoch, 19440 step: val_loss : 0.17056279712915415, val_acc: 0.755499541759491\n"
     ]
    },
    {
     "name": "stderr",
     "output_type": "stream",
     "text": [
      "Train:  14%|██████████                                                                | 73/540 [00:01<00:06, 70.73it/s]"
     ]
    },
    {
     "name": "stdout",
     "output_type": "stream",
     "text": [
      "19500: train_loss : 0.017811506986618042, train_acc: 0.6800000071525574\n"
     ]
    },
    {
     "name": "stderr",
     "output_type": "stream",
     "text": [
      "Train:  31%|██████████████████████▉                                                  | 170/540 [00:03<00:04, 80.09it/s]"
     ]
    },
    {
     "name": "stdout",
     "output_type": "stream",
     "text": [
      "19600: train_loss : 0.017311506271362305, train_acc: 0.7299999594688416\n"
     ]
    },
    {
     "name": "stderr",
     "output_type": "stream",
     "text": [
      "Train:  50%|████████████████████████████████████▎                                    | 269/540 [00:04<00:03, 81.59it/s]"
     ]
    },
    {
     "name": "stdout",
     "output_type": "stream",
     "text": [
      "19700: train_loss : 0.01641150712966919, train_acc: 0.8199999928474426\n"
     ]
    },
    {
     "name": "stderr",
     "output_type": "stream",
     "text": [
      "Train:  68%|█████████████████████████████████████████████████▋                       | 368/540 [00:05<00:02, 81.56it/s]"
     ]
    },
    {
     "name": "stdout",
     "output_type": "stream",
     "text": [
      "19800: train_loss : 0.01641150712966919, train_acc: 0.8199999928474426\n"
     ]
    },
    {
     "name": "stderr",
     "output_type": "stream",
     "text": [
      "Train:  88%|████████████████████████████████████████████████████████████████▎        | 476/540 [00:06<00:00, 80.72it/s]"
     ]
    },
    {
     "name": "stdout",
     "output_type": "stream",
     "text": [
      "19900: train_loss : 0.017211506366729735, train_acc: 0.7400000095367432\n"
     ]
    },
    {
     "name": "stderr",
     "output_type": "stream",
     "text": [
      "Train: 100%|█████████████████████████████████████████████████████████████████████████| 540/540 [00:07<00:00, 69.45it/s]\n",
      "validation: 100%|███████████████████████████████████████████████████████████████████| 600/600 [00:01<00:00, 308.47it/s]\n"
     ]
    },
    {
     "name": "stdout",
     "output_type": "stream",
     "text": [
      "38: epoch, 19980 step: val_loss : 0.1676124925216038, val_acc: 0.784998893737793\n"
     ]
    },
    {
     "name": "stderr",
     "output_type": "stream",
     "text": [
      "Train:   6%|████▍                                                                     | 32/540 [00:01<00:12, 41.44it/s]"
     ]
    },
    {
     "name": "stdout",
     "output_type": "stream",
     "text": [
      "20000: train_loss : 0.016511507034301758, train_acc: 0.8100000023841858\n"
     ]
    },
    {
     "name": "stderr",
     "output_type": "stream",
     "text": [
      "Train:  24%|█████████████████▍                                                       | 129/540 [00:02<00:05, 80.56it/s]"
     ]
    },
    {
     "name": "stdout",
     "output_type": "stream",
     "text": [
      "20100: train_loss : 0.017011506557464598, train_acc: 0.7599999904632568\n"
     ]
    },
    {
     "name": "stderr",
     "output_type": "stream",
     "text": [
      "Train:  42%|██████████████████████████████▊                                          | 228/540 [00:03<00:03, 81.78it/s]"
     ]
    },
    {
     "name": "stdout",
     "output_type": "stream",
     "text": [
      "20200: train_loss : 0.017011506557464598, train_acc: 0.7599999904632568\n"
     ]
    },
    {
     "name": "stderr",
     "output_type": "stream",
     "text": [
      "Train:  61%|████████████████████████████████████████████▏                            | 327/540 [00:04<00:02, 82.13it/s]"
     ]
    },
    {
     "name": "stdout",
     "output_type": "stream",
     "text": [
      "20300: train_loss : 0.016711506843566894, train_acc: 0.7899999618530273\n"
     ]
    },
    {
     "name": "stderr",
     "output_type": "stream",
     "text": [
      "Train:  81%|██████████████████████████████████████████████████████████▊              | 435/540 [00:06<00:01, 80.97it/s]"
     ]
    },
    {
     "name": "stdout",
     "output_type": "stream",
     "text": [
      "20400: train_loss : 0.016511507034301758, train_acc: 0.8100000023841858\n"
     ]
    },
    {
     "name": "stderr",
     "output_type": "stream",
     "text": [
      "Train:  99%|████████████████████████████████████████████████████████████████████████▏| 534/540 [00:07<00:00, 81.54it/s]"
     ]
    },
    {
     "name": "stdout",
     "output_type": "stream",
     "text": [
      "20500: train_loss : 0.016611506938934328, train_acc: 0.7999999523162842\n"
     ]
    },
    {
     "name": "stderr",
     "output_type": "stream",
     "text": [
      "Train: 100%|█████████████████████████████████████████████████████████████████████████| 540/540 [00:07<00:00, 70.00it/s]\n",
      "validation: 100%|███████████████████████████████████████████████████████████████████| 600/600 [00:01<00:00, 305.49it/s]\n"
     ]
    },
    {
     "name": "stdout",
     "output_type": "stream",
     "text": [
      "39: epoch, 20520 step: val_loss : 0.16543895685672724, val_acc: 0.8068321347236633\n"
     ]
    },
    {
     "name": "stderr",
     "output_type": "stream",
     "text": [
      "Train:  16%|████████████▏                                                             | 89/540 [00:02<00:06, 74.95it/s]"
     ]
    },
    {
     "name": "stdout",
     "output_type": "stream",
     "text": [
      "20600: train_loss : 0.017007657289505006, train_acc: 0.7599999904632568\n"
     ]
    },
    {
     "name": "stderr",
     "output_type": "stream",
     "text": [
      "Train:  36%|██████████████████████████                                               | 193/540 [00:03<00:04, 80.29it/s]"
     ]
    },
    {
     "name": "stdout",
     "output_type": "stream",
     "text": [
      "20700: train_loss : 0.016711506843566894, train_acc: 0.7899999618530273\n"
     ]
    },
    {
     "name": "stderr",
     "output_type": "stream",
     "text": [
      "Train:  54%|███████████████████████████████████████▎                                 | 291/540 [00:04<00:03, 80.56it/s]"
     ]
    },
    {
     "name": "stdout",
     "output_type": "stream",
     "text": [
      "20800: train_loss : 0.015811913013458252, train_acc: 0.8799999952316284\n"
     ]
    },
    {
     "name": "stderr",
     "output_type": "stream",
     "text": [
      "Train:  73%|█████████████████████████████████████████████████████▍                   | 395/540 [00:05<00:01, 81.54it/s]"
     ]
    },
    {
     "name": "stdout",
     "output_type": "stream",
     "text": [
      "20900: train_loss : 0.016711506843566894, train_acc: 0.7899999618530273\n"
     ]
    },
    {
     "name": "stderr",
     "output_type": "stream",
     "text": [
      "Train:  91%|██████████████████████████████████████████████████████████████████▊      | 494/540 [00:07<00:00, 82.34it/s]"
     ]
    },
    {
     "name": "stdout",
     "output_type": "stream",
     "text": [
      "21000: train_loss : 0.016711506843566894, train_acc: 0.7899999618530273\n"
     ]
    },
    {
     "name": "stderr",
     "output_type": "stream",
     "text": [
      "Train: 100%|█████████████████████████████████████████████████████████████████████████| 540/540 [00:07<00:00, 69.62it/s]\n",
      "validation: 100%|███████████████████████████████████████████████████████████████████| 600/600 [00:01<00:00, 311.20it/s]\n"
     ]
    },
    {
     "name": "stdout",
     "output_type": "stream",
     "text": [
      "40: epoch, 21060 step: val_loss : 0.1648146722714102, val_acc: 0.8129986524581909\n"
     ]
    },
    {
     "name": "stderr",
     "output_type": "stream",
     "text": [
      "Train:  11%|███████▊                                                                  | 57/540 [00:01<00:07, 63.35it/s]"
     ]
    },
    {
     "name": "stdout",
     "output_type": "stream",
     "text": [
      "21100: train_loss : 0.01641150712966919, train_acc: 0.8199999928474426\n"
     ]
    },
    {
     "name": "stderr",
     "output_type": "stream",
     "text": [
      "Train:  29%|████████████████████▉                                                    | 155/540 [00:02<00:04, 80.75it/s]"
     ]
    },
    {
     "name": "stdout",
     "output_type": "stream",
     "text": [
      "21200: train_loss : 0.016811543703079225, train_acc: 0.7799999713897705\n"
     ]
    },
    {
     "name": "stderr",
     "output_type": "stream",
     "text": [
      "Train:  47%|██████████████████████████████████▎                                      | 254/540 [00:04<00:03, 81.11it/s]"
     ]
    },
    {
     "name": "stdout",
     "output_type": "stream",
     "text": [
      "21300: train_loss : 0.01631150722503662, train_acc: 0.8299999833106995\n"
     ]
    },
    {
     "name": "stderr",
     "output_type": "stream",
     "text": [
      "Train:  65%|███████████████████████████████████████████████▋                         | 353/540 [00:05<00:02, 81.76it/s]"
     ]
    },
    {
     "name": "stdout",
     "output_type": "stream",
     "text": [
      "21400: train_loss : 0.016511507034301758, train_acc: 0.8100000023841858\n"
     ]
    },
    {
     "name": "stderr",
     "output_type": "stream",
     "text": [
      "Train:  84%|█████████████████████████████████████████████████████████████            | 452/540 [00:06<00:01, 82.20it/s]"
     ]
    },
    {
     "name": "stdout",
     "output_type": "stream",
     "text": [
      "21500: train_loss : 0.016711506843566894, train_acc: 0.7899999618530273\n"
     ]
    },
    {
     "name": "stderr",
     "output_type": "stream",
     "text": [
      "Train: 100%|█████████████████████████████████████████████████████████████████████████| 540/540 [00:07<00:00, 69.56it/s]\n",
      "validation: 100%|███████████████████████████████████████████████████████████████████| 600/600 [00:01<00:00, 308.84it/s]\n"
     ]
    },
    {
     "name": "stdout",
     "output_type": "stream",
     "text": [
      "41: epoch, 21600 step: val_loss : 0.1694646000464756, val_acc: 0.7664992213249207\n"
     ]
    },
    {
     "name": "stderr",
     "output_type": "stream",
     "text": [
      "Train:   1%|▉                                                                          | 7/540 [00:01<01:01,  8.71it/s]"
     ]
    },
    {
     "name": "stdout",
     "output_type": "stream",
     "text": [
      "21600: train_loss : 0.016611506938934328, train_acc: 0.7999999523162842\n"
     ]
    },
    {
     "name": "stderr",
     "output_type": "stream",
     "text": [
      "Train:  21%|███████████████▌                                                         | 115/540 [00:02<00:05, 79.67it/s]"
     ]
    },
    {
     "name": "stdout",
     "output_type": "stream",
     "text": [
      "21700: train_loss : 0.016811506748199465, train_acc: 0.7799999713897705\n"
     ]
    },
    {
     "name": "stderr",
     "output_type": "stream",
     "text": [
      "Train:  40%|████████████████████████████▉                                            | 214/540 [00:03<00:03, 82.42it/s]"
     ]
    },
    {
     "name": "stdout",
     "output_type": "stream",
     "text": [
      "21800: train_loss : 0.01741150617599487, train_acc: 0.7199999690055847\n"
     ]
    },
    {
     "name": "stderr",
     "output_type": "stream",
     "text": [
      "Train:  58%|██████████████████████████████████████████▎                              | 313/540 [00:04<00:02, 82.82it/s]"
     ]
    },
    {
     "name": "stdout",
     "output_type": "stream",
     "text": [
      "21900: train_loss : 0.01791150689125061, train_acc: 0.6699999570846558\n"
     ]
    },
    {
     "name": "stderr",
     "output_type": "stream",
     "text": [
      "Train:  76%|███████████████████████████████████████████████████████▋                 | 412/540 [00:05<00:01, 81.49it/s]"
     ]
    },
    {
     "name": "stdout",
     "output_type": "stream",
     "text": [
      "22000: train_loss : 0.016711506843566894, train_acc: 0.7899999618530273\n"
     ]
    },
    {
     "name": "stderr",
     "output_type": "stream",
     "text": [
      "Train:  95%|█████████████████████████████████████████████████████████████████████    | 511/540 [00:07<00:00, 81.72it/s]"
     ]
    },
    {
     "name": "stdout",
     "output_type": "stream",
     "text": [
      "22100: train_loss : 0.016911391019821167, train_acc: 0.7699999809265137\n"
     ]
    },
    {
     "name": "stderr",
     "output_type": "stream",
     "text": [
      "Train: 100%|█████████████████████████████████████████████████████████████████████████| 540/540 [00:07<00:00, 70.28it/s]\n",
      "validation: 100%|███████████████████████████████████████████████████████████████████| 600/600 [00:01<00:00, 308.15it/s]\n"
     ]
    },
    {
     "name": "stdout",
     "output_type": "stream",
     "text": [
      "42: epoch, 22140 step: val_loss : 0.16644774069388688, val_acc: 0.7966660857200623\n"
     ]
    },
    {
     "name": "stderr",
     "output_type": "stream",
     "text": [
      "Train:  13%|█████████▌                                                                | 70/540 [00:01<00:06, 70.50it/s]"
     ]
    },
    {
     "name": "stdout",
     "output_type": "stream",
     "text": [
      "22200: train_loss : 0.01741150617599487, train_acc: 0.7199999690055847\n"
     ]
    },
    {
     "name": "stderr",
     "output_type": "stream",
     "text": [
      "Train:  31%|██████████████████████▋                                                  | 168/540 [00:03<00:04, 81.09it/s]"
     ]
    },
    {
     "name": "stdout",
     "output_type": "stream",
     "text": [
      "22300: train_loss : 0.016911505460739135, train_acc: 0.7699999809265137\n"
     ]
    },
    {
     "name": "stderr",
     "output_type": "stream",
     "text": [
      "Train:  49%|████████████████████████████████████                                     | 267/540 [00:04<00:03, 80.57it/s]"
     ]
    },
    {
     "name": "stdout",
     "output_type": "stream",
     "text": [
      "22400: train_loss : 0.01691150665283203, train_acc: 0.7699999809265137\n"
     ]
    },
    {
     "name": "stderr",
     "output_type": "stream",
     "text": [
      "Train:  69%|██████████████████████████████████████████████████▋                      | 375/540 [00:05<00:02, 80.85it/s]"
     ]
    },
    {
     "name": "stdout",
     "output_type": "stream",
     "text": [
      "22500: train_loss : 0.017011506557464598, train_acc: 0.7599999904632568\n"
     ]
    },
    {
     "name": "stderr",
     "output_type": "stream",
     "text": [
      "Train:  88%|████████████████████████████████████████████████████████████████         | 474/540 [00:06<00:00, 80.17it/s]"
     ]
    },
    {
     "name": "stdout",
     "output_type": "stream",
     "text": [
      "22600: train_loss : 0.01641150712966919, train_acc: 0.8199999928474426\n"
     ]
    },
    {
     "name": "stderr",
     "output_type": "stream",
     "text": [
      "Train: 100%|█████████████████████████████████████████████████████████████████████████| 540/540 [00:07<00:00, 68.54it/s]\n",
      "validation: 100%|███████████████████████████████████████████████████████████████████| 600/600 [00:01<00:00, 307.23it/s]\n"
     ]
    },
    {
     "name": "stdout",
     "output_type": "stream",
     "text": [
      "43: epoch, 22680 step: val_loss : 0.16661449680725715, val_acc: 0.794998824596405\n"
     ]
    },
    {
     "name": "stderr",
     "output_type": "stream",
     "text": [
      "Train:   6%|████▍                                                                     | 32/540 [00:01<00:12, 41.27it/s]"
     ]
    },
    {
     "name": "stdout",
     "output_type": "stream",
     "text": [
      "22700: train_loss : 0.01641150712966919, train_acc: 0.8199999928474426\n"
     ]
    },
    {
     "name": "stderr",
     "output_type": "stream",
     "text": [
      "Train:  24%|█████████████████▍                                                       | 129/540 [00:02<00:05, 80.05it/s]"
     ]
    },
    {
     "name": "stdout",
     "output_type": "stream",
     "text": [
      "22800: train_loss : 0.016611506938934328, train_acc: 0.7999999523162842\n"
     ]
    },
    {
     "name": "stderr",
     "output_type": "stream",
     "text": [
      "Train:  42%|██████████████████████████████▊                                          | 228/540 [00:03<00:03, 80.81it/s]"
     ]
    },
    {
     "name": "stdout",
     "output_type": "stream",
     "text": [
      "22900: train_loss : 0.017711507081985475, train_acc: 0.6899999976158142\n"
     ]
    },
    {
     "name": "stderr",
     "output_type": "stream",
     "text": [
      "Train:  62%|█████████████████████████████████████████████▍                           | 336/540 [00:05<00:02, 80.89it/s]"
     ]
    },
    {
     "name": "stdout",
     "output_type": "stream",
     "text": [
      "23000: train_loss : 0.016811506748199465, train_acc: 0.7799999713897705\n"
     ]
    },
    {
     "name": "stderr",
     "output_type": "stream",
     "text": [
      "Train:  81%|██████████████████████████████████████████████████████████▊              | 435/540 [00:06<00:01, 82.87it/s]"
     ]
    },
    {
     "name": "stdout",
     "output_type": "stream",
     "text": [
      "23100: train_loss : 0.017111506462097168, train_acc: 0.75\n"
     ]
    },
    {
     "name": "stderr",
     "output_type": "stream",
     "text": [
      "Train:  99%|████████████████████████████████████████████████████████████████████████▏| 534/540 [00:07<00:00, 83.05it/s]"
     ]
    },
    {
     "name": "stdout",
     "output_type": "stream",
     "text": [
      "23200: train_loss : 0.01641150712966919, train_acc: 0.8199999928474426\n"
     ]
    },
    {
     "name": "stderr",
     "output_type": "stream",
     "text": [
      "Train: 100%|█████████████████████████████████████████████████████████████████████████| 540/540 [00:07<00:00, 69.81it/s]\n",
      "validation: 100%|███████████████████████████████████████████████████████████████████| 600/600 [00:01<00:00, 314.40it/s]\n"
     ]
    },
    {
     "name": "stdout",
     "output_type": "stream",
     "text": [
      "44: epoch, 23220 step: val_loss : 0.16651382521788258, val_acc: 0.795998752117157\n"
     ]
    },
    {
     "name": "stderr",
     "output_type": "stream",
     "text": [
      "Train:  17%|████████████▉                                                             | 94/540 [00:02<00:05, 77.43it/s]"
     ]
    },
    {
     "name": "stdout",
     "output_type": "stream",
     "text": [
      "23300: train_loss : 0.016711506843566894, train_acc: 0.7899999618530273\n"
     ]
    },
    {
     "name": "stderr",
     "output_type": "stream",
     "text": [
      "Train:  36%|██████████████████████████                                               | 193/540 [00:03<00:04, 82.49it/s]"
     ]
    },
    {
     "name": "stdout",
     "output_type": "stream",
     "text": [
      "23400: train_loss : 0.017011506557464598, train_acc: 0.7599999904632568\n"
     ]
    },
    {
     "name": "stderr",
     "output_type": "stream",
     "text": [
      "Train:  54%|███████████████████████████████████████▍                                 | 292/540 [00:04<00:03, 80.73it/s]"
     ]
    },
    {
     "name": "stdout",
     "output_type": "stream",
     "text": [
      "23500: train_loss : 0.017011506557464598, train_acc: 0.7599999904632568\n"
     ]
    },
    {
     "name": "stderr",
     "output_type": "stream",
     "text": [
      "Train:  72%|████████████████████████████████████████████████████▊                    | 391/540 [00:05<00:01, 80.97it/s]"
     ]
    },
    {
     "name": "stdout",
     "output_type": "stream",
     "text": [
      "23600: train_loss : 0.016711506843566894, train_acc: 0.7899999618530273\n"
     ]
    },
    {
     "name": "stderr",
     "output_type": "stream",
     "text": [
      "Train:  90%|█████████████████████████████████████████████████████████████████▉       | 488/540 [00:07<00:00, 80.00it/s]"
     ]
    },
    {
     "name": "stdout",
     "output_type": "stream",
     "text": [
      "23700: train_loss : 0.016611506938934328, train_acc: 0.7999999523162842\n"
     ]
    },
    {
     "name": "stderr",
     "output_type": "stream",
     "text": [
      "Train: 100%|█████████████████████████████████████████████████████████████████████████| 540/540 [00:07<00:00, 69.32it/s]\n",
      "validation: 100%|███████████████████████████████████████████████████████████████████| 600/600 [00:02<00:00, 294.31it/s]\n"
     ]
    },
    {
     "name": "stdout",
     "output_type": "stream",
     "text": [
      "45: epoch, 23760 step: val_loss : 0.1658066948652265, val_acc: 0.80316561460495\n"
     ]
    },
    {
     "name": "stderr",
     "output_type": "stream",
     "text": [
      "Train:  10%|███████▌                                                                  | 55/540 [00:01<00:07, 60.95it/s]"
     ]
    },
    {
     "name": "stdout",
     "output_type": "stream",
     "text": [
      "23800: train_loss : 0.016211506128311157, train_acc: 0.8399999737739563\n"
     ]
    },
    {
     "name": "stderr",
     "output_type": "stream",
     "text": [
      "Train:  28%|████████████████████▌                                                    | 152/540 [00:02<00:04, 79.34it/s]"
     ]
    },
    {
     "name": "stdout",
     "output_type": "stream",
     "text": [
      "23900: train_loss : 0.017011506557464598, train_acc: 0.7599999904632568\n"
     ]
    },
    {
     "name": "stderr",
     "output_type": "stream",
     "text": [
      "Train:  46%|█████████████████████████████████▊                                       | 250/540 [00:04<00:03, 80.49it/s]"
     ]
    },
    {
     "name": "stdout",
     "output_type": "stream",
     "text": [
      "24000: train_loss : 0.016511507034301758, train_acc: 0.8100000023841858\n"
     ]
    },
    {
     "name": "stderr",
     "output_type": "stream",
     "text": [
      "Train:  65%|███████████████████████████████████████████████▏                         | 349/540 [00:05<00:02, 80.58it/s]"
     ]
    },
    {
     "name": "stdout",
     "output_type": "stream",
     "text": [
      "24100: train_loss : 0.016611506938934328, train_acc: 0.7999999523162842\n"
     ]
    },
    {
     "name": "stderr",
     "output_type": "stream",
     "text": [
      "Train:  83%|████████████████████████████████████████████████████████████▌            | 448/540 [00:06<00:01, 80.64it/s]"
     ]
    },
    {
     "name": "stdout",
     "output_type": "stream",
     "text": [
      "24200: train_loss : 0.01691150665283203, train_acc: 0.7699999809265137\n"
     ]
    },
    {
     "name": "stderr",
     "output_type": "stream",
     "text": [
      "Train: 100%|█████████████████████████████████████████████████████████████████████████| 540/540 [00:07<00:00, 68.80it/s]\n",
      "validation: 100%|███████████████████████████████████████████████████████████████████| 600/600 [00:01<00:00, 300.82it/s]\n"
     ]
    },
    {
     "name": "stdout",
     "output_type": "stream",
     "text": [
      "46: epoch, 24300 step: val_loss : 0.16523899922768223, val_acc: 0.8088319301605225\n"
     ]
    },
    {
     "name": "stderr",
     "output_type": "stream",
     "text": [
      "Train:   1%|▉                                                                          | 7/540 [00:01<01:07,  7.92it/s]"
     ]
    },
    {
     "name": "stdout",
     "output_type": "stream",
     "text": [
      "24300: train_loss : 0.016811506748199465, train_acc: 0.7799999713897705\n"
     ]
    },
    {
     "name": "stderr",
     "output_type": "stream",
     "text": [
      "Train:  20%|██████████████▊                                                          | 110/540 [00:02<00:05, 75.68it/s]"
     ]
    },
    {
     "name": "stdout",
     "output_type": "stream",
     "text": [
      "24400: train_loss : 0.017011506557464598, train_acc: 0.7599999904632568\n"
     ]
    },
    {
     "name": "stderr",
     "output_type": "stream",
     "text": [
      "Train:  39%|████████████████████████████▌                                            | 211/540 [00:03<00:04, 76.26it/s]"
     ]
    },
    {
     "name": "stdout",
     "output_type": "stream",
     "text": [
      "24500: train_loss : 0.015811506509780884, train_acc: 0.8799999952316284\n"
     ]
    },
    {
     "name": "stderr",
     "output_type": "stream",
     "text": [
      "Train:  58%|██████████████████████████████████████████▍                              | 314/540 [00:05<00:02, 80.27it/s]"
     ]
    },
    {
     "name": "stdout",
     "output_type": "stream",
     "text": [
      "24600: train_loss : 0.016611504554748534, train_acc: 0.7999999523162842\n"
     ]
    },
    {
     "name": "stderr",
     "output_type": "stream",
     "text": [
      "Train:  76%|███████████████████████████████████████████████████████▋                 | 412/540 [00:06<00:01, 72.01it/s]"
     ]
    },
    {
     "name": "stdout",
     "output_type": "stream",
     "text": [
      "24700: train_loss : 0.01741150617599487, train_acc: 0.7199999690055847\n"
     ]
    },
    {
     "name": "stderr",
     "output_type": "stream",
     "text": [
      "Train:  94%|████████████████████████████████████████████████████████████████████▊    | 509/540 [00:07<00:00, 72.49it/s]"
     ]
    },
    {
     "name": "stdout",
     "output_type": "stream",
     "text": [
      "24800: train_loss : 0.016511507034301758, train_acc: 0.8100000023841858\n"
     ]
    },
    {
     "name": "stderr",
     "output_type": "stream",
     "text": [
      "Train: 100%|█████████████████████████████████████████████████████████████████████████| 540/540 [00:08<00:00, 64.14it/s]\n",
      "validation: 100%|███████████████████████████████████████████████████████████████████| 600/600 [00:02<00:00, 278.81it/s]\n"
     ]
    },
    {
     "name": "stdout",
     "output_type": "stream",
     "text": [
      "47: epoch, 24840 step: val_loss : 0.16759769703944496, val_acc: 0.7851656675338745\n"
     ]
    },
    {
     "name": "stderr",
     "output_type": "stream",
     "text": [
      "Train:  14%|██████████▍                                                               | 76/540 [00:02<00:06, 67.89it/s]"
     ]
    },
    {
     "name": "stdout",
     "output_type": "stream",
     "text": [
      "24900: train_loss : 0.01641150712966919, train_acc: 0.8199999928474426\n"
     ]
    },
    {
     "name": "stderr",
     "output_type": "stream",
     "text": [
      "Train:  32%|███████████████████████▎                                                 | 172/540 [00:03<00:04, 73.91it/s]"
     ]
    },
    {
     "name": "stdout",
     "output_type": "stream",
     "text": [
      "25000: train_loss : 0.01601150631904602, train_acc: 0.85999995470047\n"
     ]
    },
    {
     "name": "stderr",
     "output_type": "stream",
     "text": [
      "Train:  50%|████████████████████████████████████▏                                    | 268/540 [00:04<00:03, 71.19it/s]"
     ]
    },
    {
     "name": "stdout",
     "output_type": "stream",
     "text": [
      "25100: train_loss : 0.017011506557464598, train_acc: 0.7599999904632568\n"
     ]
    },
    {
     "name": "stderr",
     "output_type": "stream",
     "text": [
      "Train:  69%|██████████████████████████████████████████████████▍                      | 373/540 [00:06<00:02, 77.36it/s]"
     ]
    },
    {
     "name": "stdout",
     "output_type": "stream",
     "text": [
      "25200: train_loss : 0.017011506557464598, train_acc: 0.7599999904632568\n"
     ]
    },
    {
     "name": "stderr",
     "output_type": "stream",
     "text": [
      "Train:  87%|███████████████████████████████████████████████████████████████▍         | 469/540 [00:07<00:01, 70.71it/s]"
     ]
    },
    {
     "name": "stdout",
     "output_type": "stream",
     "text": [
      "25300: train_loss : 0.017111506462097168, train_acc: 0.75\n"
     ]
    },
    {
     "name": "stderr",
     "output_type": "stream",
     "text": [
      "Train: 100%|█████████████████████████████████████████████████████████████████████████| 540/540 [00:08<00:00, 62.80it/s]\n",
      "validation: 100%|███████████████████████████████████████████████████████████████████| 600/600 [00:02<00:00, 278.50it/s]\n"
     ]
    },
    {
     "name": "stdout",
     "output_type": "stream",
     "text": [
      "48: epoch, 25380 step: val_loss : 0.16898094352086362, val_acc: 0.771332323551178\n"
     ]
    },
    {
     "name": "stderr",
     "output_type": "stream",
     "text": [
      "Train:   6%|████▏                                                                     | 31/540 [00:01<00:12, 40.15it/s]"
     ]
    },
    {
     "name": "stdout",
     "output_type": "stream",
     "text": [
      "25400: train_loss : 0.01691150665283203, train_acc: 0.7699999809265137\n"
     ]
    },
    {
     "name": "stderr",
     "output_type": "stream",
     "text": [
      "Train:  24%|█████████████████▌                                                       | 130/540 [00:02<00:05, 79.13it/s]"
     ]
    },
    {
     "name": "stdout",
     "output_type": "stream",
     "text": [
      "25500: train_loss : 0.016511507034301758, train_acc: 0.8100000023841858\n"
     ]
    },
    {
     "name": "stderr",
     "output_type": "stream",
     "text": [
      "Train:  42%|██████████████████████████████▉                                          | 229/540 [00:03<00:03, 81.86it/s]"
     ]
    },
    {
     "name": "stdout",
     "output_type": "stream",
     "text": [
      "25600: train_loss : 0.01691150665283203, train_acc: 0.7699999809265137\n"
     ]
    },
    {
     "name": "stderr",
     "output_type": "stream",
     "text": [
      "Train:  61%|████████████████████████████████████████████▎                            | 328/540 [00:05<00:02, 81.99it/s]"
     ]
    },
    {
     "name": "stdout",
     "output_type": "stream",
     "text": [
      "25700: train_loss : 0.017111506462097168, train_acc: 0.75\n"
     ]
    },
    {
     "name": "stderr",
     "output_type": "stream",
     "text": [
      "Train:  79%|█████████████████████████████████████████████████████████▋               | 427/540 [00:06<00:01, 80.91it/s]"
     ]
    },
    {
     "name": "stdout",
     "output_type": "stream",
     "text": [
      "25800: train_loss : 0.016511507034301758, train_acc: 0.8100000023841858\n"
     ]
    },
    {
     "name": "stderr",
     "output_type": "stream",
     "text": [
      "Train:  99%|████████████████████████████████████████████████████████████████████████▎| 535/540 [00:07<00:00, 80.40it/s]"
     ]
    },
    {
     "name": "stdout",
     "output_type": "stream",
     "text": [
      "25900: train_loss : 0.016811506748199465, train_acc: 0.7799999713897705\n"
     ]
    },
    {
     "name": "stderr",
     "output_type": "stream",
     "text": [
      "Train: 100%|█████████████████████████████████████████████████████████████████████████| 540/540 [00:07<00:00, 69.34it/s]\n",
      "validation: 100%|███████████████████████████████████████████████████████████████████| 600/600 [00:01<00:00, 309.88it/s]\n"
     ]
    },
    {
     "name": "stdout",
     "output_type": "stream",
     "text": [
      "49: epoch, 25920 step: val_loss : 0.1660817548831302, val_acc: 0.8003320097923279\n"
     ]
    },
    {
     "name": "stderr",
     "output_type": "stream",
     "text": [
      "Train:  16%|████████████▏                                                             | 89/540 [00:02<00:05, 75.85it/s]"
     ]
    },
    {
     "name": "stdout",
     "output_type": "stream",
     "text": [
      "26000: train_loss : 0.016811506748199465, train_acc: 0.7799999713897705\n"
     ]
    },
    {
     "name": "stderr",
     "output_type": "stream",
     "text": [
      "Train:  36%|██████████████████████████▎                                              | 195/540 [00:03<00:04, 80.85it/s]"
     ]
    },
    {
     "name": "stdout",
     "output_type": "stream",
     "text": [
      "26100: train_loss : 0.016811506748199465, train_acc: 0.7799999713897705\n"
     ]
    },
    {
     "name": "stderr",
     "output_type": "stream",
     "text": [
      "Train:  54%|███████████████████████████████████████▋                                 | 294/540 [00:04<00:03, 80.72it/s]"
     ]
    },
    {
     "name": "stdout",
     "output_type": "stream",
     "text": [
      "26200: train_loss : 0.01631150722503662, train_acc: 0.8299999833106995\n"
     ]
    },
    {
     "name": "stderr",
     "output_type": "stream",
     "text": [
      "Train:  73%|█████████████████████████████████████████████████████▏                   | 393/540 [00:05<00:01, 82.03it/s]"
     ]
    },
    {
     "name": "stdout",
     "output_type": "stream",
     "text": [
      "26300: train_loss : 0.01631150722503662, train_acc: 0.8299999833106995\n"
     ]
    },
    {
     "name": "stderr",
     "output_type": "stream",
     "text": [
      "Train:  91%|██████████████████████████████████████████████████████████████████▌      | 492/540 [00:07<00:00, 82.06it/s]"
     ]
    },
    {
     "name": "stdout",
     "output_type": "stream",
     "text": [
      "26400: train_loss : 0.017011506557464598, train_acc: 0.7599999904632568\n"
     ]
    },
    {
     "name": "stderr",
     "output_type": "stream",
     "text": [
      "Train: 100%|█████████████████████████████████████████████████████████████████████████| 540/540 [00:07<00:00, 69.47it/s]\n",
      "validation: 100%|███████████████████████████████████████████████████████████████████| 600/600 [00:01<00:00, 309.80it/s]\n"
     ]
    },
    {
     "name": "stdout",
     "output_type": "stream",
     "text": [
      "50: epoch, 26460 step: val_loss : 0.17097849301497142, val_acc: 0.7513332366943359\n"
     ]
    },
    {
     "name": "stderr",
     "output_type": "stream",
     "text": [
      "Train:  10%|███████▍                                                                  | 54/540 [00:01<00:07, 62.50it/s]"
     ]
    },
    {
     "name": "stdout",
     "output_type": "stream",
     "text": [
      "26500: train_loss : 0.017711507081985475, train_acc: 0.6899999976158142\n"
     ]
    },
    {
     "name": "stderr",
     "output_type": "stream",
     "text": [
      "Train:  28%|████████████████████▌                                                    | 152/540 [00:02<00:04, 80.18it/s]"
     ]
    },
    {
     "name": "stdout",
     "output_type": "stream",
     "text": [
      "26600: train_loss : 0.01631150722503662, train_acc: 0.8299999833106995\n"
     ]
    },
    {
     "name": "stderr",
     "output_type": "stream",
     "text": [
      "Train:  46%|█████████████████████████████████▉                                       | 251/540 [00:04<00:03, 81.53it/s]"
     ]
    },
    {
     "name": "stdout",
     "output_type": "stream",
     "text": [
      "26700: train_loss : 0.016611506938934328, train_acc: 0.7999999523162842\n"
     ]
    },
    {
     "name": "stderr",
     "output_type": "stream",
     "text": [
      "Train:  64%|███████████████████████████████████████████████                          | 348/540 [00:05<00:02, 76.61it/s]"
     ]
    },
    {
     "name": "stdout",
     "output_type": "stream",
     "text": [
      "26800: train_loss : 0.017012994289398193, train_acc: 0.7599999904632568\n"
     ]
    },
    {
     "name": "stderr",
     "output_type": "stream",
     "text": [
      "Train:  84%|█████████████████████████████████████████████████████████████▏           | 453/540 [00:06<00:01, 76.71it/s]"
     ]
    },
    {
     "name": "stdout",
     "output_type": "stream",
     "text": [
      "26900: train_loss : 0.016211506128311157, train_acc: 0.8399999737739563\n"
     ]
    },
    {
     "name": "stderr",
     "output_type": "stream",
     "text": [
      "Train: 100%|█████████████████████████████████████████████████████████████████████████| 540/540 [00:08<00:00, 62.44it/s]\n"
     ]
    }
   ],
   "source": [
    "train_step = 0\n",
    "logs = {\n",
    "    'tr_bce_loss':[],\n",
    "    'valid_bce_loss':[]\n",
    "}\n",
    "for epoch in range(1,max_epoch+1):\n",
    "    \n",
    "    # valid step\n",
    "    with torch.no_grad():\n",
    "        val_loss = 0.0\n",
    "        val_corrects = 0\n",
    "        model.eval()\n",
    "        \n",
    "        for val_batch_idx, (val_images,val_labels) in enumerate(tqdm(val_dataloader,position=0,leave=True,desc='validation')):\n",
    "            \n",
    "            val_images = val_images.to(device)\n",
    "            val_labels = val_labels.to(device)\n",
    "            \n",
    "            val_outputs = model(val_images)\n",
    "            _, val_preds = torch.max(val_outputs,1)\n",
    "            val_loss += loss_function(val_outputs,val_labels).item() / val_outputs.shape[0] # per batch\n",
    "            val_corrects += torch.sum(val_preds == val_labels.data) / val_outputs.shape[0] # per batch\n",
    "            \n",
    "    # Validation logging\n",
    "    val_epoch_loss = val_loss / len(val_dataloader)\n",
    "    val_epoch_acc = val_corrects / len(val_dataloader)\n",
    "    logs['valid_bce_loss'].append(val_epoch_loss)\n",
    "    \n",
    "    print(\n",
    "        f\"{epoch}: epoch, {train_step} step: val_loss : {val_epoch_loss}, val_acc: {val_epoch_acc}\"\n",
    "    )\n",
    "    model.train()\n",
    "    \n",
    "    # train step\n",
    "    for batch_idx, (images,labels) in enumerate(tqdm(train_dataloader,position=0,leave=True,desc='Train')):\n",
    "        current_loss = 0.0\n",
    "        current_corrects = 0\n",
    "        \n",
    "        images = images.to(device)\n",
    "        labels = labels.to(device)     \n",
    "        \n",
    "        #Forward\n",
    "        outputs = model(images)\n",
    "        _, preds = torch.max(outputs,1)\n",
    "        loss = loss_function(outputs,labels)\n",
    "        \n",
    "        #Backpropagation\n",
    "        optimizer.zero_grad()\n",
    "        loss.backward()\n",
    "        \n",
    "        optimizer.step()\n",
    "#         if scheduler is not None:\n",
    "#             scheduler.step()\n",
    "        \n",
    "        current_loss += loss.item()\n",
    "        current_corrects += torch.sum(preds==labels.data)\n",
    "        # Train logging\n",
    "        if train_step % log_interval == 0: # Performance log per batch\n",
    "            train_loss = current_loss / log_interval # average loss\n",
    "            train_acc = current_corrects / log_interval # average acc\n",
    "            print(\n",
    "                f\"{train_step}: train_loss : {train_loss}, train_acc: {train_acc}\"\n",
    "            )\n",
    "            logs['tr_bce_loss'].append(train_loss)\n",
    "            current_loss = 0\n",
    "            current_corrects = 0\n",
    "            \n",
    "        train_step+=1"
   ]
  },
  {
   "cell_type": "code",
   "execution_count": 19,
   "id": "16cac525",
   "metadata": {
    "ExecuteTime": {
     "end_time": "2022-08-03T12:36:57.507531Z",
     "start_time": "2022-08-03T12:36:57.476518Z"
    }
   },
   "outputs": [],
   "source": [
    "torch.save(model, log_dir+\"/mlp.ckpt\")"
   ]
  },
  {
   "cell_type": "code",
   "execution_count": 20,
   "id": "8614b179",
   "metadata": {
    "ExecuteTime": {
     "end_time": "2022-08-03T12:36:58.056983Z",
     "start_time": "2022-08-03T12:36:58.033944Z"
    }
   },
   "outputs": [
    {
     "name": "stdout",
     "output_type": "stream",
     "text": [
      "CNN(\n",
      "  (layer1): Sequential(\n",
      "    (0): Conv2d(1, 32, kernel_size=(3, 3), stride=(1, 1), padding=(1, 1))\n",
      "    (1): BatchNorm2d(32, eps=1e-05, momentum=0.1, affine=True, track_running_stats=True)\n",
      "    (2): ReLU()\n",
      "    (3): MaxPool2d(kernel_size=2, stride=2, padding=0, dilation=1, ceil_mode=False)\n",
      "  )\n",
      "  (layer2): Sequential(\n",
      "    (0): Conv2d(32, 64, kernel_size=(3, 3), stride=(1, 1))\n",
      "    (1): BatchNorm2d(64, eps=1e-05, momentum=0.1, affine=True, track_running_stats=True)\n",
      "    (2): ReLU()\n",
      "    (3): MaxPool2d(kernel_size=2, stride=2, padding=0, dilation=1, ceil_mode=False)\n",
      "  )\n",
      "  (fc1): Linear(in_features=2304, out_features=512, bias=True)\n",
      "  (fc2): Linear(in_features=512, out_features=128, bias=True)\n",
      "  (fc3): Linear(in_features=128, out_features=10, bias=True)\n",
      "  (dropout): Dropout2d(p=0.25, inplace=False)\n",
      ")\n"
     ]
    }
   ],
   "source": [
    "loaded_model = torch.load(log_dir+\"/mlp.ckpt\")\n",
    "loaded_model.eval()\n",
    "print(loaded_model)"
   ]
  },
  {
   "cell_type": "code",
   "execution_count": 21,
   "id": "6fb070ad",
   "metadata": {
    "ExecuteTime": {
     "end_time": "2022-08-03T12:37:02.864381Z",
     "start_time": "2022-08-03T12:37:00.944398Z"
    }
   },
   "outputs": [
    {
     "name": "stderr",
     "output_type": "stream",
     "text": [
      "Test: 100%|██████████████████████████████████████████████████████████████████████████| 100/100 [00:01<00:00, 52.98it/s]"
     ]
    },
    {
     "name": "stdout",
     "output_type": "stream",
     "text": [
      "\n",
      " acc :33.03%\n"
     ]
    },
    {
     "name": "stderr",
     "output_type": "stream",
     "text": [
      "\n"
     ]
    }
   ],
   "source": [
    "test_batch_size=100\n",
    "test_dataset = FashionMNIST(data_root, download=True, train=False,transform=transforms.ToTensor())\n",
    "test_dataloader = torch.utils.data.DataLoader(test_dataset,batch_size=test_batch_size, shuffle=False,num_workers=1)\n",
    "\n",
    "test_labels_list = []\n",
    "test_preds_list = []\n",
    "test_outputs_list= []\n",
    "for i, (test_images,test_labels) in enumerate(tqdm(test_dataloader,position=0,leave=True,desc='Test')):\n",
    "    \n",
    "    test_images = test_images.to(device)\n",
    "    test_labels = test_labels.to(device)\n",
    "    \n",
    "    test_outputs = loaded_model(test_images)\n",
    "    test_outputs = test_outputs.to(device)\n",
    "    \n",
    "    _, test_preds = torch.max(test_outputs,1)\n",
    "    \n",
    "    final_outputs = test_outputs.detach().cpu().numpy()\n",
    "    test_outputs_list.extend(final_outputs)\n",
    "    test_labels_list.extend(test_labels.detach().cpu().numpy())\n",
    "    test_preds_list.extend(test_preds.detach().cpu().numpy())\n",
    "    \n",
    "test_preds_list = np.array(test_preds_list)\n",
    "test_labels_list = np.array(test_labels_list)\n",
    "\n",
    "print(f'\\n acc :{np.mean(test_preds_list==test_labels_list)*100}%')"
   ]
  },
  {
   "cell_type": "code",
   "execution_count": 22,
   "id": "76862cb0",
   "metadata": {
    "ExecuteTime": {
     "end_time": "2022-08-03T12:37:04.079238Z",
     "start_time": "2022-08-03T12:37:02.865379Z"
    }
   },
   "outputs": [
    {
     "data": {
      "image/png": "[encoded data removed]",
      "text/plain": [
       "<Figure size 432x288 with 1 Axes>"
      ]
     },
     "metadata": {
      "needs_background": "light"
     },
     "output_type": "display_data"
    },
    {
     "name": "stdout",
     "output_type": "stream",
     "text": [
      "auc_score 0.6354735555555557\n"
     ]
    }
   ],
   "source": [
    "from sklearn.metrics import roc_curve\n",
    "from sklearn.metrics import roc_auc_score\n",
    "import matplotlib.pyplot as plt\n",
    "\n",
    "false_positive_rate = {}\n",
    "true_positive_rate = {}\n",
    "threshold = {}\n",
    "n_class = 10\n",
    "\n",
    "for i in range(n_class):\n",
    "    false_positive_rate[i],true_positive_rate[i],threshold[i] = roc_curve(test_labels_list, np.array(test_outputs_list)[:,i],pos_label=i)\n",
    "for i in range(n_class):\n",
    "    plt.plot(false_positive_rate[i],true_positive_rate[i],linestyle='--',label=f\"Class {i}\")\n",
    "    \n",
    "plt.title('Multi-class ROC Curve')\n",
    "plt.xlabel('False Positive Rate')\n",
    "plt.ylabel('True Positive Rate')\n",
    "plt.legend(loc='best')\n",
    "plt.show()\n",
    "\n",
    "print(\"auc_score\",roc_auc_score(test_labels_list,test_outputs_list,multi_class='ovo',average='macro'))"
   ]
  },
  {
   "cell_type": "code",
   "execution_count": 23,
   "id": "6b8ddbfd",
   "metadata": {
    "ExecuteTime": {
     "end_time": "2022-08-03T12:37:04.239273Z",
     "start_time": "2022-08-03T12:37:04.081238Z"
    }
   },
   "outputs": [
    {
     "data": {
      "text/plain": [
       "[<matplotlib.lines.Line2D at 0x294ccb393a0>]"
      ]
     },
     "execution_count": 23,
     "metadata": {},
     "output_type": "execute_result"
    },
    {
     "data": {
      "image/png": "[encoded data removed]",
      "text/plain": [
       "<Figure size 432x288 with 1 Axes>"
      ]
     },
     "metadata": {
      "needs_background": "light"
     },
     "output_type": "display_data"
    }
   ],
   "source": [
    "plt.plot(np.array(logs['tr_bce_loss']))"
   ]
  },
  {
   "cell_type": "code",
   "execution_count": 24,
   "id": "42d18183",
   "metadata": {
    "ExecuteTime": {
     "end_time": "2022-08-03T12:37:04.319291Z",
     "start_time": "2022-08-03T12:37:04.240274Z"
    }
   },
   "outputs": [
    {
     "data": {
      "text/plain": [
       "[<matplotlib.lines.Line2D at 0x294ccb2c070>]"
      ]
     },
     "execution_count": 24,
     "metadata": {},
     "output_type": "execute_result"
    },
    {
     "data": {
      "image/png": "[encoded data removed]",
      "text/plain": [
       "<Figure size 432x288 with 1 Axes>"
      ]
     },
     "metadata": {
      "needs_background": "light"
     },
     "output_type": "display_data"
    }
   ],
   "source": [
    "plt.plot(np.array(logs['tr_bce_loss']))"
   ]
  },
  {
   "cell_type": "code",
   "execution_count": null,
   "id": "63c6c51b",
   "metadata": {},
   "outputs": [],
   "source": []
  }
 ],
 "metadata": {
  "kernelspec": {
   "display_name": "SKT-env",
   "language": "python",
   "name": "skt-env"
  },
  "language_info": {
   "codemirror_mode": {
    "name": "ipython",
    "version": 3
   },
   "file_extension": ".py",
   "mimetype": "text/x-python",
   "name": "python",
   "nbconvert_exporter": "python",
   "pygments_lexer": "ipython3",
   "version": "3.8.13"
  }
 },
 "nbformat": 4,
 "nbformat_minor": 5
}
