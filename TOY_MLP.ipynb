{
 "cells": [
  {
   "cell_type": "code",
   "execution_count": 1,
   "id": "2f6a2d97",
   "metadata": {
    "ExecuteTime": {
     "end_time": "2022-07-26T11:59:55.132541Z",
     "start_time": "2022-07-26T11:59:54.339479Z"
    }
   },
   "outputs": [],
   "source": [
    "# check for requirements.txt\n",
    "\n",
    "import os\n",
    "import sys\n",
    "import argparse\n",
    "\n",
    "import torch\n",
    "import numpy as np\n",
    "\n",
    "import torch\n",
    "from torch import nn\n",
    "import torch.nn.functional as F\n",
    "import torch.optim as optim\n",
    "from torch.utils.data import DataLoader\n",
    "from torch.utils.data import random_split\n",
    "from torchvision.datasets import FashionMNIST\n",
    "from torchvision import transforms # callable\n",
    "from tqdm import tqdm\n",
    "from datetime import datetime"
   ]
  },
  {
   "cell_type": "code",
   "execution_count": 2,
   "id": "9304cca9",
   "metadata": {
    "ExecuteTime": {
     "end_time": "2022-07-26T11:59:55.148136Z",
     "start_time": "2022-07-26T11:59:55.132541Z"
    }
   },
   "outputs": [
    {
     "name": "stdout",
     "output_type": "stream",
     "text": [
      "True\n",
      "cuda\n"
     ]
    }
   ],
   "source": [
    "# check if GPu is available\n",
    "# os.environ[\"CUDA_DEVICE_ORDER\"]=\"PCI_BUS_ID\"\n",
    "# os.environ[\"CUDA_VISIBLE_DEVICES\"]=\"0\"\n",
    "print(torch.cuda.is_available())\n",
    "device = torch.device('cuda' if torch.cuda.is_available() else 'cpu')\n",
    "print(device)"
   ]
  },
  {
   "cell_type": "code",
   "execution_count": 3,
   "id": "6a1740af",
   "metadata": {
    "ExecuteTime": {
     "end_time": "2022-07-26T11:59:55.179158Z",
     "start_time": "2022-07-26T11:59:55.149138Z"
    },
    "scrolled": true
   },
   "outputs": [],
   "source": [
    "# Preprocessing & Dataset definition\n",
    "data_root = os.path.join(os.getcwd(),\"data\")\n",
    "# Composes several transforms together.\n",
    "transform = transforms.Compose( \n",
    "    [\n",
    "    transforms.ToTensor(), # PIL Image or ndarray-> FloatTensor with (c,h,w), Intensity to [0,1]\n",
    "    transforms.Normalize([0.5],[0.5]) # normalize each channel of the input\n",
    "    # mean (sequence) – Sequence of means for each channel.\n",
    "    # std (sequence) – Sequence of standard deviations for each channel.\n",
    "    ]\n",
    ")\n",
    "fashion_mnist_dataset = FashionMNIST(data_root, download=True, train=True, transform = transform)"
   ]
  },
  {
   "cell_type": "code",
   "execution_count": 4,
   "id": "8d848499",
   "metadata": {
    "ExecuteTime": {
     "end_time": "2022-07-26T11:59:55.195165Z",
     "start_time": "2022-07-26T11:59:55.180158Z"
    }
   },
   "outputs": [],
   "source": [
    "data = random_split(fashion_mnist_dataset, [int(len(fashion_mnist_dataset)*0.9),int(len(fashion_mnist_dataset)*0.1)])\n",
    "train_dataset = data[0]\n",
    "val_dataset = data[1]\n",
    "\n",
    "train_batchszie = 100\n",
    "val_batchszie = 10\n",
    "\n",
    "train_dataloader = torch.utils.data.DataLoader(\n",
    "    train_dataset, batch_size=train_batchszie, shuffle =True, num_workers=1\n",
    ")\n",
    "# Iterable object composed of iterable data\n",
    "\n",
    "val_dataloader = torch.utils.data.DataLoader(\n",
    "    val_dataset, batch_size=val_batchszie, shuffle =True, num_workers=1\n",
    ")\n"
   ]
  },
  {
   "cell_type": "code",
   "execution_count": 5,
   "id": "6cd23e77",
   "metadata": {
    "ExecuteTime": {
     "end_time": "2022-07-26T11:59:55.385340Z",
     "start_time": "2022-07-26T11:59:55.370337Z"
    }
   },
   "outputs": [],
   "source": [
    "def softmax(x,axis=0):\n",
    "    max = np.max(x, axis=axis,keepdims=True)\n",
    "    e_x = np.exp(x-max) #?\n",
    "    sum = np.sum(e_x, axis=axis,keepdims=True)\n",
    "    f_x = e_x/sum\n",
    "    return f_x"
   ]
  },
  {
   "cell_type": "code",
   "execution_count": 16,
   "id": "643f0d53",
   "metadata": {
    "ExecuteTime": {
     "end_time": "2022-07-26T12:04:55.036378Z",
     "start_time": "2022-07-26T12:04:55.014708Z"
    }
   },
   "outputs": [],
   "source": [
    "class MLP(nn.Module):\n",
    "    def __init__(self, input_dim: int, h1_dim: int, h2_dim: int, h3_dim: int, output_dim: int):\n",
    "        super().__init__()\n",
    "        self.linear1 = nn.Linear(input_dim,h1_dim)\n",
    "        self.linear2 = nn.Linear(h1_dim,h2_dim)\n",
    "        self.linear3 = nn.Linear(h2_dim,h3_dim)\n",
    "        self.linear4 = nn.Linear(h3_dim,h2_dim)\n",
    "        self.linear5 = nn.Linear(h2_dim,output_dim)\n",
    "        self.relu = F.relu\n",
    "        self.softmax = F.softmax\n",
    "        \n",
    "    def forward(self,input):\n",
    "        x = torch.flatten(input,start_dim=1)\n",
    "        x = self.relu(self.linear1(x))\n",
    "        x = self.relu(self.linear2(x))\n",
    "        x = self.relu(self.linear3(x))\n",
    "        x = self.relu(self.linear4(x))\n",
    "        output = self.softmax(self.linear5(x),dim=1)\n",
    "        return output \n",
    "    \n",
    "class MLPWithDropout(MLP):\n",
    "    def __init__(self, input_dim: int, h1_dim: int, h2_dim: int, h3_dim: int, output_dim: int\n",
    "                ,dropout_prob: float):\n",
    "        super().__init__(input_dim, h1_dim, h2_dim, h3_dim, output_dim)\n",
    "        self.dropout = nn.Dropout(dropout_prob)\n",
    "        self.dropout1 = nn.Dropout(dropout_prob)\n",
    "        self.dropout2 = nn.Dropout(dropout_prob)\n",
    "        self.dropout3 = nn.Dropout(dropout_prob)\n",
    "        \n",
    "    def forward(self,input):\n",
    "        x = torch.flatten(input,start_dim=1)\n",
    "        x = self.relu(self.linear1(x))\n",
    "        x = self.dropout1(x)\n",
    "        x = self.relu(self.linear2(x))\n",
    "        x = self.dropout2(x)\n",
    "        x = self.relu(self.linear3(x))\n",
    "        x = self.dropout3(x)\n",
    "        x = self.relu(self.linear4(x))\n",
    "        x = self.dropout(x)\n",
    "        output = self.softmax(self.linear5(x),dim=1)\n",
    "        return output"
   ]
  },
  {
   "cell_type": "code",
   "execution_count": 17,
   "id": "c205e6d1",
   "metadata": {
    "ExecuteTime": {
     "end_time": "2022-07-26T12:04:57.072921Z",
     "start_time": "2022-07-26T12:04:57.062890Z"
    }
   },
   "outputs": [],
   "source": [
    "# model = MLP(28*28, 128, 64, 32, 10).to(device)\n",
    "model = MLPWithDropout(28*28, 128, 64, 32, 10, 0.3).to(device)\n",
    "model_name = type(model).__name__\n",
    "loss_function = nn.CrossEntropyLoss()\n",
    "optimizer = torch.optim.Adam(model.parameters(),lr=1e-3)\n",
    "max_epoch=15\n",
    "log_interval = 100"
   ]
  },
  {
   "cell_type": "code",
   "execution_count": 18,
   "id": "0541f910",
   "metadata": {
    "ExecuteTime": {
     "end_time": "2022-07-26T12:07:23.004156Z",
     "start_time": "2022-07-26T12:04:58.524315Z"
    },
    "scrolled": true
   },
   "outputs": [
    {
     "name": "stderr",
     "output_type": "stream",
     "text": [
      "validation: 100%|███████████████████████████████████████████████████████████████████| 600/600 [00:01<00:00, 307.56it/s]\n"
     ]
    },
    {
     "name": "stdout",
     "output_type": "stream",
     "text": [
      "1: epoch, 0 step: val_loss : 0.23027850687503815, val_acc: 0.09549982845783234\n"
     ]
    },
    {
     "name": "stderr",
     "output_type": "stream",
     "text": [
      "Train:   3%|██▍                                                                       | 18/540 [00:01<00:21, 23.89it/s]"
     ]
    },
    {
     "name": "stdout",
     "output_type": "stream",
     "text": [
      "0: train_loss : 0.023019380569458008, train_acc: 0.1599999964237213\n"
     ]
    },
    {
     "name": "stderr",
     "output_type": "stream",
     "text": [
      "Train:  20%|██████████████▋                                                          | 109/540 [00:02<00:05, 80.03it/s]"
     ]
    },
    {
     "name": "stdout",
     "output_type": "stream",
     "text": [
      "100: train_loss : 0.018510606288909912, train_acc: 0.6200000047683716\n"
     ]
    },
    {
     "name": "stderr",
     "output_type": "stream",
     "text": [
      "Train:  39%|████████████████████████████                                             | 208/540 [00:03<00:04, 81.70it/s]"
     ]
    },
    {
     "name": "stdout",
     "output_type": "stream",
     "text": [
      "200: train_loss : 0.017708355188369752, train_acc: 0.6899999976158142\n"
     ]
    },
    {
     "name": "stderr",
     "output_type": "stream",
     "text": [
      "Train:  59%|██████████████████████████████████████████▋                              | 316/540 [00:04<00:02, 82.66it/s]"
     ]
    },
    {
     "name": "stdout",
     "output_type": "stream",
     "text": [
      "300: train_loss : 0.01772780418395996, train_acc: 0.7099999785423279\n"
     ]
    },
    {
     "name": "stderr",
     "output_type": "stream",
     "text": [
      "Train:  77%|████████████████████████████████████████████████████████                 | 415/540 [00:05<00:01, 82.31it/s]"
     ]
    },
    {
     "name": "stdout",
     "output_type": "stream",
     "text": [
      "400: train_loss : 0.017421132326126097, train_acc: 0.75\n"
     ]
    },
    {
     "name": "stderr",
     "output_type": "stream",
     "text": [
      "Train:  95%|█████████████████████████████████████████████████████████████████████▍   | 514/540 [00:07<00:00, 81.82it/s]"
     ]
    },
    {
     "name": "stdout",
     "output_type": "stream",
     "text": [
      "500: train_loss : 0.01712130069732666, train_acc: 0.7599999904632568\n"
     ]
    },
    {
     "name": "stderr",
     "output_type": "stream",
     "text": [
      "Train: 100%|█████████████████████████████████████████████████████████████████████████| 540/540 [00:07<00:00, 70.89it/s]\n",
      "validation: 100%|███████████████████████████████████████████████████████████████████| 600/600 [00:02<00:00, 295.36it/s]\n"
     ]
    },
    {
     "name": "stdout",
     "output_type": "stream",
     "text": [
      "2: epoch, 540 step: val_loss : 0.16849978268146515, val_acc: 0.7749992609024048\n"
     ]
    },
    {
     "name": "stderr",
     "output_type": "stream",
     "text": [
      "Train:  13%|█████████▌                                                                | 70/540 [00:01<00:06, 70.56it/s]"
     ]
    },
    {
     "name": "stdout",
     "output_type": "stream",
     "text": [
      "600: train_loss : 0.017380571365356444, train_acc: 0.7199999690055847\n"
     ]
    },
    {
     "name": "stderr",
     "output_type": "stream",
     "text": [
      "Train:  31%|██████████████████████▉                                                  | 170/540 [00:03<00:04, 81.16it/s]"
     ]
    },
    {
     "name": "stdout",
     "output_type": "stream",
     "text": [
      "700: train_loss : 0.017226545810699462, train_acc: 0.75\n"
     ]
    },
    {
     "name": "stderr",
     "output_type": "stream",
     "text": [
      "Train:  50%|████████████████████████████████████▌                                    | 270/540 [00:04<00:03, 83.45it/s]"
     ]
    },
    {
     "name": "stdout",
     "output_type": "stream",
     "text": [
      "800: train_loss : 0.01724702715873718, train_acc: 0.7400000095367432\n"
     ]
    },
    {
     "name": "stderr",
     "output_type": "stream",
     "text": [
      "Train:  69%|██████████████████████████████████████████████████                       | 370/540 [00:05<00:02, 81.77it/s]"
     ]
    },
    {
     "name": "stdout",
     "output_type": "stream",
     "text": [
      "900: train_loss : 0.017108213901519776, train_acc: 0.7599999904632568\n"
     ]
    },
    {
     "name": "stderr",
     "output_type": "stream",
     "text": [
      "Train:  87%|███████████████████████████████████████████████████████████████▌         | 470/540 [00:06<00:00, 81.38it/s]"
     ]
    },
    {
     "name": "stdout",
     "output_type": "stream",
     "text": [
      "1000: train_loss : 0.01701002359390259, train_acc: 0.7599999904632568\n"
     ]
    },
    {
     "name": "stderr",
     "output_type": "stream",
     "text": [
      "Train: 100%|█████████████████████████████████████████████████████████████████████████| 540/540 [00:07<00:00, 70.14it/s]\n",
      "validation: 100%|███████████████████████████████████████████████████████████████████| 600/600 [00:02<00:00, 293.27it/s]\n"
     ]
    },
    {
     "name": "stdout",
     "output_type": "stream",
     "text": [
      "3: epoch, 1080 step: val_loss : 0.16618569195270538, val_acc: 0.7974987030029297\n"
     ]
    },
    {
     "name": "stderr",
     "output_type": "stream",
     "text": [
      "Train:   6%|████▌                                                                     | 33/540 [00:01<00:12, 41.39it/s]"
     ]
    },
    {
     "name": "stdout",
     "output_type": "stream",
     "text": [
      "1100: train_loss : 0.01714827299118042, train_acc: 0.7400000095367432\n"
     ]
    },
    {
     "name": "stderr",
     "output_type": "stream",
     "text": [
      "Train:  24%|█████████████████▍                                                       | 129/540 [00:02<00:05, 75.47it/s]"
     ]
    },
    {
     "name": "stdout",
     "output_type": "stream",
     "text": [
      "1200: train_loss : 0.01718711256980896, train_acc: 0.7400000095367432\n"
     ]
    },
    {
     "name": "stderr",
     "output_type": "stream",
     "text": [
      "Train:  44%|███████████████████████████████▊                                         | 235/540 [00:03<00:03, 81.70it/s]"
     ]
    },
    {
     "name": "stdout",
     "output_type": "stream",
     "text": [
      "1300: train_loss : 0.01703219175338745, train_acc: 0.7599999904632568\n"
     ]
    },
    {
     "name": "stderr",
     "output_type": "stream",
     "text": [
      "Train:  62%|█████████████████████████████████████████████▏                           | 334/540 [00:05<00:02, 81.59it/s]"
     ]
    },
    {
     "name": "stdout",
     "output_type": "stream",
     "text": [
      "1400: train_loss : 0.017377012968063356, train_acc: 0.7199999690055847\n"
     ]
    },
    {
     "name": "stderr",
     "output_type": "stream",
     "text": [
      "Train:  80%|██████████████████████████████████████████████████████████▌              | 433/540 [00:06<00:01, 81.29it/s]"
     ]
    },
    {
     "name": "stdout",
     "output_type": "stream",
     "text": [
      "1500: train_loss : 0.01680051565170288, train_acc: 0.7999999523162842\n"
     ]
    },
    {
     "name": "stderr",
     "output_type": "stream",
     "text": [
      "Train:  99%|███████████████████████████████████████████████████████████████████████▉ | 532/540 [00:07<00:00, 81.83it/s]"
     ]
    },
    {
     "name": "stdout",
     "output_type": "stream",
     "text": [
      "1600: train_loss : 0.01613511562347412, train_acc: 0.8499999642372131\n"
     ]
    },
    {
     "name": "stderr",
     "output_type": "stream",
     "text": [
      "Train: 100%|█████████████████████████████████████████████████████████████████████████| 540/540 [00:07<00:00, 69.23it/s]\n",
      "validation: 100%|███████████████████████████████████████████████████████████████████| 600/600 [00:01<00:00, 305.17it/s]\n"
     ]
    },
    {
     "name": "stdout",
     "output_type": "stream",
     "text": [
      "4: epoch, 1620 step: val_loss : 0.16524909436702728, val_acc: 0.8078320622444153\n"
     ]
    },
    {
     "name": "stderr",
     "output_type": "stream",
     "text": [
      "Train:  18%|█████████████                                                             | 95/540 [00:02<00:05, 77.43it/s]"
     ]
    },
    {
     "name": "stdout",
     "output_type": "stream",
     "text": [
      "1700: train_loss : 0.017258362770080568, train_acc: 0.7299999594688416\n"
     ]
    },
    {
     "name": "stderr",
     "output_type": "stream",
     "text": [
      "Train:  36%|██████████████████████████▏                                              | 194/540 [00:03<00:04, 81.87it/s]"
     ]
    },
    {
     "name": "stdout",
     "output_type": "stream",
     "text": [
      "1800: train_loss : 0.016477780342102052, train_acc: 0.8100000023841858\n"
     ]
    },
    {
     "name": "stderr",
     "output_type": "stream",
     "text": [
      "Train:  54%|███████████████████████████████████████▌                                 | 293/540 [00:04<00:03, 82.22it/s]"
     ]
    },
    {
     "name": "stdout",
     "output_type": "stream",
     "text": [
      "1900: train_loss : 0.016819610595703124, train_acc: 0.7799999713897705\n"
     ]
    },
    {
     "name": "stderr",
     "output_type": "stream",
     "text": [
      "Train:  73%|████████████████████████████████████████████████████▉                    | 392/540 [00:05<00:01, 81.37it/s]"
     ]
    },
    {
     "name": "stdout",
     "output_type": "stream",
     "text": [
      "2000: train_loss : 0.017295182943344117, train_acc: 0.7299999594688416\n"
     ]
    },
    {
     "name": "stderr",
     "output_type": "stream",
     "text": [
      "Train:  91%|██████████████████████████████████████████████████████████████████▍      | 491/540 [00:06<00:00, 80.65it/s]"
     ]
    },
    {
     "name": "stdout",
     "output_type": "stream",
     "text": [
      "2100: train_loss : 0.01684295177459717, train_acc: 0.7799999713897705\n"
     ]
    },
    {
     "name": "stderr",
     "output_type": "stream",
     "text": [
      "Train: 100%|█████████████████████████████████████████████████████████████████████████| 540/540 [00:07<00:00, 70.15it/s]\n",
      "validation: 100%|███████████████████████████████████████████████████████████████████| 600/600 [00:01<00:00, 302.88it/s]\n"
     ]
    },
    {
     "name": "stdout",
     "output_type": "stream",
     "text": [
      "5: epoch, 2160 step: val_loss : 0.16470204293727875, val_acc: 0.8148320317268372\n"
     ]
    },
    {
     "name": "stderr",
     "output_type": "stream",
     "text": [
      "Train:  10%|███████▎                                                                  | 53/540 [00:01<00:08, 59.43it/s]"
     ]
    },
    {
     "name": "stdout",
     "output_type": "stream",
     "text": [
      "2200: train_loss : 0.0170153284072876, train_acc: 0.7599999904632568\n"
     ]
    },
    {
     "name": "stderr",
     "output_type": "stream",
     "text": [
      "Train:  28%|████████████████████▎                                                    | 150/540 [00:02<00:04, 80.55it/s]"
     ]
    },
    {
     "name": "stdout",
     "output_type": "stream",
     "text": [
      "2300: train_loss : 0.017099722623825073, train_acc: 0.75\n"
     ]
    },
    {
     "name": "stderr",
     "output_type": "stream",
     "text": [
      "Train:  46%|█████████████████████████████████▊                                       | 250/540 [00:04<00:03, 81.46it/s]"
     ]
    },
    {
     "name": "stdout",
     "output_type": "stream",
     "text": [
      "2400: train_loss : 0.016862939596176147, train_acc: 0.7799999713897705\n"
     ]
    },
    {
     "name": "stderr",
     "output_type": "stream",
     "text": [
      "Train:  65%|███████████████████████████████████████████████▍                         | 351/540 [00:05<00:02, 82.29it/s]"
     ]
    },
    {
     "name": "stdout",
     "output_type": "stream",
     "text": [
      "2500: train_loss : 0.016776046752929687, train_acc: 0.7899999618530273\n"
     ]
    },
    {
     "name": "stderr",
     "output_type": "stream",
     "text": [
      "Train:  83%|████████████████████████████████████████████████████████████▊            | 450/540 [00:06<00:01, 80.45it/s]"
     ]
    },
    {
     "name": "stdout",
     "output_type": "stream",
     "text": [
      "2600: train_loss : 0.016833996772766112, train_acc: 0.7899999618530273\n"
     ]
    },
    {
     "name": "stderr",
     "output_type": "stream",
     "text": [
      "Train: 100%|█████████████████████████████████████████████████████████████████████████| 540/540 [00:07<00:00, 70.40it/s]\n",
      "validation: 100%|███████████████████████████████████████████████████████████████████| 600/600 [00:01<00:00, 308.29it/s]\n"
     ]
    },
    {
     "name": "stdout",
     "output_type": "stream",
     "text": [
      "6: epoch, 2700 step: val_loss : 0.16446565091609955, val_acc: 0.8164982795715332\n"
     ]
    },
    {
     "name": "stderr",
     "output_type": "stream",
     "text": [
      "Train:   2%|█▎                                                                         | 9/540 [00:01<00:45, 11.56it/s]"
     ]
    },
    {
     "name": "stdout",
     "output_type": "stream",
     "text": [
      "2700: train_loss : 0.01686776876449585, train_acc: 0.7799999713897705\n"
     ]
    },
    {
     "name": "stderr",
     "output_type": "stream",
     "text": [
      "Train:  21%|███████████████▎                                                         | 113/540 [00:02<00:05, 79.48it/s]"
     ]
    },
    {
     "name": "stdout",
     "output_type": "stream",
     "text": [
      "2800: train_loss : 0.01641476631164551, train_acc: 0.8199999928474426\n"
     ]
    },
    {
     "name": "stderr",
     "output_type": "stream",
     "text": [
      "Train:  39%|████████████████████████████▋                                            | 212/540 [00:03<00:03, 82.92it/s]"
     ]
    },
    {
     "name": "stdout",
     "output_type": "stream",
     "text": [
      "2900: train_loss : 0.016308495998382567, train_acc: 0.8299999833106995\n"
     ]
    },
    {
     "name": "stderr",
     "output_type": "stream",
     "text": [
      "Train:  58%|██████████████████████████████████████████                               | 311/540 [00:04<00:02, 82.46it/s]"
     ]
    },
    {
     "name": "stdout",
     "output_type": "stream",
     "text": [
      "3000: train_loss : 0.017232152223587035, train_acc: 0.7400000095367432\n"
     ]
    },
    {
     "name": "stderr",
     "output_type": "stream",
     "text": [
      "Train:  76%|███████████████████████████████████████████████████████▌                 | 411/540 [00:05<00:01, 82.38it/s]"
     ]
    },
    {
     "name": "stdout",
     "output_type": "stream",
     "text": [
      "3100: train_loss : 0.01640872597694397, train_acc: 0.8199999928474426\n"
     ]
    },
    {
     "name": "stderr",
     "output_type": "stream",
     "text": [
      "Train:  95%|█████████████████████████████████████████████████████████████████████▏   | 512/540 [00:07<00:00, 81.32it/s]"
     ]
    },
    {
     "name": "stdout",
     "output_type": "stream",
     "text": [
      "3200: train_loss : 0.01651588559150696, train_acc: 0.8100000023841858\n"
     ]
    },
    {
     "name": "stderr",
     "output_type": "stream",
     "text": [
      "Train: 100%|█████████████████████████████████████████████████████████████████████████| 540/540 [00:07<00:00, 70.50it/s]\n",
      "validation: 100%|███████████████████████████████████████████████████████████████████| 600/600 [00:01<00:00, 306.03it/s]\n"
     ]
    },
    {
     "name": "stdout",
     "output_type": "stream",
     "text": [
      "7: epoch, 3240 step: val_loss : 0.16371528804302216, val_acc: 0.8221651911735535\n"
     ]
    },
    {
     "name": "stderr",
     "output_type": "stream",
     "text": [
      "Train:  14%|██████████▍                                                               | 76/540 [00:01<00:07, 65.24it/s]"
     ]
    },
    {
     "name": "stdout",
     "output_type": "stream",
     "text": [
      "3300: train_loss : 0.01684423804283142, train_acc: 0.7699999809265137\n"
     ]
    },
    {
     "name": "stderr",
     "output_type": "stream",
     "text": [
      "Train:  32%|███████████████████████▌                                                 | 174/540 [00:03<00:04, 80.83it/s]"
     ]
    },
    {
     "name": "stdout",
     "output_type": "stream",
     "text": [
      "3400: train_loss : 0.017396230697631836, train_acc: 0.7299999594688416\n"
     ]
    },
    {
     "name": "stderr",
     "output_type": "stream",
     "text": [
      "Train:  51%|████████████████████████████████████▉                                    | 273/540 [00:04<00:03, 81.02it/s]"
     ]
    },
    {
     "name": "stdout",
     "output_type": "stream",
     "text": [
      "3500: train_loss : 0.016333680152893066, train_acc: 0.8299999833106995\n"
     ]
    },
    {
     "name": "stderr",
     "output_type": "stream",
     "text": [
      "Train:  69%|██████████████████████████████████████████████████▎                      | 372/540 [00:05<00:02, 82.29it/s]"
     ]
    },
    {
     "name": "stdout",
     "output_type": "stream",
     "text": [
      "3600: train_loss : 0.015404931306838988, train_acc: 0.9199999570846558\n"
     ]
    },
    {
     "name": "stderr",
     "output_type": "stream",
     "text": [
      "Train:  87%|███████████████████████████████████████████████████████████████▋         | 471/540 [00:06<00:00, 81.90it/s]"
     ]
    },
    {
     "name": "stdout",
     "output_type": "stream",
     "text": [
      "3700: train_loss : 0.01741336941719055, train_acc: 0.7199999690055847\n"
     ]
    },
    {
     "name": "stderr",
     "output_type": "stream",
     "text": [
      "Train: 100%|█████████████████████████████████████████████████████████████████████████| 540/540 [00:07<00:00, 69.15it/s]\n",
      "validation: 100%|███████████████████████████████████████████████████████████████████| 600/600 [00:02<00:00, 298.40it/s]\n"
     ]
    },
    {
     "name": "stdout",
     "output_type": "stream",
     "text": [
      "8: epoch, 3780 step: val_loss : 0.16280974447727203, val_acc: 0.832664966583252\n"
     ]
    },
    {
     "name": "stderr",
     "output_type": "stream",
     "text": [
      "Train:   6%|████▋                                                                     | 34/540 [00:01<00:11, 43.75it/s]"
     ]
    },
    {
     "name": "stdout",
     "output_type": "stream",
     "text": [
      "3800: train_loss : 0.016398415565490723, train_acc: 0.8199999928474426\n"
     ]
    },
    {
     "name": "stderr",
     "output_type": "stream",
     "text": [
      "Train:  24%|█████████████████▍                                                       | 129/540 [00:02<00:05, 79.51it/s]"
     ]
    },
    {
     "name": "stdout",
     "output_type": "stream",
     "text": [
      "3900: train_loss : 0.016895753145217896, train_acc: 0.7799999713897705\n"
     ]
    },
    {
     "name": "stderr",
     "output_type": "stream",
     "text": [
      "Train:  44%|███████████████████████████████▉                                         | 236/540 [00:03<00:03, 81.66it/s]"
     ]
    },
    {
     "name": "stdout",
     "output_type": "stream",
     "text": [
      "4000: train_loss : 0.015702396631240845, train_acc: 0.8899999856948853\n"
     ]
    },
    {
     "name": "stderr",
     "output_type": "stream",
     "text": [
      "Train:  62%|█████████████████████████████████████████████▏                           | 334/540 [00:05<00:02, 70.51it/s]"
     ]
    },
    {
     "name": "stdout",
     "output_type": "stream",
     "text": [
      "4100: train_loss : 0.016344208717346192, train_acc: 0.8299999833106995\n"
     ]
    },
    {
     "name": "stderr",
     "output_type": "stream",
     "text": [
      "Train:  80%|██████████████████████████████████████████████████████████▌              | 433/540 [00:06<00:01, 81.87it/s]"
     ]
    },
    {
     "name": "stdout",
     "output_type": "stream",
     "text": [
      "4200: train_loss : 0.01671412229537964, train_acc: 0.7799999713897705\n"
     ]
    },
    {
     "name": "stderr",
     "output_type": "stream",
     "text": [
      "Train:  99%|███████████████████████████████████████████████████████████████████████▉ | 532/540 [00:07<00:00, 81.26it/s]"
     ]
    },
    {
     "name": "stdout",
     "output_type": "stream",
     "text": [
      "4300: train_loss : 0.016607397794723512, train_acc: 0.7999999523162842\n"
     ]
    },
    {
     "name": "stderr",
     "output_type": "stream",
     "text": [
      "Train: 100%|█████████████████████████████████████████████████████████████████████████| 540/540 [00:07<00:00, 69.29it/s]\n",
      "validation: 100%|███████████████████████████████████████████████████████████████████| 600/600 [00:01<00:00, 301.78it/s]\n"
     ]
    },
    {
     "name": "stdout",
     "output_type": "stream",
     "text": [
      "9: epoch, 4320 step: val_loss : 0.16274191439151764, val_acc: 0.8338311910629272\n"
     ]
    },
    {
     "name": "stderr",
     "output_type": "stream",
     "text": [
      "Train:  16%|████████████▏                                                             | 89/540 [00:02<00:06, 74.88it/s]"
     ]
    },
    {
     "name": "stdout",
     "output_type": "stream",
     "text": [
      "4400: train_loss : 0.016286041736602783, train_acc: 0.8299999833106995\n"
     ]
    },
    {
     "name": "stderr",
     "output_type": "stream",
     "text": [
      "Train:  35%|█████████████████████████▍                                               | 188/540 [00:03<00:04, 81.32it/s]"
     ]
    },
    {
     "name": "stdout",
     "output_type": "stream",
     "text": [
      "4500: train_loss : 0.016172060966491698, train_acc: 0.8499999642372131\n"
     ]
    },
    {
     "name": "stderr",
     "output_type": "stream",
     "text": [
      "Train:  55%|████████████████████████████████████████                                 | 296/540 [00:04<00:02, 81.48it/s]"
     ]
    },
    {
     "name": "stdout",
     "output_type": "stream",
     "text": [
      "4600: train_loss : 0.0161819064617157, train_acc: 0.8399999737739563\n"
     ]
    },
    {
     "name": "stderr",
     "output_type": "stream",
     "text": [
      "Train:  73%|█████████████████████████████████████████████████████▍                   | 395/540 [00:05<00:01, 81.00it/s]"
     ]
    },
    {
     "name": "stdout",
     "output_type": "stream",
     "text": [
      "4700: train_loss : 0.016883898973464966, train_acc: 0.7699999809265137\n"
     ]
    },
    {
     "name": "stderr",
     "output_type": "stream",
     "text": [
      "Train:  92%|██████████████████████████████████████████████████████████████████▉      | 495/540 [00:07<00:00, 80.31it/s]"
     ]
    },
    {
     "name": "stdout",
     "output_type": "stream",
     "text": [
      "4800: train_loss : 0.016269600391387938, train_acc: 0.8299999833106995\n"
     ]
    },
    {
     "name": "stderr",
     "output_type": "stream",
     "text": [
      "Train: 100%|█████████████████████████████████████████████████████████████████████████| 540/540 [00:07<00:00, 69.94it/s]\n",
      "validation: 100%|███████████████████████████████████████████████████████████████████| 600/600 [00:01<00:00, 304.53it/s]\n"
     ]
    },
    {
     "name": "stdout",
     "output_type": "stream",
     "text": [
      "10: epoch, 4860 step: val_loss : 0.16232742369174957, val_acc: 0.8376648426055908\n"
     ]
    },
    {
     "name": "stderr",
     "output_type": "stream",
     "text": [
      "Train:   9%|██████▊                                                                   | 50/540 [00:01<00:08, 57.73it/s]"
     ]
    },
    {
     "name": "stdout",
     "output_type": "stream",
     "text": [
      "4900: train_loss : 0.017210716009140016, train_acc: 0.7400000095367432\n"
     ]
    },
    {
     "name": "stderr",
     "output_type": "stream",
     "text": [
      "Train:  28%|████████████████████▎                                                    | 150/540 [00:02<00:04, 81.57it/s]"
     ]
    },
    {
     "name": "stdout",
     "output_type": "stream",
     "text": [
      "5000: train_loss : 0.016741671562194825, train_acc: 0.7799999713897705\n"
     ]
    },
    {
     "name": "stderr",
     "output_type": "stream",
     "text": [
      "Train:  46%|█████████████████████████████████▌                                       | 248/540 [00:04<00:03, 82.24it/s]"
     ]
    },
    {
     "name": "stdout",
     "output_type": "stream",
     "text": [
      "5100: train_loss : 0.017539585828781127, train_acc: 0.7099999785423279\n"
     ]
    },
    {
     "name": "stderr",
     "output_type": "stream",
     "text": [
      "Train:  66%|████████████████████████████████████████████████▏                        | 356/540 [00:05<00:02, 81.65it/s]"
     ]
    },
    {
     "name": "stdout",
     "output_type": "stream",
     "text": [
      "5200: train_loss : 0.016698601245880126, train_acc: 0.7899999618530273\n"
     ]
    },
    {
     "name": "stderr",
     "output_type": "stream",
     "text": [
      "Train:  84%|█████████████████████████████████████████████████████████████▌           | 455/540 [00:06<00:01, 79.83it/s]"
     ]
    },
    {
     "name": "stdout",
     "output_type": "stream",
     "text": [
      "5300: train_loss : 0.01638319969177246, train_acc: 0.8199999928474426\n"
     ]
    },
    {
     "name": "stderr",
     "output_type": "stream",
     "text": [
      "Train: 100%|█████████████████████████████████████████████████████████████████████████| 540/540 [00:07<00:00, 69.83it/s]\n",
      "validation: 100%|███████████████████████████████████████████████████████████████████| 600/600 [00:01<00:00, 306.38it/s]\n"
     ]
    },
    {
     "name": "stdout",
     "output_type": "stream",
     "text": [
      "11: epoch, 5400 step: val_loss : 0.16465875506401062, val_acc: 0.8134989738464355\n"
     ]
    },
    {
     "name": "stderr",
     "output_type": "stream",
     "text": [
      "Train:   2%|█▎                                                                         | 9/540 [00:01<00:46, 11.52it/s]"
     ]
    },
    {
     "name": "stdout",
     "output_type": "stream",
     "text": [
      "5400: train_loss : 0.016639976501464843, train_acc: 0.7999999523162842\n"
     ]
    },
    {
     "name": "stderr",
     "output_type": "stream",
     "text": [
      "Train:  21%|███████████████▋                                                         | 116/540 [00:02<00:05, 78.86it/s]"
     ]
    },
    {
     "name": "stdout",
     "output_type": "stream",
     "text": [
      "5500: train_loss : 0.016433314085006714, train_acc: 0.8100000023841858\n"
     ]
    },
    {
     "name": "stderr",
     "output_type": "stream",
     "text": [
      "Train:  40%|█████████████████████████████                                            | 215/540 [00:03<00:03, 82.15it/s]"
     ]
    },
    {
     "name": "stdout",
     "output_type": "stream",
     "text": [
      "5600: train_loss : 0.016335535049438476, train_acc: 0.8299999833106995\n"
     ]
    },
    {
     "name": "stderr",
     "output_type": "stream",
     "text": [
      "Train:  58%|██████████████████████████████████████████▌                              | 315/540 [00:04<00:02, 83.98it/s]"
     ]
    },
    {
     "name": "stdout",
     "output_type": "stream",
     "text": [
      "5700: train_loss : 0.016387165784835817, train_acc: 0.8199999928474426\n"
     ]
    },
    {
     "name": "stderr",
     "output_type": "stream",
     "text": [
      "Train:  77%|████████████████████████████████████████████████████████▏                | 416/540 [00:06<00:01, 80.65it/s]"
     ]
    },
    {
     "name": "stdout",
     "output_type": "stream",
     "text": [
      "5800: train_loss : 0.016797032356262207, train_acc: 0.7699999809265137\n"
     ]
    },
    {
     "name": "stderr",
     "output_type": "stream",
     "text": [
      "Train:  96%|█████████████████████████████████████████████████████████████████████▊   | 516/540 [00:07<00:00, 81.97it/s]"
     ]
    },
    {
     "name": "stdout",
     "output_type": "stream",
     "text": [
      "5900: train_loss : 0.016239036321640015, train_acc: 0.8399999737739563\n"
     ]
    },
    {
     "name": "stderr",
     "output_type": "stream",
     "text": [
      "Train: 100%|█████████████████████████████████████████████████████████████████████████| 540/540 [00:07<00:00, 70.89it/s]\n",
      "validation: 100%|███████████████████████████████████████████████████████████████████| 600/600 [00:01<00:00, 315.83it/s]\n"
     ]
    },
    {
     "name": "stdout",
     "output_type": "stream",
     "text": [
      "12: epoch, 5940 step: val_loss : 0.16324423253536224, val_acc: 0.8281646966934204\n"
     ]
    },
    {
     "name": "stderr",
     "output_type": "stream",
     "text": [
      "Train:  14%|██████████                                                                | 73/540 [00:01<00:06, 71.96it/s]"
     ]
    },
    {
     "name": "stdout",
     "output_type": "stream",
     "text": [
      "6000: train_loss : 0.01655301570892334, train_acc: 0.7999999523162842\n"
     ]
    },
    {
     "name": "stderr",
     "output_type": "stream",
     "text": [
      "Train:  32%|███████████████████████▌                                                 | 174/540 [00:03<00:04, 82.09it/s]"
     ]
    },
    {
     "name": "stdout",
     "output_type": "stream",
     "text": [
      "6100: train_loss : 0.016232593059539793, train_acc: 0.8299999833106995\n"
     ]
    },
    {
     "name": "stderr",
     "output_type": "stream",
     "text": [
      "Train:  51%|█████████████████████████████████████▎                                   | 276/540 [00:04<00:03, 85.72it/s]"
     ]
    },
    {
     "name": "stdout",
     "output_type": "stream",
     "text": [
      "6200: train_loss : 0.01636225938796997, train_acc: 0.8299999833106995\n"
     ]
    },
    {
     "name": "stderr",
     "output_type": "stream",
     "text": [
      "Train:  70%|██████████████████████████████████████████████████▉                      | 377/540 [00:05<00:01, 84.38it/s]"
     ]
    },
    {
     "name": "stdout",
     "output_type": "stream",
     "text": [
      "6300: train_loss : 0.016751266717910766, train_acc: 0.7899999618530273\n"
     ]
    },
    {
     "name": "stderr",
     "output_type": "stream",
     "text": [
      "Train:  88%|████████████████████████████████████████████████████████████████▍        | 477/540 [00:06<00:00, 84.08it/s]"
     ]
    },
    {
     "name": "stdout",
     "output_type": "stream",
     "text": [
      "6400: train_loss : 0.015999810695648195, train_acc: 0.85999995470047\n"
     ]
    },
    {
     "name": "stderr",
     "output_type": "stream",
     "text": [
      "Train: 100%|█████████████████████████████████████████████████████████████████████████| 540/540 [00:07<00:00, 71.78it/s]\n",
      "validation: 100%|███████████████████████████████████████████████████████████████████| 600/600 [00:01<00:00, 316.52it/s]\n"
     ]
    },
    {
     "name": "stdout",
     "output_type": "stream",
     "text": [
      "13: epoch, 6480 step: val_loss : 0.16238608956336975, val_acc: 0.8379983305931091\n"
     ]
    },
    {
     "name": "stderr",
     "output_type": "stream",
     "text": [
      "Train:   5%|███▌                                                                      | 26/540 [00:01<00:15, 33.77it/s]"
     ]
    },
    {
     "name": "stdout",
     "output_type": "stream",
     "text": [
      "6500: train_loss : 0.015909132957458497, train_acc: 0.85999995470047\n"
     ]
    },
    {
     "name": "stderr",
     "output_type": "stream",
     "text": [
      "Train:  25%|██████████████████▍                                                      | 136/540 [00:02<00:04, 82.05it/s]"
     ]
    },
    {
     "name": "stdout",
     "output_type": "stream",
     "text": [
      "6600: train_loss : 0.016776043176651, train_acc: 0.7899999618530273\n"
     ]
    },
    {
     "name": "stderr",
     "output_type": "stream",
     "text": [
      "Train:  44%|████████████████████████████████                                         | 237/540 [00:03<00:03, 82.92it/s]"
     ]
    },
    {
     "name": "stdout",
     "output_type": "stream",
     "text": [
      "6700: train_loss : 0.016841703653335573, train_acc: 0.7799999713897705\n"
     ]
    },
    {
     "name": "stderr",
     "output_type": "stream",
     "text": [
      "Train:  61%|████████████████████████████████████████████▍                            | 329/540 [00:04<00:02, 84.41it/s]"
     ]
    },
    {
     "name": "stdout",
     "output_type": "stream",
     "text": [
      "6800: train_loss : 0.016727590560913087, train_acc: 0.7899999618530273\n"
     ]
    },
    {
     "name": "stderr",
     "output_type": "stream",
     "text": [
      "Train:  80%|██████████████████████████████████████████████████████████▏              | 430/540 [00:06<00:01, 83.78it/s]"
     ]
    },
    {
     "name": "stdout",
     "output_type": "stream",
     "text": [
      "6900: train_loss : 0.016407278776168824, train_acc: 0.8199999928474426\n"
     ]
    },
    {
     "name": "stderr",
     "output_type": "stream",
     "text": [
      "Train:  98%|███████████████████████████████████████████████████████████████████████▋ | 530/540 [00:07<00:00, 82.98it/s]"
     ]
    },
    {
     "name": "stdout",
     "output_type": "stream",
     "text": [
      "7000: train_loss : 0.015758072137832643, train_acc: 0.8799999952316284\n"
     ]
    },
    {
     "name": "stderr",
     "output_type": "stream",
     "text": [
      "Train: 100%|█████████████████████████████████████████████████████████████████████████| 540/540 [00:07<00:00, 71.31it/s]\n",
      "validation: 100%|███████████████████████████████████████████████████████████████████| 600/600 [00:01<00:00, 316.64it/s]\n"
     ]
    },
    {
     "name": "stdout",
     "output_type": "stream",
     "text": [
      "14: epoch, 7020 step: val_loss : 0.16303829848766327, val_acc: 0.8298317790031433\n"
     ]
    },
    {
     "name": "stderr",
     "output_type": "stream",
     "text": [
      "Train:  17%|████████████▎                                                             | 90/540 [00:02<00:05, 78.00it/s]"
     ]
    },
    {
     "name": "stdout",
     "output_type": "stream",
     "text": [
      "7100: train_loss : 0.01610445261001587, train_acc: 0.85999995470047\n"
     ]
    },
    {
     "name": "stderr",
     "output_type": "stream",
     "text": [
      "Train:  35%|█████████████████████████▋                                               | 190/540 [00:03<00:04, 82.85it/s]"
     ]
    },
    {
     "name": "stdout",
     "output_type": "stream",
     "text": [
      "7200: train_loss : 0.016126672029495238, train_acc: 0.8499999642372131\n"
     ]
    },
    {
     "name": "stderr",
     "output_type": "stream",
     "text": [
      "Train:  54%|███████████████████████████████████████▎                                 | 291/540 [00:04<00:03, 82.05it/s]"
     ]
    },
    {
     "name": "stdout",
     "output_type": "stream",
     "text": [
      "7300: train_loss : 0.015589545965194702, train_acc: 0.8999999761581421\n"
     ]
    },
    {
     "name": "stderr",
     "output_type": "stream",
     "text": [
      "Train:  73%|█████████████████████████████████████████████████████▎                   | 394/540 [00:05<00:01, 81.88it/s]"
     ]
    },
    {
     "name": "stdout",
     "output_type": "stream",
     "text": [
      "7400: train_loss : 0.016488555669784546, train_acc: 0.8100000023841858\n"
     ]
    },
    {
     "name": "stderr",
     "output_type": "stream",
     "text": [
      "Train:  91%|██████████████████████████████████████████████████████████████████▋      | 493/540 [00:06<00:00, 80.95it/s]"
     ]
    },
    {
     "name": "stdout",
     "output_type": "stream",
     "text": [
      "7500: train_loss : 0.01615827202796936, train_acc: 0.8499999642372131\n"
     ]
    },
    {
     "name": "stderr",
     "output_type": "stream",
     "text": [
      "Train: 100%|█████████████████████████████████████████████████████████████████████████| 540/540 [00:07<00:00, 71.76it/s]\n",
      "validation: 100%|███████████████████████████████████████████████████████████████████| 600/600 [00:01<00:00, 313.84it/s]\n"
     ]
    },
    {
     "name": "stdout",
     "output_type": "stream",
     "text": [
      "15: epoch, 7560 step: val_loss : 0.1622556447982788, val_acc: 0.8378311395645142\n"
     ]
    },
    {
     "name": "stderr",
     "output_type": "stream",
     "text": [
      "Train:  10%|███████▏                                                                  | 52/540 [00:01<00:08, 60.08it/s]"
     ]
    },
    {
     "name": "stdout",
     "output_type": "stream",
     "text": [
      "7600: train_loss : 0.016315232515335083, train_acc: 0.8299999833106995\n"
     ]
    },
    {
     "name": "stderr",
     "output_type": "stream",
     "text": [
      "Train:  28%|████████████████████▌                                                    | 152/540 [00:02<00:04, 81.98it/s]"
     ]
    },
    {
     "name": "stdout",
     "output_type": "stream",
     "text": [
      "7700: train_loss : 0.016738187074661254, train_acc: 0.7899999618530273\n"
     ]
    },
    {
     "name": "stderr",
     "output_type": "stream",
     "text": [
      "Train:  47%|██████████████████████████████████▍                                      | 255/540 [00:03<00:03, 83.64it/s]"
     ]
    },
    {
     "name": "stdout",
     "output_type": "stream",
     "text": [
      "7800: train_loss : 0.016577931642532347, train_acc: 0.7999999523162842\n"
     ]
    },
    {
     "name": "stderr",
     "output_type": "stream",
     "text": [
      "Train:  64%|██████████████████████████████████████████████▉                          | 347/540 [00:05<00:02, 85.47it/s]"
     ]
    },
    {
     "name": "stdout",
     "output_type": "stream",
     "text": [
      "7900: train_loss : 0.01658899784088135, train_acc: 0.7999999523162842\n"
     ]
    },
    {
     "name": "stderr",
     "output_type": "stream",
     "text": [
      "Train:  83%|████████████████████████████████████████████████████████████▌            | 448/540 [00:06<00:01, 83.76it/s]"
     ]
    },
    {
     "name": "stdout",
     "output_type": "stream",
     "text": [
      "8000: train_loss : 0.017136051654815673, train_acc: 0.75\n"
     ]
    },
    {
     "name": "stderr",
     "output_type": "stream",
     "text": [
      "Train: 100%|█████████████████████████████████████████████████████████████████████████| 540/540 [00:07<00:00, 71.90it/s]\n"
     ]
    }
   ],
   "source": [
    "train_step = 0\n",
    "for epoch in range(1,max_epoch+1):\n",
    "    \n",
    "    # valid step\n",
    "    with torch.no_grad():\n",
    "        val_loss = 0.0\n",
    "        val_corrects = 0\n",
    "        model.eval()\n",
    "        \n",
    "        for val_batch_idx, (val_images,val_labels) in enumerate(tqdm(val_dataloader,position=0,leave=True,desc='validation')):\n",
    "            \n",
    "            val_images = val_images.to(device)\n",
    "            val_labels = val_labels.to(device)\n",
    "            \n",
    "            val_outputs = model(val_images)\n",
    "            _, val_preds = torch.max(val_outputs,1)\n",
    "            val_loss += loss_function(val_outputs,val_labels) / val_outputs.shape[0] # per batch\n",
    "            val_corrects += torch.sum(val_preds == val_labels.data) / val_outputs.shape[0] # per batch\n",
    "    \n",
    "    # Validation logging\n",
    "    val_epoch_loss = val_loss / len(val_dataloader)\n",
    "    val_epoch_acc = val_corrects / len(val_dataloader)\n",
    "    \n",
    "    print(\n",
    "        f\"{epoch}: epoch, {train_step} step: val_loss : {val_epoch_loss}, val_acc: {val_epoch_acc}\"\n",
    "    )\n",
    "    model.train()\n",
    "    \n",
    "    # train step\n",
    "    for batch_idx, (images,labels) in enumerate(tqdm(train_dataloader,position=0,leave=True,desc='Train')):\n",
    "        current_loss = 0.0\n",
    "        current_corrects = 0\n",
    "        \n",
    "        images = images.to(device)\n",
    "        labels = labels.to(device)     \n",
    "        \n",
    "        #Forward\n",
    "        outputs = model(images)\n",
    "        _, preds = torch.max(outputs,1)\n",
    "        loss = loss_function(outputs,labels)\n",
    "        \n",
    "        #Backpropagation\n",
    "        optimizer.zero_grad()\n",
    "        loss.backward()\n",
    "        \n",
    "        optimizer.step()\n",
    "        current_loss += loss.item()\n",
    "        current_corrects += torch.sum(preds==labels.data)\n",
    "        # Train logging\n",
    "        if train_step % log_interval == 0: # Performance log per batch\n",
    "            train_loss = current_loss / log_interval # average loss\n",
    "            train_acc = current_corrects / log_interval # average acc\n",
    "            print(\n",
    "                f\"{train_step}: train_loss : {train_loss}, train_acc: {train_acc}\"\n",
    "            )\n",
    "            current_loss = 0\n",
    "            current_corrects = 0\n",
    "            \n",
    "        train_step+=1\n",
    "        "
   ]
  },
  {
   "cell_type": "code",
   "execution_count": 19,
   "id": "16cac525",
   "metadata": {
    "ExecuteTime": {
     "end_time": "2022-07-26T12:27:46.398566Z",
     "start_time": "2022-07-26T12:27:46.381346Z"
    }
   },
   "outputs": [],
   "source": [
    "os.makedirs(\"./logs/models\",exist_ok=True)\n",
    "torch.save(model,\"./logs/models/mlp.ckpt\")"
   ]
  },
  {
   "cell_type": "code",
   "execution_count": 20,
   "id": "8614b179",
   "metadata": {
    "ExecuteTime": {
     "end_time": "2022-07-26T12:27:46.772159Z",
     "start_time": "2022-07-26T12:27:46.746151Z"
    }
   },
   "outputs": [
    {
     "name": "stdout",
     "output_type": "stream",
     "text": [
      "MLPWithDropout(\n",
      "  (linear1): Linear(in_features=784, out_features=128, bias=True)\n",
      "  (linear2): Linear(in_features=128, out_features=64, bias=True)\n",
      "  (linear3): Linear(in_features=64, out_features=32, bias=True)\n",
      "  (linear4): Linear(in_features=32, out_features=64, bias=True)\n",
      "  (linear5): Linear(in_features=64, out_features=10, bias=True)\n",
      "  (dropout): Dropout(p=0.3, inplace=False)\n",
      "  (dropout1): Dropout(p=0.3, inplace=False)\n",
      "  (dropout2): Dropout(p=0.3, inplace=False)\n",
      "  (dropout3): Dropout(p=0.3, inplace=False)\n",
      ")\n"
     ]
    }
   ],
   "source": [
    "loaded_model = torch.load(\"./logs/models/mlp.ckpt\")\n",
    "loaded_model.eval()\n",
    "print(loaded_model)"
   ]
  },
  {
   "cell_type": "code",
   "execution_count": 21,
   "id": "6fb070ad",
   "metadata": {
    "ExecuteTime": {
     "end_time": "2022-07-26T12:27:51.123718Z",
     "start_time": "2022-07-26T12:27:49.297568Z"
    }
   },
   "outputs": [
    {
     "name": "stderr",
     "output_type": "stream",
     "text": [
      "Test: 100%|██████████████████████████████████████████████████████████████████████████| 100/100 [00:01<00:00, 55.63it/s]"
     ]
    },
    {
     "name": "stdout",
     "output_type": "stream",
     "text": [
      "\n",
      " acc :62.480000000000004%\n"
     ]
    },
    {
     "name": "stderr",
     "output_type": "stream",
     "text": [
      "\n"
     ]
    }
   ],
   "source": [
    "test_batch_size=100\n",
    "test_dataset = FashionMNIST(data_root, download=True, train=False,transform=transforms.ToTensor())\n",
    "test_dataloader = torch.utils.data.DataLoader(test_dataset,batch_size=test_batch_size, shuffle=False,num_workers=1)\n",
    "\n",
    "test_labels_list = []\n",
    "test_preds_list = []\n",
    "test_outputs_list= []\n",
    "for i, (test_images,test_labels) in enumerate(tqdm(test_dataloader,position=0,leave=True,desc='Test')):\n",
    "    \n",
    "    test_images = test_images.to(device)\n",
    "    test_labels = test_labels.to(device)\n",
    "    \n",
    "    test_outputs = loaded_model(test_images)\n",
    "    test_outputs = test_outputs.to(device)\n",
    "    \n",
    "    _, test_preds = torch.max(test_outputs,1)\n",
    "    \n",
    "    final_outputs = test_outputs.detach().cpu().numpy()\n",
    "    test_outputs_list.extend(final_outputs)\n",
    "    test_labels_list.extend(test_labels.detach().cpu().numpy())\n",
    "    test_preds_list.extend(test_preds.detach().cpu().numpy())\n",
    "    \n",
    "test_preds_list = np.array(test_preds_list)\n",
    "test_labels_list = np.array(test_labels_list)\n",
    "\n",
    "print(f'\\n acc :{np.mean(test_preds_list==test_labels_list)*100}%')"
   ]
  },
  {
   "cell_type": "code",
   "execution_count": null,
   "id": "5bab8cc0",
   "metadata": {
    "ExecuteTime": {
     "end_time": "2022-07-21T06:32:32.393736Z",
     "start_time": "2022-07-21T06:32:32.374837Z"
    }
   },
   "outputs": [],
   "source": [
    "np.array(test_outputs_list)"
   ]
  },
  {
   "cell_type": "code",
   "execution_count": null,
   "id": "36350758",
   "metadata": {
    "ExecuteTime": {
     "end_time": "2022-07-21T06:33:44.868958Z",
     "start_time": "2022-07-21T06:33:44.854948Z"
    }
   },
   "outputs": [],
   "source": [
    "np.array(test_outputs_list)[:,1]"
   ]
  },
  {
   "cell_type": "code",
   "execution_count": null,
   "id": "76862cb0",
   "metadata": {
    "ExecuteTime": {
     "end_time": "2022-07-21T06:32:18.364364Z",
     "start_time": "2022-07-21T06:32:17.509840Z"
    }
   },
   "outputs": [],
   "source": [
    "from sklearn.metrics import roc_curve\n",
    "from sklearn.metrics import roc_auc_score\n",
    "import matplotlib.pyplot as plt\n",
    "\n",
    "false_positive_rate = {}\n",
    "true_positive_rate = {}\n",
    "threshold = {}\n",
    "n_class = 10\n",
    "\n",
    "for i in range(n_class):\n",
    "    false_positive_rate[i],true_positive_rate[i],threshold[i] = roc_curve(test_labels_list, np.array(test_outputs_list)[:,i],pos_label=i)\n",
    "for i in range(n_class):\n",
    "    plt.plot(false_positive_rate[i],true_positive_rate[i],linestyle='--',label=f\"Class {i}\")\n",
    "    \n",
    "plt.title('Multi-class ROC Curve')\n",
    "plt.xlabel('False Positive Rate')\n",
    "plt.ylabel('True Positive Rate')\n",
    "plt.legend(loc='best')\n",
    "plt.show()\n",
    "\n",
    "print(\"auc_score\",roc_auc_score(test_labels_list,test_outputs_list,multi_class='ovo',average='macro'))"
   ]
  },
  {
   "cell_type": "code",
   "execution_count": null,
   "id": "42d18183",
   "metadata": {},
   "outputs": [],
   "source": []
  }
 ],
 "metadata": {
  "kernelspec": {
   "display_name": "SKT-env",
   "language": "python",
   "name": "skt-env"
  },
  "language_info": {
   "codemirror_mode": {
    "name": "ipython",
    "version": 3
   },
   "file_extension": ".py",
   "mimetype": "text/x-python",
   "name": "python",
   "nbconvert_exporter": "python",
   "pygments_lexer": "ipython3",
   "version": "3.8.13"
  }
 },
 "nbformat": 4,
 "nbformat_minor": 5
}
