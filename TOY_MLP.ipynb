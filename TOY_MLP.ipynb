{
 "cells": [
  {
   "cell_type": "code",
   "execution_count": 1,
   "id": "2f6a2d97",
   "metadata": {
    "ExecuteTime": {
     "end_time": "2022-07-21T06:22:49.952156Z",
     "start_time": "2022-07-21T06:22:49.125671Z"
    }
   },
   "outputs": [],
   "source": [
    "# check for requirements.txt\n",
    "\n",
    "import os\n",
    "import sys\n",
    "import argparse\n",
    "\n",
    "import torch\n",
    "import numpy as np\n",
    "\n",
    "import torch\n",
    "from torch import nn\n",
    "import torch.nn.functional as F\n",
    "import torch.optim as optim\n",
    "from torch.utils.data import DataLoader\n",
    "from torch.utils.data import random_split\n",
    "from torchvision.datasets import FashionMNIST\n",
    "from torchvision import transforms # callable\n",
    "from tqdm import tqdm\n"
   ]
  },
  {
   "cell_type": "code",
   "execution_count": 2,
   "id": "9304cca9",
   "metadata": {
    "ExecuteTime": {
     "end_time": "2022-07-21T06:22:49.967840Z",
     "start_time": "2022-07-21T06:22:49.953157Z"
    }
   },
   "outputs": [
    {
     "name": "stdout",
     "output_type": "stream",
     "text": [
      "True\n",
      "cuda\n"
     ]
    }
   ],
   "source": [
    "# check if GPu is available\n",
    "# os.environ[\"CUDA_DEVICE_ORDER\"]=\"PCI_BUS_ID\"\n",
    "# os.environ[\"CUDA_VISIBLE_DEVICES\"]=\"0\"\n",
    "print(torch.cuda.is_available())\n",
    "device = torch.device('cuda' if torch.cuda.is_available() else 'cpu')\n",
    "print(device)"
   ]
  },
  {
   "cell_type": "code",
   "execution_count": 3,
   "id": "6a1740af",
   "metadata": {
    "ExecuteTime": {
     "end_time": "2022-07-21T06:22:49.998848Z",
     "start_time": "2022-07-21T06:22:49.969842Z"
    },
    "scrolled": true
   },
   "outputs": [],
   "source": [
    "# Preprocessing & Dataset definition\n",
    "data_root = os.path.join(os.getcwd(),\"data\")\n",
    "# Composes several transforms together.\n",
    "transform = transforms.Compose( \n",
    "    [\n",
    "    transforms.ToTensor(), # PIL Image or ndarray-> FloatTensor with (c,h,w), Intensity to [0,1]\n",
    "    transforms.Normalize([0.5],[0.5]) # normalize each channel of the input\n",
    "    # mean (sequence) – Sequence of means for each channel.\n",
    "    # std (sequence) – Sequence of standard deviations for each channel.\n",
    "    ]\n",
    ")\n",
    "fashion_mnist_dataset = FashionMNIST(data_root, download=True, train=True, transform = transform)"
   ]
  },
  {
   "cell_type": "code",
   "execution_count": 4,
   "id": "8d848499",
   "metadata": {
    "ExecuteTime": {
     "end_time": "2022-07-21T06:22:50.013852Z",
     "start_time": "2022-07-21T06:22:49.999849Z"
    }
   },
   "outputs": [],
   "source": [
    "data = random_split(fashion_mnist_dataset, [int(len(fashion_mnist_dataset)*0.9),int(len(fashion_mnist_dataset)*0.1)])\n",
    "train_dataset = data[0]\n",
    "val_dataset = data[1]\n",
    "\n",
    "train_batchszie = 100\n",
    "val_batchszie = 10\n",
    "\n",
    "train_dataloader = torch.utils.data.DataLoader(\n",
    "    train_dataset, batch_size=train_batchszie, shuffle =True, num_workers=1\n",
    ")\n",
    "# Iterable object composed of iterable data\n",
    "\n",
    "val_dataloader = torch.utils.data.DataLoader(\n",
    "    val_dataset, batch_size=val_batchszie, shuffle =True, num_workers=1\n",
    ")\n"
   ]
  },
  {
   "cell_type": "code",
   "execution_count": 5,
   "id": "6cd23e77",
   "metadata": {
    "ExecuteTime": {
     "end_time": "2022-07-21T06:22:50.029856Z",
     "start_time": "2022-07-21T06:22:50.014852Z"
    }
   },
   "outputs": [],
   "source": [
    "def softmax(x,axis=0):\n",
    "    max = np.max(x, axis=axis,keepdims=True)\n",
    "    e_x = np.exp(x-max) #?\n",
    "    sum = np.sum(e_x, axis=axis,keepdims=True)\n",
    "    f_x = e_x/sum\n",
    "    return f_x"
   ]
  },
  {
   "cell_type": "code",
   "execution_count": 21,
   "id": "643f0d53",
   "metadata": {
    "ExecuteTime": {
     "end_time": "2022-07-21T06:28:05.288987Z",
     "start_time": "2022-07-21T06:28:05.276992Z"
    }
   },
   "outputs": [],
   "source": [
    "class MLP(nn.Module):\n",
    "    def __init__(self, input_dim: int, h1_dim: int, h2_dim: int, h3_dim: int, output_dim: int):\n",
    "        super().__init__()\n",
    "        self.linear1 = nn.Linear(input_dim,h1_dim)\n",
    "        self.linear2 = nn.Linear(h1_dim,h2_dim)\n",
    "        self.linear3 = nn.Linear(h2_dim,h3_dim)\n",
    "        self.linear4 = nn.Linear(h3_dim,h2_dim)\n",
    "        self.linear5 = nn.Linear(h2_dim,output_dim)\n",
    "        self.relu = F.relu\n",
    "        self.softmax = F.softmax\n",
    "        \n",
    "    def forward(self,input):\n",
    "        x = torch.flatten(input,start_dim=1)\n",
    "        x = self.relu(self.linear1(x))\n",
    "        x = self.relu(self.linear2(x))\n",
    "        x = self.relu(self.linear3(x))\n",
    "        x = self.relu(self.linear4(x))\n",
    "        output = self.softmax(self.linear5(x),dim=1)\n",
    "        return output "
   ]
  },
  {
   "cell_type": "code",
   "execution_count": 22,
   "id": "c205e6d1",
   "metadata": {
    "ExecuteTime": {
     "end_time": "2022-07-21T06:28:05.698801Z",
     "start_time": "2022-07-21T06:28:05.692805Z"
    }
   },
   "outputs": [],
   "source": [
    "model = MLP(28*28, 128, 64, 32, 10).to(device)\n",
    "loss_function = nn.CrossEntropyLoss()\n",
    "optimizer = torch.optim.Adam(model.parameters(),lr=1e-3)\n",
    "max_epoch=15\n",
    "log_interval = 100"
   ]
  },
  {
   "cell_type": "code",
   "execution_count": 23,
   "id": "0541f910",
   "metadata": {
    "ExecuteTime": {
     "end_time": "2022-07-21T06:30:28.625132Z",
     "start_time": "2022-07-21T06:28:06.100808Z"
    },
    "scrolled": true
   },
   "outputs": [
    {
     "name": "stderr",
     "output_type": "stream",
     "text": [
      "validation: 100%|███████████████████████████████████████████████████████████████████| 600/600 [00:01<00:00, 311.72it/s]\n"
     ]
    },
    {
     "name": "stdout",
     "output_type": "stream",
     "text": [
      "1: epoch, 0 step: val_loss : 0.23025000095367432, val_acc: 0.09933323413133621\n"
     ]
    },
    {
     "name": "stderr",
     "output_type": "stream",
     "text": [
      "Train:   2%|█▎                                                                        | 10/540 [00:01<00:41, 12.80it/s]"
     ]
    },
    {
     "name": "stdout",
     "output_type": "stream",
     "text": [
      "0: train_loss : 0.023026716709136964, train_acc: 0.08999999612569809\n"
     ]
    },
    {
     "name": "stderr",
     "output_type": "stream",
     "text": [
      "Train:  21%|███████████████▏                                                         | 112/540 [00:02<00:05, 80.26it/s]"
     ]
    },
    {
     "name": "stdout",
     "output_type": "stream",
     "text": [
      "100: train_loss : 0.01786495923995972, train_acc: 0.699999988079071\n"
     ]
    },
    {
     "name": "stderr",
     "output_type": "stream",
     "text": [
      "Train:  40%|████████████████████████████▉                                            | 214/540 [00:03<00:03, 85.01it/s]"
     ]
    },
    {
     "name": "stdout",
     "output_type": "stream",
     "text": [
      "200: train_loss : 0.017827147245407106, train_acc: 0.6899999976158142\n"
     ]
    },
    {
     "name": "stderr",
     "output_type": "stream",
     "text": [
      "Train:  58%|██████████████████████████████████████████▍                              | 314/540 [00:04<00:02, 83.16it/s]"
     ]
    },
    {
     "name": "stdout",
     "output_type": "stream",
     "text": [
      "300: train_loss : 0.017310906648635865, train_acc: 0.7299999594688416\n"
     ]
    },
    {
     "name": "stderr",
     "output_type": "stream",
     "text": [
      "Train:  77%|████████████████████████████████████████████████████████▏                | 416/540 [00:05<00:01, 84.53it/s]"
     ]
    },
    {
     "name": "stdout",
     "output_type": "stream",
     "text": [
      "400: train_loss : 0.0164434015750885, train_acc: 0.8100000023841858\n"
     ]
    },
    {
     "name": "stderr",
     "output_type": "stream",
     "text": [
      "Train:  96%|█████████████████████████████████████████████████████████████████████▉   | 517/540 [00:07<00:00, 84.24it/s]"
     ]
    },
    {
     "name": "stdout",
     "output_type": "stream",
     "text": [
      "500: train_loss : 0.017096242904663085, train_acc: 0.75\n"
     ]
    },
    {
     "name": "stderr",
     "output_type": "stream",
     "text": [
      "Train: 100%|█████████████████████████████████████████████████████████████████████████| 540/540 [00:07<00:00, 72.14it/s]\n",
      "validation: 100%|███████████████████████████████████████████████████████████████████| 600/600 [00:01<00:00, 303.17it/s]\n"
     ]
    },
    {
     "name": "stdout",
     "output_type": "stream",
     "text": [
      "2: epoch, 540 step: val_loss : 0.16576968133449554, val_acc: 0.8069989681243896\n"
     ]
    },
    {
     "name": "stderr",
     "output_type": "stream",
     "text": [
      "Train:  13%|█████████▋                                                                | 71/540 [00:01<00:06, 72.16it/s]"
     ]
    },
    {
     "name": "stdout",
     "output_type": "stream",
     "text": [
      "600: train_loss : 0.01693652033805847, train_acc: 0.7799999713897705\n"
     ]
    },
    {
     "name": "stderr",
     "output_type": "stream",
     "text": [
      "Train:  32%|███████████████████████                                                  | 171/540 [00:02<00:04, 84.55it/s]"
     ]
    },
    {
     "name": "stdout",
     "output_type": "stream",
     "text": [
      "700: train_loss : 0.01686033368110657, train_acc: 0.7699999809265137\n"
     ]
    },
    {
     "name": "stderr",
     "output_type": "stream",
     "text": [
      "Train:  50%|████████████████████████████████████▌                                    | 270/540 [00:04<00:03, 84.97it/s]"
     ]
    },
    {
     "name": "stdout",
     "output_type": "stream",
     "text": [
      "800: train_loss : 0.016541196107864378, train_acc: 0.8100000023841858\n"
     ]
    },
    {
     "name": "stderr",
     "output_type": "stream",
     "text": [
      "Train:  69%|██████████████████████████████████████████████████▎                      | 372/540 [00:05<00:02, 83.17it/s]"
     ]
    },
    {
     "name": "stdout",
     "output_type": "stream",
     "text": [
      "900: train_loss : 0.016316524744033813, train_acc: 0.8299999833106995\n"
     ]
    },
    {
     "name": "stderr",
     "output_type": "stream",
     "text": [
      "Train:  87%|███████████████████████████████████████████████████████████████▊         | 472/540 [00:06<00:00, 83.54it/s]"
     ]
    },
    {
     "name": "stdout",
     "output_type": "stream",
     "text": [
      "1000: train_loss : 0.016543681621551513, train_acc: 0.8100000023841858\n"
     ]
    },
    {
     "name": "stderr",
     "output_type": "stream",
     "text": [
      "Train: 100%|█████████████████████████████████████████████████████████████████████████| 540/540 [00:07<00:00, 71.56it/s]\n",
      "validation: 100%|███████████████████████████████████████████████████████████████████| 600/600 [00:02<00:00, 296.17it/s]\n"
     ]
    },
    {
     "name": "stdout",
     "output_type": "stream",
     "text": [
      "3: epoch, 1080 step: val_loss : 0.16332660615444183, val_acc: 0.8289984464645386\n"
     ]
    },
    {
     "name": "stderr",
     "output_type": "stream",
     "text": [
      "Train:   7%|█████                                                                     | 37/540 [00:01<00:10, 46.41it/s]"
     ]
    },
    {
     "name": "stdout",
     "output_type": "stream",
     "text": [
      "1100: train_loss : 0.015849723815917968, train_acc: 0.8799999952316284\n"
     ]
    },
    {
     "name": "stderr",
     "output_type": "stream",
     "text": [
      "Train:  26%|██████████████████▋                                                      | 138/540 [00:02<00:04, 82.67it/s]"
     ]
    },
    {
     "name": "stdout",
     "output_type": "stream",
     "text": [
      "1200: train_loss : 0.015822434425354005, train_acc: 0.8899999856948853\n"
     ]
    },
    {
     "name": "stderr",
     "output_type": "stream",
     "text": [
      "Train:  42%|██████████████████████████████▉                                          | 229/540 [00:03<00:03, 82.27it/s]"
     ]
    },
    {
     "name": "stdout",
     "output_type": "stream",
     "text": [
      "1300: train_loss : 0.016346098184585572, train_acc: 0.8299999833106995\n"
     ]
    },
    {
     "name": "stderr",
     "output_type": "stream",
     "text": [
      "Train:  61%|████████████████████████████████████████████▋                            | 331/540 [00:04<00:02, 82.35it/s]"
     ]
    },
    {
     "name": "stdout",
     "output_type": "stream",
     "text": [
      "1400: train_loss : 0.016540899276733398, train_acc: 0.7999999523162842\n"
     ]
    },
    {
     "name": "stderr",
     "output_type": "stream",
     "text": [
      "Train:  80%|██████████████████████████████████████████████████████████▎              | 431/540 [00:06<00:01, 82.37it/s]"
     ]
    },
    {
     "name": "stdout",
     "output_type": "stream",
     "text": [
      "1500: train_loss : 0.016186214685440063, train_acc: 0.8399999737739563\n"
     ]
    },
    {
     "name": "stderr",
     "output_type": "stream",
     "text": [
      "Train:  98%|███████████████████████████████████████████████████████████████████████▊ | 531/540 [00:07<00:00, 80.59it/s]"
     ]
    },
    {
     "name": "stdout",
     "output_type": "stream",
     "text": [
      "1600: train_loss : 0.01615480661392212, train_acc: 0.85999995470047\n"
     ]
    },
    {
     "name": "stderr",
     "output_type": "stream",
     "text": [
      "Train: 100%|█████████████████████████████████████████████████████████████████████████| 540/540 [00:07<00:00, 71.30it/s]\n",
      "validation: 100%|███████████████████████████████████████████████████████████████████| 600/600 [00:01<00:00, 309.79it/s]\n"
     ]
    },
    {
     "name": "stdout",
     "output_type": "stream",
     "text": [
      "4: epoch, 1620 step: val_loss : 0.16219095885753632, val_acc: 0.8403316736221313\n"
     ]
    },
    {
     "name": "stderr",
     "output_type": "stream",
     "text": [
      "Train:  17%|████████████▎                                                             | 90/540 [00:01<00:05, 78.27it/s]"
     ]
    },
    {
     "name": "stdout",
     "output_type": "stream",
     "text": [
      "1700: train_loss : 0.016088279485702513, train_acc: 0.85999995470047\n"
     ]
    },
    {
     "name": "stderr",
     "output_type": "stream",
     "text": [
      "Train:  35%|█████████████████████████▌                                               | 189/540 [00:03<00:04, 82.77it/s]"
     ]
    },
    {
     "name": "stdout",
     "output_type": "stream",
     "text": [
      "1800: train_loss : 0.016800208091735838, train_acc: 0.7699999809265137\n"
     ]
    },
    {
     "name": "stderr",
     "output_type": "stream",
     "text": [
      "Train:  54%|███████████████████████████████████████▎                                 | 291/540 [00:04<00:02, 84.60it/s]"
     ]
    },
    {
     "name": "stdout",
     "output_type": "stream",
     "text": [
      "1900: train_loss : 0.016540310382843017, train_acc: 0.7999999523162842\n"
     ]
    },
    {
     "name": "stderr",
     "output_type": "stream",
     "text": [
      "Train:  72%|████████████████████████████████████████████████████▊                    | 391/540 [00:05<00:01, 82.68it/s]"
     ]
    },
    {
     "name": "stdout",
     "output_type": "stream",
     "text": [
      "2000: train_loss : 0.016699461936950682, train_acc: 0.7899999618530273\n"
     ]
    },
    {
     "name": "stderr",
     "output_type": "stream",
     "text": [
      "Train:  91%|██████████████████████████████████████████████████████████████████▌      | 492/540 [00:06<00:00, 82.00it/s]"
     ]
    },
    {
     "name": "stdout",
     "output_type": "stream",
     "text": [
      "2100: train_loss : 0.016494576930999757, train_acc: 0.8100000023841858\n"
     ]
    },
    {
     "name": "stderr",
     "output_type": "stream",
     "text": [
      "Train: 100%|█████████████████████████████████████████████████████████████████████████| 540/540 [00:07<00:00, 71.86it/s]\n",
      "validation: 100%|███████████████████████████████████████████████████████████████████| 600/600 [00:01<00:00, 314.63it/s]\n"
     ]
    },
    {
     "name": "stdout",
     "output_type": "stream",
     "text": [
      "5: epoch, 2160 step: val_loss : 0.16198566555976868, val_acc: 0.8421655297279358\n"
     ]
    },
    {
     "name": "stderr",
     "output_type": "stream",
     "text": [
      "Train:   9%|██████▉                                                                   | 51/540 [00:01<00:07, 62.69it/s]"
     ]
    },
    {
     "name": "stdout",
     "output_type": "stream",
     "text": [
      "2200: train_loss : 0.015794117450714112, train_acc: 0.8799999952316284\n"
     ]
    },
    {
     "name": "stderr",
     "output_type": "stream",
     "text": [
      "Train:  28%|████████████████████▋                                                    | 153/540 [00:02<00:04, 83.31it/s]"
     ]
    },
    {
     "name": "stdout",
     "output_type": "stream",
     "text": [
      "2300: train_loss : 0.01565131187438965, train_acc: 0.8899999856948853\n"
     ]
    },
    {
     "name": "stderr",
     "output_type": "stream",
     "text": [
      "Train:  47%|██████████████████████████████████▏                                      | 253/540 [00:03<00:03, 83.33it/s]"
     ]
    },
    {
     "name": "stdout",
     "output_type": "stream",
     "text": [
      "2400: train_loss : 0.016646430492401124, train_acc: 0.7899999618530273\n"
     ]
    },
    {
     "name": "stderr",
     "output_type": "stream",
     "text": [
      "Train:  65%|███████████████████████████████████████████████▋                         | 353/540 [00:05<00:02, 87.03it/s]"
     ]
    },
    {
     "name": "stdout",
     "output_type": "stream",
     "text": [
      "2500: train_loss : 0.01626636624336243, train_acc: 0.8399999737739563\n"
     ]
    },
    {
     "name": "stderr",
     "output_type": "stream",
     "text": [
      "Train:  84%|█████████████████████████████████████████████████████████████▏           | 453/540 [00:06<00:01, 80.29it/s]"
     ]
    },
    {
     "name": "stdout",
     "output_type": "stream",
     "text": [
      "2600: train_loss : 0.016593806743621826, train_acc: 0.7999999523162842\n"
     ]
    },
    {
     "name": "stderr",
     "output_type": "stream",
     "text": [
      "Train: 100%|█████████████████████████████████████████████████████████████████████████| 540/540 [00:07<00:00, 71.74it/s]\n",
      "validation: 100%|███████████████████████████████████████████████████████████████████| 600/600 [00:01<00:00, 300.43it/s]\n"
     ]
    },
    {
     "name": "stdout",
     "output_type": "stream",
     "text": [
      "6: epoch, 2700 step: val_loss : 0.16112414002418518, val_acc: 0.8498309254646301\n"
     ]
    },
    {
     "name": "stderr",
     "output_type": "stream",
     "text": [
      "Train:   2%|█▎                                                                         | 9/540 [00:01<00:48, 11.05it/s]"
     ]
    },
    {
     "name": "stdout",
     "output_type": "stream",
     "text": [
      "2700: train_loss : 0.016358135938644408, train_acc: 0.8199999928474426\n"
     ]
    },
    {
     "name": "stderr",
     "output_type": "stream",
     "text": [
      "Train:  21%|███████████████▋                                                         | 116/540 [00:02<00:05, 78.01it/s]"
     ]
    },
    {
     "name": "stdout",
     "output_type": "stream",
     "text": [
      "2800: train_loss : 0.01595861792564392, train_acc: 0.8700000047683716\n"
     ]
    },
    {
     "name": "stderr",
     "output_type": "stream",
     "text": [
      "Train:  40%|█████████████████████████████▏                                           | 216/540 [00:03<00:03, 82.82it/s]"
     ]
    },
    {
     "name": "stdout",
     "output_type": "stream",
     "text": [
      "2900: train_loss : 0.01618736982345581, train_acc: 0.8399999737739563\n"
     ]
    },
    {
     "name": "stderr",
     "output_type": "stream",
     "text": [
      "Train:  59%|██████████████████████████████████████████▊                              | 317/540 [00:04<00:02, 84.93it/s]"
     ]
    },
    {
     "name": "stdout",
     "output_type": "stream",
     "text": [
      "3000: train_loss : 0.017319819927215575, train_acc: 0.7199999690055847\n"
     ]
    },
    {
     "name": "stderr",
     "output_type": "stream",
     "text": [
      "Train:  76%|███████████████████████████████████████████████████████▎                 | 409/540 [00:05<00:01, 82.82it/s]"
     ]
    },
    {
     "name": "stdout",
     "output_type": "stream",
     "text": [
      "3100: train_loss : 0.015772303342819215, train_acc: 0.8700000047683716\n"
     ]
    },
    {
     "name": "stderr",
     "output_type": "stream",
     "text": [
      "Train:  94%|████████████████████████████████████████████████████████████████████▊    | 509/540 [00:07<00:00, 83.65it/s]"
     ]
    },
    {
     "name": "stdout",
     "output_type": "stream",
     "text": [
      "3200: train_loss : 0.0162136173248291, train_acc: 0.8499999642372131\n"
     ]
    },
    {
     "name": "stderr",
     "output_type": "stream",
     "text": [
      "Train: 100%|█████████████████████████████████████████████████████████████████████████| 540/540 [00:07<00:00, 70.78it/s]\n",
      "validation: 100%|███████████████████████████████████████████████████████████████████| 600/600 [00:01<00:00, 314.95it/s]\n"
     ]
    },
    {
     "name": "stdout",
     "output_type": "stream",
     "text": [
      "7: epoch, 3240 step: val_loss : 0.16190145909786224, val_acc: 0.841331422328949\n"
     ]
    },
    {
     "name": "stderr",
     "output_type": "stream",
     "text": [
      "Train:  13%|█████████▋                                                                | 71/540 [00:01<00:06, 70.86it/s]"
     ]
    },
    {
     "name": "stdout",
     "output_type": "stream",
     "text": [
      "3300: train_loss : 0.0162544584274292, train_acc: 0.8399999737739563\n"
     ]
    },
    {
     "name": "stderr",
     "output_type": "stream",
     "text": [
      "Train:  32%|███████████████████████                                                  | 171/540 [00:02<00:04, 81.44it/s]"
     ]
    },
    {
     "name": "stdout",
     "output_type": "stream",
     "text": [
      "3400: train_loss : 0.016012184619903565, train_acc: 0.8700000047683716\n"
     ]
    },
    {
     "name": "stderr",
     "output_type": "stream",
     "text": [
      "Train:  50%|████████████████████████████████████▋                                    | 271/540 [00:04<00:03, 82.42it/s]"
     ]
    },
    {
     "name": "stdout",
     "output_type": "stream",
     "text": [
      "3500: train_loss : 0.01626191258430481, train_acc: 0.8399999737739563\n"
     ]
    },
    {
     "name": "stderr",
     "output_type": "stream",
     "text": [
      "Train:  69%|██████████████████████████████████████████████████▎                      | 372/540 [00:05<00:02, 79.12it/s]"
     ]
    },
    {
     "name": "stdout",
     "output_type": "stream",
     "text": [
      "3600: train_loss : 0.01674782156944275, train_acc: 0.7799999713897705\n"
     ]
    },
    {
     "name": "stderr",
     "output_type": "stream",
     "text": [
      "Train:  88%|███████████████████████████████████████████████████████████████▉         | 473/540 [00:06<00:00, 82.60it/s]"
     ]
    },
    {
     "name": "stdout",
     "output_type": "stream",
     "text": [
      "3700: train_loss : 0.01633196830749512, train_acc: 0.8299999833106995\n"
     ]
    },
    {
     "name": "stderr",
     "output_type": "stream",
     "text": [
      "Train: 100%|█████████████████████████████████████████████████████████████████████████| 540/540 [00:07<00:00, 70.63it/s]\n",
      "validation: 100%|███████████████████████████████████████████████████████████████████| 600/600 [00:01<00:00, 318.91it/s]\n"
     ]
    },
    {
     "name": "stdout",
     "output_type": "stream",
     "text": [
      "8: epoch, 3780 step: val_loss : 0.16032980382442474, val_acc: 0.8573309779167175\n"
     ]
    },
    {
     "name": "stderr",
     "output_type": "stream",
     "text": [
      "Train:   5%|███▊                                                                      | 28/540 [00:01<00:14, 36.15it/s]"
     ]
    },
    {
     "name": "stdout",
     "output_type": "stream",
     "text": [
      "3800: train_loss : 0.016434621810913087, train_acc: 0.8100000023841858\n"
     ]
    },
    {
     "name": "stderr",
     "output_type": "stream",
     "text": [
      "Train:  25%|██████████████████▌                                                      | 137/540 [00:02<00:04, 83.30it/s]"
     ]
    },
    {
     "name": "stdout",
     "output_type": "stream",
     "text": [
      "3900: train_loss : 0.015944814682006835, train_acc: 0.8700000047683716\n"
     ]
    },
    {
     "name": "stderr",
     "output_type": "stream",
     "text": [
      "Train:  42%|██████████████████████████████▉                                          | 229/540 [00:03<00:03, 78.96it/s]"
     ]
    },
    {
     "name": "stdout",
     "output_type": "stream",
     "text": [
      "4000: train_loss : 0.015546923875808716, train_acc: 0.9099999666213989\n"
     ]
    },
    {
     "name": "stderr",
     "output_type": "stream",
     "text": [
      "Train:  63%|█████████████████████████████████████████████▋                           | 338/540 [00:05<00:02, 85.23it/s]"
     ]
    },
    {
     "name": "stdout",
     "output_type": "stream",
     "text": [
      "4100: train_loss : 0.016259727478027345, train_acc: 0.8299999833106995\n"
     ]
    },
    {
     "name": "stderr",
     "output_type": "stream",
     "text": [
      "Train:  80%|██████████████████████████████████████████████████████████▏              | 430/540 [00:06<00:01, 83.80it/s]"
     ]
    },
    {
     "name": "stdout",
     "output_type": "stream",
     "text": [
      "4200: train_loss : 0.015850540399551392, train_acc: 0.8700000047683716\n"
     ]
    },
    {
     "name": "stderr",
     "output_type": "stream",
     "text": [
      "Train:  98%|███████████████████████████████████████████████████████████████████████▋ | 530/540 [00:07<00:00, 85.54it/s]"
     ]
    },
    {
     "name": "stdout",
     "output_type": "stream",
     "text": [
      "4300: train_loss : 0.016220648288726807, train_acc: 0.8499999642372131\n"
     ]
    },
    {
     "name": "stderr",
     "output_type": "stream",
     "text": [
      "Train: 100%|█████████████████████████████████████████████████████████████████████████| 540/540 [00:07<00:00, 71.24it/s]\n",
      "validation: 100%|███████████████████████████████████████████████████████████████████| 600/600 [00:01<00:00, 317.34it/s]\n"
     ]
    },
    {
     "name": "stdout",
     "output_type": "stream",
     "text": [
      "9: epoch, 4320 step: val_loss : 0.16134659945964813, val_acc: 0.8473314046859741\n"
     ]
    },
    {
     "name": "stderr",
     "output_type": "stream",
     "text": [
      "Train:  18%|█████████████                                                             | 95/540 [00:02<00:05, 75.65it/s]"
     ]
    },
    {
     "name": "stdout",
     "output_type": "stream",
     "text": [
      "4400: train_loss : 0.015013306140899659, train_acc: 0.9699999690055847\n"
     ]
    },
    {
     "name": "stderr",
     "output_type": "stream",
     "text": [
      "Train:  35%|█████████████████████████▎                                               | 187/540 [00:03<00:04, 85.89it/s]"
     ]
    },
    {
     "name": "stdout",
     "output_type": "stream",
     "text": [
      "4500: train_loss : 0.016316959857940672, train_acc: 0.8299999833106995\n"
     ]
    },
    {
     "name": "stderr",
     "output_type": "stream",
     "text": [
      "Train:  54%|███████████████████████████████████████                                  | 289/540 [00:04<00:03, 83.18it/s]"
     ]
    },
    {
     "name": "stdout",
     "output_type": "stream",
     "text": [
      "4600: train_loss : 0.01640815019607544, train_acc: 0.8100000023841858\n"
     ]
    },
    {
     "name": "stderr",
     "output_type": "stream",
     "text": [
      "Train:  72%|████████████████████████████████████████████████████▋                    | 390/540 [00:05<00:01, 84.22it/s]"
     ]
    },
    {
     "name": "stdout",
     "output_type": "stream",
     "text": [
      "4700: train_loss : 0.01628289222717285, train_acc: 0.8299999833106995\n"
     ]
    },
    {
     "name": "stderr",
     "output_type": "stream",
     "text": [
      "Train:  91%|██████████████████████████████████████████████████████████████████       | 489/540 [00:06<00:00, 81.80it/s]"
     ]
    },
    {
     "name": "stdout",
     "output_type": "stream",
     "text": [
      "4800: train_loss : 0.015899583101272582, train_acc: 0.8700000047683716\n"
     ]
    },
    {
     "name": "stderr",
     "output_type": "stream",
     "text": [
      "Train: 100%|█████████████████████████████████████████████████████████████████████████| 540/540 [00:07<00:00, 71.08it/s]\n",
      "validation: 100%|███████████████████████████████████████████████████████████████████| 600/600 [00:01<00:00, 301.99it/s]\n"
     ]
    },
    {
     "name": "stdout",
     "output_type": "stream",
     "text": [
      "10: epoch, 4860 step: val_loss : 0.1601492166519165, val_acc: 0.8601648211479187\n"
     ]
    },
    {
     "name": "stderr",
     "output_type": "stream",
     "text": [
      "Train:   9%|██████▊                                                                   | 50/540 [00:01<00:08, 57.68it/s]"
     ]
    },
    {
     "name": "stdout",
     "output_type": "stream",
     "text": [
      "4900: train_loss : 0.015496878623962403, train_acc: 0.9099999666213989\n"
     ]
    },
    {
     "name": "stderr",
     "output_type": "stream",
     "text": [
      "Train:  29%|████████████████████▉                                                    | 155/540 [00:02<00:04, 81.41it/s]"
     ]
    },
    {
     "name": "stdout",
     "output_type": "stream",
     "text": [
      "5000: train_loss : 0.015881145000457765, train_acc: 0.8700000047683716\n"
     ]
    },
    {
     "name": "stderr",
     "output_type": "stream",
     "text": [
      "Train:  47%|██████████████████████████████████▎                                      | 254/540 [00:04<00:03, 82.79it/s]"
     ]
    },
    {
     "name": "stdout",
     "output_type": "stream",
     "text": [
      "5100: train_loss : 0.016325684785842894, train_acc: 0.8299999833106995\n"
     ]
    },
    {
     "name": "stderr",
     "output_type": "stream",
     "text": [
      "Train:  66%|███████████████████████████████████████████████▉                         | 355/540 [00:05<00:02, 85.31it/s]"
     ]
    },
    {
     "name": "stdout",
     "output_type": "stream",
     "text": [
      "5200: train_loss : 0.015599288940429688, train_acc: 0.8899999856948853\n"
     ]
    },
    {
     "name": "stderr",
     "output_type": "stream",
     "text": [
      "Train:  84%|█████████████████████████████████████████████████████████████▌           | 455/540 [00:06<00:01, 82.21it/s]"
     ]
    },
    {
     "name": "stdout",
     "output_type": "stream",
     "text": [
      "5300: train_loss : 0.015863879919052123, train_acc: 0.8700000047683716\n"
     ]
    },
    {
     "name": "stderr",
     "output_type": "stream",
     "text": [
      "Train: 100%|█████████████████████████████████████████████████████████████████████████| 540/540 [00:07<00:00, 70.93it/s]\n",
      "validation: 100%|███████████████████████████████████████████████████████████████████| 600/600 [00:01<00:00, 319.31it/s]\n"
     ]
    },
    {
     "name": "stdout",
     "output_type": "stream",
     "text": [
      "11: epoch, 5400 step: val_loss : 0.1611390858888626, val_acc: 0.8484976291656494\n"
     ]
    },
    {
     "name": "stderr",
     "output_type": "stream",
     "text": [
      "Train:   3%|██▎                                                                       | 17/540 [00:01<00:23, 22.54it/s]"
     ]
    },
    {
     "name": "stdout",
     "output_type": "stream",
     "text": [
      "5400: train_loss : 0.016201040744781493, train_acc: 0.8399999737739563\n"
     ]
    },
    {
     "name": "stderr",
     "output_type": "stream",
     "text": [
      "Train:  20%|██████████████▊                                                          | 110/540 [00:02<00:05, 81.01it/s]"
     ]
    },
    {
     "name": "stdout",
     "output_type": "stream",
     "text": [
      "5500: train_loss : 0.016537836790084838, train_acc: 0.7999999523162842\n"
     ]
    },
    {
     "name": "stderr",
     "output_type": "stream",
     "text": [
      "Train:  39%|████████████████████████████▋                                            | 212/540 [00:03<00:03, 84.10it/s]"
     ]
    },
    {
     "name": "stdout",
     "output_type": "stream",
     "text": [
      "5600: train_loss : 0.01596252918243408, train_acc: 0.8700000047683716\n"
     ]
    },
    {
     "name": "stderr",
     "output_type": "stream",
     "text": [
      "Train:  58%|██████████████████████████████████████████▎                              | 313/540 [00:04<00:03, 73.24it/s]"
     ]
    },
    {
     "name": "stdout",
     "output_type": "stream",
     "text": [
      "5700: train_loss : 0.01621547222137451, train_acc: 0.8399999737739563\n"
     ]
    },
    {
     "name": "stderr",
     "output_type": "stream",
     "text": [
      "Train:  76%|███████████████████████████████████████████████████████▋                 | 412/540 [00:05<00:01, 84.15it/s]"
     ]
    },
    {
     "name": "stdout",
     "output_type": "stream",
     "text": [
      "5800: train_loss : 0.015068877935409546, train_acc: 0.949999988079071\n"
     ]
    },
    {
     "name": "stderr",
     "output_type": "stream",
     "text": [
      "Train:  95%|█████████████████████████████████████████████████████████████████████▏   | 512/540 [00:07<00:00, 82.71it/s]"
     ]
    },
    {
     "name": "stdout",
     "output_type": "stream",
     "text": [
      "5900: train_loss : 0.015932402610778808, train_acc: 0.8700000047683716\n"
     ]
    },
    {
     "name": "stderr",
     "output_type": "stream",
     "text": [
      "Train: 100%|█████████████████████████████████████████████████████████████████████████| 540/540 [00:07<00:00, 71.03it/s]\n",
      "validation: 100%|███████████████████████████████████████████████████████████████████| 600/600 [00:01<00:00, 316.28it/s]\n"
     ]
    },
    {
     "name": "stdout",
     "output_type": "stream",
     "text": [
      "12: epoch, 5940 step: val_loss : 0.16019022464752197, val_acc: 0.8584976196289062\n"
     ]
    },
    {
     "name": "stderr",
     "output_type": "stream",
     "text": [
      "Train:  13%|█████████▋                                                                | 71/540 [00:01<00:06, 69.49it/s]"
     ]
    },
    {
     "name": "stdout",
     "output_type": "stream",
     "text": [
      "6000: train_loss : 0.016482182741165162, train_acc: 0.8100000023841858\n"
     ]
    },
    {
     "name": "stderr",
     "output_type": "stream",
     "text": [
      "Train:  32%|███████████████████████                                                  | 171/540 [00:03<00:04, 84.54it/s]"
     ]
    },
    {
     "name": "stdout",
     "output_type": "stream",
     "text": [
      "6100: train_loss : 0.016034812927246095, train_acc: 0.8499999642372131\n"
     ]
    },
    {
     "name": "stderr",
     "output_type": "stream",
     "text": [
      "Train:  51%|█████████████████████████████████████                                    | 274/540 [00:04<00:03, 85.28it/s]"
     ]
    },
    {
     "name": "stdout",
     "output_type": "stream",
     "text": [
      "6200: train_loss : 0.015800813436508177, train_acc: 0.8899999856948853\n"
     ]
    },
    {
     "name": "stderr",
     "output_type": "stream",
     "text": [
      "Train:  69%|██████████████████████████████████████████████████▌                      | 374/540 [00:05<00:01, 83.54it/s]"
     ]
    },
    {
     "name": "stdout",
     "output_type": "stream",
     "text": [
      "6300: train_loss : 0.016014233827590943, train_acc: 0.8700000047683716\n"
     ]
    },
    {
     "name": "stderr",
     "output_type": "stream",
     "text": [
      "Train:  88%|████████████████████████████████████████████████████████████████▏        | 475/540 [00:06<00:00, 83.92it/s]"
     ]
    },
    {
     "name": "stdout",
     "output_type": "stream",
     "text": [
      "6400: train_loss : 0.016466174125671387, train_acc: 0.8100000023841858\n"
     ]
    },
    {
     "name": "stderr",
     "output_type": "stream",
     "text": [
      "Train: 100%|█████████████████████████████████████████████████████████████████████████| 540/540 [00:07<00:00, 71.18it/s]\n",
      "validation: 100%|███████████████████████████████████████████████████████████████████| 600/600 [00:01<00:00, 314.04it/s]\n"
     ]
    },
    {
     "name": "stdout",
     "output_type": "stream",
     "text": [
      "13: epoch, 6480 step: val_loss : 0.16030682623386383, val_acc: 0.8576642274856567\n"
     ]
    },
    {
     "name": "stderr",
     "output_type": "stream",
     "text": [
      "Train:   6%|████▊                                                                     | 35/540 [00:01<00:11, 44.98it/s]"
     ]
    },
    {
     "name": "stdout",
     "output_type": "stream",
     "text": [
      "6500: train_loss : 0.015674861669540404, train_acc: 0.8999999761581421\n"
     ]
    },
    {
     "name": "stderr",
     "output_type": "stream",
     "text": [
      "Train:  25%|██████████████████                                                       | 134/540 [00:02<00:04, 81.67it/s]"
     ]
    },
    {
     "name": "stdout",
     "output_type": "stream",
     "text": [
      "6600: train_loss : 0.01580619215965271, train_acc: 0.8799999952316284\n"
     ]
    },
    {
     "name": "stderr",
     "output_type": "stream",
     "text": [
      "Train:  43%|███████████████████████████████▋                                         | 234/540 [00:03<00:03, 84.17it/s]"
     ]
    },
    {
     "name": "stdout",
     "output_type": "stream",
     "text": [
      "6700: train_loss : 0.016063287258148193, train_acc: 0.8700000047683716\n"
     ]
    },
    {
     "name": "stderr",
     "output_type": "stream",
     "text": [
      "Train:  62%|█████████████████████████████████████████████▏                           | 334/540 [00:04<00:02, 83.41it/s]"
     ]
    },
    {
     "name": "stdout",
     "output_type": "stream",
     "text": [
      "6800: train_loss : 0.01564202904701233, train_acc: 0.8899999856948853\n"
     ]
    },
    {
     "name": "stderr",
     "output_type": "stream",
     "text": [
      "Train:  80%|██████████████████████████████████████████████████████████▌              | 433/540 [00:06<00:01, 82.56it/s]"
     ]
    },
    {
     "name": "stdout",
     "output_type": "stream",
     "text": [
      "6900: train_loss : 0.01548690438270569, train_acc: 0.9199999570846558\n"
     ]
    },
    {
     "name": "stderr",
     "output_type": "stream",
     "text": [
      "Train:  99%|████████████████████████████████████████████████████████████████████████ | 533/540 [00:07<00:00, 81.71it/s]"
     ]
    },
    {
     "name": "stdout",
     "output_type": "stream",
     "text": [
      "7000: train_loss : 0.015683635473251342, train_acc: 0.8999999761581421\n"
     ]
    },
    {
     "name": "stderr",
     "output_type": "stream",
     "text": [
      "Train: 100%|█████████████████████████████████████████████████████████████████████████| 540/540 [00:07<00:00, 71.96it/s]\n",
      "validation: 100%|███████████████████████████████████████████████████████████████████| 600/600 [00:01<00:00, 302.84it/s]\n"
     ]
    },
    {
     "name": "stdout",
     "output_type": "stream",
     "text": [
      "14: epoch, 7020 step: val_loss : 0.15960736572742462, val_acc: 0.8638312220573425\n"
     ]
    },
    {
     "name": "stderr",
     "output_type": "stream",
     "text": [
      "Train:  18%|█████████████▍                                                            | 98/540 [00:02<00:05, 80.08it/s]"
     ]
    },
    {
     "name": "stdout",
     "output_type": "stream",
     "text": [
      "7100: train_loss : 0.015674623250961302, train_acc: 0.8899999856948853\n"
     ]
    },
    {
     "name": "stderr",
     "output_type": "stream",
     "text": [
      "Train:  35%|█████████████████████████▊                                               | 191/540 [00:03<00:04, 84.86it/s]"
     ]
    },
    {
     "name": "stdout",
     "output_type": "stream",
     "text": [
      "7200: train_loss : 0.01588181972503662, train_acc: 0.8799999952316284\n"
     ]
    },
    {
     "name": "stderr",
     "output_type": "stream",
     "text": [
      "Train:  54%|███████████████████████████████████████▍                                 | 292/540 [00:04<00:02, 84.09it/s]"
     ]
    },
    {
     "name": "stdout",
     "output_type": "stream",
     "text": [
      "7300: train_loss : 0.015897419452667236, train_acc: 0.8700000047683716\n"
     ]
    },
    {
     "name": "stderr",
     "output_type": "stream",
     "text": [
      "Train:  73%|█████████████████████████████████████████████████████▎                   | 394/540 [00:05<00:01, 80.72it/s]"
     ]
    },
    {
     "name": "stdout",
     "output_type": "stream",
     "text": [
      "7400: train_loss : 0.015940815210342407, train_acc: 0.8700000047683716\n"
     ]
    },
    {
     "name": "stderr",
     "output_type": "stream",
     "text": [
      "Train:  92%|██████████████████████████████████████████████████████████████████▉      | 495/540 [00:06<00:00, 83.66it/s]"
     ]
    },
    {
     "name": "stdout",
     "output_type": "stream",
     "text": [
      "7500: train_loss : 0.01605931282043457, train_acc: 0.85999995470047\n"
     ]
    },
    {
     "name": "stderr",
     "output_type": "stream",
     "text": [
      "Train: 100%|█████████████████████████████████████████████████████████████████████████| 540/540 [00:07<00:00, 72.03it/s]\n",
      "validation: 100%|███████████████████████████████████████████████████████████████████| 600/600 [00:01<00:00, 316.93it/s]\n"
     ]
    },
    {
     "name": "stdout",
     "output_type": "stream",
     "text": [
      "15: epoch, 7560 step: val_loss : 0.1595613807439804, val_acc: 0.8656646013259888\n"
     ]
    },
    {
     "name": "stderr",
     "output_type": "stream",
     "text": [
      "Train:  10%|███████▌                                                                  | 55/540 [00:01<00:07, 62.69it/s]"
     ]
    },
    {
     "name": "stdout",
     "output_type": "stream",
     "text": [
      "7600: train_loss : 0.01649641156196594, train_acc: 0.7999999523162842\n"
     ]
    },
    {
     "name": "stderr",
     "output_type": "stream",
     "text": [
      "Train:  29%|████████████████████▊                                                    | 154/540 [00:02<00:04, 81.14it/s]"
     ]
    },
    {
     "name": "stdout",
     "output_type": "stream",
     "text": [
      "7700: train_loss : 0.015999478101730347, train_acc: 0.85999995470047\n"
     ]
    },
    {
     "name": "stderr",
     "output_type": "stream",
     "text": [
      "Train:  47%|██████████████████████████████████▍                                      | 255/540 [00:03<00:03, 82.91it/s]"
     ]
    },
    {
     "name": "stdout",
     "output_type": "stream",
     "text": [
      "7800: train_loss : 0.01592914581298828, train_acc: 0.85999995470047\n"
     ]
    },
    {
     "name": "stderr",
     "output_type": "stream",
     "text": [
      "Train:  66%|████████████████████████████████████████████████▏                        | 356/540 [00:05<00:02, 83.09it/s]"
     ]
    },
    {
     "name": "stdout",
     "output_type": "stream",
     "text": [
      "7900: train_loss : 0.015620837211608887, train_acc: 0.8999999761581421\n"
     ]
    },
    {
     "name": "stderr",
     "output_type": "stream",
     "text": [
      "Train:  84%|█████████████████████████████████████████████████████████████▋           | 456/540 [00:06<00:01, 83.39it/s]"
     ]
    },
    {
     "name": "stdout",
     "output_type": "stream",
     "text": [
      "8000: train_loss : 0.015241022109985352, train_acc: 0.9399999976158142\n"
     ]
    },
    {
     "name": "stderr",
     "output_type": "stream",
     "text": [
      "Train: 100%|█████████████████████████████████████████████████████████████████████████| 540/540 [00:07<00:00, 72.14it/s]\n"
     ]
    }
   ],
   "source": [
    "train_step = 0\n",
    "for epoch in range(1,max_epoch+1):\n",
    "    \n",
    "    # valid step\n",
    "    with torch.no_grad():\n",
    "        val_loss = 0.0\n",
    "        val_corrects = 0\n",
    "        \n",
    "        for val_batch_idx, (val_images,val_labels) in enumerate(tqdm(val_dataloader,position=0,leave=True,desc='validation')):\n",
    "            \n",
    "            val_images = val_images.to(device)\n",
    "            val_labels = val_labels.to(device)\n",
    "            \n",
    "            val_outputs = model(val_images)\n",
    "            _, val_preds = torch.max(val_outputs,1)\n",
    "            val_loss += loss_function(val_outputs,val_labels) / val_outputs.shape[0] # per batch\n",
    "            val_corrects += torch.sum(val_preds == val_labels.data) / val_outputs.shape[0] # per batch\n",
    "    \n",
    "    # Validation logging\n",
    "    val_epoch_loss = val_loss / len(val_dataloader)\n",
    "    val_epoch_acc = val_corrects / len(val_dataloader)\n",
    "    \n",
    "    print(\n",
    "        f\"{epoch}: epoch, {train_step} step: val_loss : {val_epoch_loss}, val_acc: {val_epoch_acc}\"\n",
    "    )\n",
    "    \n",
    "    # train step\n",
    "    for batch_idx, (images,labels) in enumerate(tqdm(train_dataloader,position=0,leave=True,desc='Train')):\n",
    "        current_loss = 0.0\n",
    "        current_corrects = 0\n",
    "        \n",
    "        images = images.to(device)\n",
    "        labels = labels.to(device)     \n",
    "        \n",
    "        #Forward\n",
    "        outputs = model(images)\n",
    "        _, preds = torch.max(outputs,1)\n",
    "        loss = loss_function(outputs,labels)\n",
    "        \n",
    "        #Backpropagation\n",
    "        optimizer.zero_grad()\n",
    "        loss.backward()\n",
    "        \n",
    "        optimizer.step()\n",
    "        current_loss += loss.item()\n",
    "        current_corrects += torch.sum(preds==labels.data)\n",
    "        # Train logging\n",
    "        if train_step % log_interval == 0: # Performance log per batch\n",
    "            train_loss = current_loss / log_interval # average loss\n",
    "            train_acc = current_corrects / log_interval # average acc\n",
    "            print(\n",
    "                f\"{train_step}: train_loss : {train_loss}, train_acc: {train_acc}\"\n",
    "            )\n",
    "            current_loss = 0\n",
    "            current_corrects = 0\n",
    "            \n",
    "        train_step+=1\n",
    "        "
   ]
  },
  {
   "cell_type": "code",
   "execution_count": 24,
   "id": "16cac525",
   "metadata": {
    "ExecuteTime": {
     "end_time": "2022-07-21T06:30:37.383359Z",
     "start_time": "2022-07-21T06:30:37.369702Z"
    }
   },
   "outputs": [],
   "source": [
    "os.makedirs(\"./logs/models\",exist_ok=True)\n",
    "torch.save(model,\"./logs/models/mlp.ckpt\")"
   ]
  },
  {
   "cell_type": "code",
   "execution_count": 25,
   "id": "8614b179",
   "metadata": {
    "ExecuteTime": {
     "end_time": "2022-07-21T06:30:38.067171Z",
     "start_time": "2022-07-21T06:30:38.036016Z"
    }
   },
   "outputs": [
    {
     "name": "stdout",
     "output_type": "stream",
     "text": [
      "MLP(\n",
      "  (linear1): Linear(in_features=784, out_features=128, bias=True)\n",
      "  (linear2): Linear(in_features=128, out_features=64, bias=True)\n",
      "  (linear3): Linear(in_features=64, out_features=32, bias=True)\n",
      "  (linear4): Linear(in_features=32, out_features=64, bias=True)\n",
      "  (linear5): Linear(in_features=64, out_features=10, bias=True)\n",
      ")\n"
     ]
    }
   ],
   "source": [
    "loaded_model = torch.load(\"./logs/models/mlp.ckpt\")\n",
    "loaded_model.eval()\n",
    "print(loaded_model)"
   ]
  },
  {
   "cell_type": "code",
   "execution_count": 27,
   "id": "6fb070ad",
   "metadata": {
    "ExecuteTime": {
     "end_time": "2022-07-21T06:30:46.967367Z",
     "start_time": "2022-07-21T06:30:45.202423Z"
    }
   },
   "outputs": [
    {
     "name": "stderr",
     "output_type": "stream",
     "text": [
      "Test: 100%|██████████████████████████████████████████████████████████████████████████| 100/100 [00:01<00:00, 57.93it/s]"
     ]
    },
    {
     "name": "stdout",
     "output_type": "stream",
     "text": [
      "\n",
      " acc :56.89999999999999%\n"
     ]
    },
    {
     "name": "stderr",
     "output_type": "stream",
     "text": [
      "\n"
     ]
    }
   ],
   "source": [
    "test_batch_size=100\n",
    "test_dataset = FashionMNIST(data_root, download=True, train=False,transform=transforms.ToTensor())\n",
    "test_dataloader = torch.utils.data.DataLoader(test_dataset,batch_size=test_batch_size, shuffle=False,num_workers=1)\n",
    "\n",
    "test_labels_list = []\n",
    "test_preds_list = []\n",
    "test_outputs_list= []\n",
    "for i, (test_images,test_labels) in enumerate(tqdm(test_dataloader,position=0,leave=True,desc='Test')):\n",
    "    \n",
    "    test_images = test_images.to(device)\n",
    "    test_labels = test_labels.to(device)\n",
    "    \n",
    "    test_outputs = loaded_model(test_images)\n",
    "    test_outputs = test_outputs.to(device)\n",
    "    \n",
    "    _, test_preds = torch.max(test_outputs,1)\n",
    "    \n",
    "    final_outputs = test_outputs.detach().cpu().numpy()\n",
    "    test_outputs_list.extend(final_outputs)\n",
    "    test_labels_list.extend(test_labels.detach().cpu().numpy())\n",
    "    test_preds_list.extend(test_preds.detach().cpu().numpy())\n",
    "    \n",
    "test_preds_list = np.array(test_preds_list)\n",
    "test_labels_list = np.array(test_labels_list)\n",
    "\n",
    "print(f'\\n acc :{np.mean(test_preds_list==test_labels_list)*100}%')"
   ]
  },
  {
   "cell_type": "code",
   "execution_count": 30,
   "id": "5bab8cc0",
   "metadata": {
    "ExecuteTime": {
     "end_time": "2022-07-21T06:32:32.393736Z",
     "start_time": "2022-07-21T06:32:32.374837Z"
    }
   },
   "outputs": [
    {
     "data": {
      "text/plain": [
       "array([[1.8105619e-11, 7.0733358e-07, 9.2016425e-17, ..., 1.7165143e-05,\n",
       "        3.7918006e-05, 9.9964118e-01],\n",
       "       [5.3190379e-13, 1.0299357e-13, 5.0163901e-01, ..., 6.0518166e-14,\n",
       "        1.5931329e-05, 4.5424725e-23],\n",
       "       [3.8141153e-19, 1.0000000e+00, 1.6513645e-23, ..., 7.1188371e-25,\n",
       "        4.5079871e-17, 1.5600819e-19],\n",
       "       ...,\n",
       "       [5.0239612e-17, 5.5774349e-19, 1.6603176e-20, ..., 9.9598784e-15,\n",
       "        1.0000000e+00, 1.0806952e-18],\n",
       "       [7.1952835e-17, 1.0000000e+00, 2.2789092e-21, ..., 3.5860261e-18,\n",
       "        2.6017007e-15, 3.5606216e-12],\n",
       "       [4.0805148e-08, 1.9513898e-06, 4.1905125e-08, ..., 3.1328045e-06,\n",
       "        9.9670202e-01, 6.5522397e-07]], dtype=float32)"
      ]
     },
     "execution_count": 30,
     "metadata": {},
     "output_type": "execute_result"
    }
   ],
   "source": [
    "np.array(test_outputs_list)"
   ]
  },
  {
   "cell_type": "code",
   "execution_count": 35,
   "id": "36350758",
   "metadata": {
    "ExecuteTime": {
     "end_time": "2022-07-21T06:33:44.868958Z",
     "start_time": "2022-07-21T06:33:44.854948Z"
    }
   },
   "outputs": [
    {
     "data": {
      "text/plain": [
       "array([7.0733358e-07, 1.0299357e-13, 1.0000000e+00, ..., 5.5774349e-19,\n",
       "       1.0000000e+00, 1.9513898e-06], dtype=float32)"
      ]
     },
     "execution_count": 35,
     "metadata": {},
     "output_type": "execute_result"
    }
   ],
   "source": [
    "np.array(test_outputs_list)[:,1]"
   ]
  },
  {
   "cell_type": "code",
   "execution_count": 29,
   "id": "76862cb0",
   "metadata": {
    "ExecuteTime": {
     "end_time": "2022-07-21T06:32:18.364364Z",
     "start_time": "2022-07-21T06:32:17.509840Z"
    }
   },
   "outputs": [
    {
     "data": {
      "image/png": "[encoded data removed]",
      "text/plain": [
       "<Figure size 432x288 with 1 Axes>"
      ]
     },
     "metadata": {
      "needs_background": "light"
     },
     "output_type": "display_data"
    },
    {
     "name": "stdout",
     "output_type": "stream",
     "text": [
      "auc_score 0.9298256999999999\n"
     ]
    }
   ],
   "source": [
    "from sklearn.metrics import roc_curve\n",
    "from sklearn.metrics import roc_auc_score\n",
    "import matplotlib.pyplot as plt\n",
    "\n",
    "false_positive_rate = {}\n",
    "true_positive_rate = {}\n",
    "threshold = {}\n",
    "n_class = 10\n",
    "\n",
    "for i in range(n_class):\n",
    "    false_positive_rate[i],true_positive_rate[i],threshold[i] = roc_curve(test_labels_list, np.array(test_outputs_list)[:,i],pos_label=i)\n",
    "for i in range(n_class):\n",
    "    plt.plot(false_positive_rate[i],true_positive_rate[i],linestyle='--',label=f\"Class {i}\")\n",
    "    \n",
    "plt.title('Multi-class ROC Curve')\n",
    "plt.xlabel('False Positive Rate')\n",
    "plt.ylabel('True Positive Rate')\n",
    "plt.legend(loc='best')\n",
    "plt.show()\n",
    "\n",
    "print(\"auc_score\",roc_auc_score(test_labels_list,test_outputs_list,multi_class='ovo',average='macro'))"
   ]
  },
  {
   "cell_type": "code",
   "execution_count": null,
   "id": "42d18183",
   "metadata": {},
   "outputs": [],
   "source": []
  }
 ],
 "metadata": {
  "kernelspec": {
   "display_name": "SKT-env",
   "language": "python",
   "name": "skt-env"
  },
  "language_info": {
   "codemirror_mode": {
    "name": "ipython",
    "version": 3
   },
   "file_extension": ".py",
   "mimetype": "text/x-python",
   "name": "python",
   "nbconvert_exporter": "python",
   "pygments_lexer": "ipython3",
   "version": "3.8.13"
  }
 },
 "nbformat": 4,
 "nbformat_minor": 5
}
