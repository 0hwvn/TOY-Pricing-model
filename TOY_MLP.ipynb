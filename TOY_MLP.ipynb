{
 "cells": [
  {
   "cell_type": "code",
   "execution_count": 1,
   "id": "2f6a2d97",
   "metadata": {
    "ExecuteTime": {
     "end_time": "2022-08-01T12:24:17.789988Z",
     "start_time": "2022-08-01T12:24:16.997150Z"
    }
   },
   "outputs": [],
   "source": [
    "# check for requirements.txt\n",
    "\n",
    "import os\n",
    "import sys\n",
    "import argparse\n",
    "\n",
    "import torch\n",
    "import numpy as np\n",
    "\n",
    "import torch\n",
    "from torch import nn\n",
    "import torch.nn.functional as F\n",
    "import torch.optim as optim\n",
    "from torch.utils.data import DataLoader\n",
    "from torch.utils.data import random_split\n",
    "# from torch.utils.tensorboard import SummaryWriter #pytorch 1.12 버전에서 아직 지원 안됨. 1.3부터 지원.\n",
    "from torchvision.datasets import FashionMNIST\n",
    "from torchvision import transforms # callable\n",
    "from tqdm import tqdm\n",
    "from datetime import datetime"
   ]
  },
  {
   "cell_type": "code",
   "execution_count": 2,
   "id": "9304cca9",
   "metadata": {
    "ExecuteTime": {
     "end_time": "2022-08-01T12:24:17.805329Z",
     "start_time": "2022-08-01T12:24:17.789988Z"
    }
   },
   "outputs": [
    {
     "name": "stdout",
     "output_type": "stream",
     "text": [
      "True\n",
      "cuda\n"
     ]
    }
   ],
   "source": [
    "# check if GPu is available\n",
    "# os.environ[\"CUDA_DEVICE_ORDER\"]=\"PCI_BUS_ID\"\n",
    "# os.environ[\"CUDA_VISIBLE_DEVICES\"]=\"0\"\n",
    "print(torch.cuda.is_available())\n",
    "device = torch.device('cuda' if torch.cuda.is_available() else 'cpu')\n",
    "print(device)"
   ]
  },
  {
   "cell_type": "code",
   "execution_count": 3,
   "id": "6a1740af",
   "metadata": {
    "ExecuteTime": {
     "end_time": "2022-08-01T12:24:17.836336Z",
     "start_time": "2022-08-01T12:24:17.806330Z"
    },
    "scrolled": true
   },
   "outputs": [],
   "source": [
    "# Preprocessing & Dataset definition\n",
    "data_root = os.path.join(os.getcwd(),\"data\")\n",
    "# Composes several transforms together.\n",
    "transform = transforms.Compose( \n",
    "    [\n",
    "    transforms.ToTensor(), # PIL Image or ndarray-> FloatTensor with (c,h,w), Intensity to [0,1]\n",
    "    transforms.Normalize([0.5],[0.5]) # normalize each channel of the input\n",
    "    # mean (sequence) – Sequence of means for each channel.\n",
    "    # std (sequence) – Sequence of standard deviations for each channel.\n",
    "    ]\n",
    ")\n",
    "fashion_mnist_dataset = FashionMNIST(data_root, download=True, train=True, transform = transform)"
   ]
  },
  {
   "cell_type": "code",
   "execution_count": 4,
   "id": "8d848499",
   "metadata": {
    "ExecuteTime": {
     "end_time": "2022-08-01T12:24:17.980369Z",
     "start_time": "2022-08-01T12:24:17.959365Z"
    }
   },
   "outputs": [],
   "source": [
    "data = random_split(fashion_mnist_dataset, [int(len(fashion_mnist_dataset)*0.9),int(len(fashion_mnist_dataset)*0.1)])\n",
    "train_dataset = data[0]\n",
    "val_dataset = data[1]\n",
    "\n",
    "train_batchszie = 100\n",
    "val_batchszie = 10\n",
    "\n",
    "train_dataloader = torch.utils.data.DataLoader(\n",
    "    train_dataset, batch_size=train_batchszie, shuffle =True, num_workers=1\n",
    ")\n",
    "# Iterable object composed of iterable data\n",
    "\n",
    "val_dataloader = torch.utils.data.DataLoader(\n",
    "    val_dataset, batch_size=val_batchszie, shuffle =True, num_workers=1\n",
    ")\n"
   ]
  },
  {
   "cell_type": "code",
   "execution_count": 5,
   "id": "6cd23e77",
   "metadata": {
    "ExecuteTime": {
     "end_time": "2022-08-01T12:24:18.467906Z",
     "start_time": "2022-08-01T12:24:18.456702Z"
    }
   },
   "outputs": [],
   "source": [
    "def softmax(x,axis=0):\n",
    "    max = np.max(x, axis=axis,keepdims=True)\n",
    "    e_x = np.exp(x-max) #?\n",
    "    sum = np.sum(e_x, axis=axis,keepdims=True)\n",
    "    f_x = e_x/sum\n",
    "    return f_x"
   ]
  },
  {
   "cell_type": "code",
   "execution_count": 6,
   "id": "643f0d53",
   "metadata": {
    "ExecuteTime": {
     "end_time": "2022-08-01T12:24:18.818113Z",
     "start_time": "2022-08-01T12:24:18.808118Z"
    }
   },
   "outputs": [],
   "source": [
    "class MLP(nn.Module):\n",
    "    def __init__(self, input_dim: int, h1_dim: int, h2_dim: int, h3_dim: int, output_dim: int):\n",
    "        super().__init__()\n",
    "        self.linear1 = nn.Linear(input_dim,h1_dim)\n",
    "        self.linear2 = nn.Linear(h1_dim,h2_dim)\n",
    "        self.linear3 = nn.Linear(h2_dim,h3_dim)\n",
    "        self.linear4 = nn.Linear(h3_dim,h2_dim)\n",
    "        self.linear5 = nn.Linear(h2_dim,output_dim)\n",
    "        self.relu = F.relu\n",
    "        self.softmax = F.softmax\n",
    "        \n",
    "    def forward(self,input):\n",
    "        x = torch.flatten(input,start_dim=1)\n",
    "        x = self.relu(self.linear1(x))\n",
    "        x = self.relu(self.linear2(x))\n",
    "        x = self.relu(self.linear3(x))\n",
    "        x = self.relu(self.linear4(x))\n",
    "        output = self.softmax(self.linear5(x),dim=1)\n",
    "        return output \n",
    "    \n",
    "class MLPWithDropout(MLP):\n",
    "    def __init__(self, input_dim: int, h1_dim: int, h2_dim: int, h3_dim: int, output_dim: int\n",
    "                ,dropout_prob: float):\n",
    "        super().__init__(input_dim, h1_dim, h2_dim, h3_dim, output_dim)\n",
    "        self.dropout = nn.Dropout(dropout_prob)\n",
    "        self.dropout1 = nn.Dropout(dropout_prob)\n",
    "        self.dropout2 = nn.Dropout(dropout_prob)\n",
    "        self.dropout3 = nn.Dropout(dropout_prob)\n",
    "        \n",
    "    def forward(self,input):\n",
    "        x = torch.flatten(input,start_dim=1)\n",
    "        x = self.relu(self.linear1(x))\n",
    "        x = self.dropout1(x)\n",
    "        x = self.relu(self.linear2(x))\n",
    "        x = self.dropout2(x)\n",
    "        x = self.relu(self.linear3(x)) \n",
    "        x = self.dropout3(x)\n",
    "        x = self.relu(self.linear4(x))\n",
    "        x = self.dropout(x)\n",
    "        output = self.softmax(self.linear5(x),dim=1)\n",
    "        return output"
   ]
  },
  {
   "cell_type": "code",
   "execution_count": 11,
   "id": "a1d14879",
   "metadata": {
    "ExecuteTime": {
     "end_time": "2022-08-01T12:30:02.443665Z",
     "start_time": "2022-08-01T12:30:02.424783Z"
    }
   },
   "outputs": [],
   "source": [
    "# Warmup Scheduler\n",
    "class WarmupLR(optim.lr_scheduler.LambdaLR):\n",
    "    def __init__(self,\n",
    "                 optimizer: optim.Optimizer,\n",
    "                 warmup_end_steps: int, \n",
    "                 last_epoch: int = -1,\n",
    "                ):\n",
    "        def warmup_fn(step: int):\n",
    "            if step < warmup_end_steps:\n",
    "                return float(step) / float(max(warmup_end_steps, 1))\n",
    "            return 1.0\n",
    "        super().__init__(optimizer, warmup_fn, last_epoch)"
   ]
  },
  {
   "cell_type": "code",
   "execution_count": 12,
   "id": "c205e6d1",
   "metadata": {
    "ExecuteTime": {
     "end_time": "2022-08-01T12:30:02.797965Z",
     "start_time": "2022-08-01T12:30:02.776584Z"
    }
   },
   "outputs": [],
   "source": [
    "# model = MLP(28*28, 128, 64, 32, 10).to(device)\n",
    "model = MLPWithDropout(28*28, 128, 64, 32, 10, 0.3).to(device)\n",
    "model_name = type(model).__name__\n",
    "\n",
    "loss_function = nn.CrossEntropyLoss()\n",
    "\n",
    "lr=1e-3\n",
    "optimizer= torch.optim.Adam(model.parameters(),lr)\n",
    "optimizer_name = type(optimizer).__name__\n",
    "\n",
    "scheduler = WarmupLR(optimizer, 1500)\n",
    "scheduler_name = type(scheduler).__name__ if scheduler is not None else \"no\"\n",
    "max_epoch=50\n",
    "\n",
    "log_dir = f\".\\\\logs\\\\{model_name}-{optimizer_name}_optim_{lr}_lr_with_{scheduler_name}_scheduler\"\n",
    "log_interval = 100\n",
    "os.makedirs(log_dir, exist_ok=True)"
   ]
  },
  {
   "cell_type": "code",
   "execution_count": null,
   "id": "0541f910",
   "metadata": {
    "ExecuteTime": {
     "end_time": "2022-08-01T12:38:10.247495Z",
     "start_time": "2022-08-01T12:30:03.161965Z"
    },
    "scrolled": false
   },
   "outputs": [],
   "source": [
    "train_step = 0\n",
    "logs = {\n",
    "    'tr_bce_loss':[],\n",
    "    'valid_bce_loss':[]\n",
    "}\n",
    "for epoch in range(1,max_epoch+1):\n",
    "    \n",
    "    # valid step\n",
    "    with torch.no_grad():\n",
    "        val_loss = 0.0\n",
    "        val_corrects = 0\n",
    "        model.eval()\n",
    "        \n",
    "        for val_batch_idx, (val_images,val_labels) in enumerate(tqdm(val_dataloader,position=0,leave=True,desc='validation')):\n",
    "            \n",
    "            val_images = val_images.to(device)\n",
    "            val_labels = val_labels.to(device)\n",
    "            \n",
    "            val_outputs = model(val_images)\n",
    "            _, val_preds = torch.max(val_outputs,1)\n",
    "            val_loss += loss_function(val_outputs,val_labels).item() / val_outputs.shape[0] # per batch\n",
    "            val_corrects += torch.sum(val_preds == val_labels.data) / val_outputs.shape[0] # per batch\n",
    "            \n",
    "    # Validation logging\n",
    "    val_epoch_loss = val_loss / len(val_dataloader)\n",
    "    val_epoch_acc = val_corrects / len(val_dataloader)\n",
    "    logs['valid_bce_loss'].append(val_epoch_loss)\n",
    "    \n",
    "    print(\n",
    "        f\"{epoch}: epoch, {train_step} step: val_loss : {val_epoch_loss}, val_acc: {val_epoch_acc}\"\n",
    "    )\n",
    "    model.train()\n",
    "    \n",
    "    # train step\n",
    "    for batch_idx, (images,labels) in enumerate(tqdm(train_dataloader,position=0,leave=True,desc='Train')):\n",
    "        current_loss = 0.0\n",
    "        current_corrects = 0\n",
    "        \n",
    "        images = images.to(device)\n",
    "        labels = labels.to(device)     \n",
    "        \n",
    "        #Forward\n",
    "        outputs = model(images)\n",
    "        _, preds = torch.max(outputs,1)\n",
    "        loss = loss_function(outputs,labels)\n",
    "        \n",
    "        #Backpropagation\n",
    "        optimizer.zero_grad()\n",
    "        loss.backward()\n",
    "        \n",
    "        optimizer.step()\n",
    "        if scheduler is not None:\n",
    "            scheduler.step()\n",
    "        \n",
    "        current_loss += loss.item()\n",
    "        current_corrects += torch.sum(preds==labels.data)\n",
    "        # Train logging\n",
    "        if train_step % log_interval == 0: # Performance log per batch\n",
    "            train_loss = current_loss / log_interval # average loss\n",
    "            train_acc = current_corrects / log_interval # average acc\n",
    "            print(\n",
    "                f\"{train_step}: train_loss : {train_loss}, train_acc: {train_acc}\"\n",
    "            )\n",
    "            logs['tr_bce_loss'].append(train_loss)\n",
    "            current_loss = 0\n",
    "            current_corrects = 0\n",
    "            \n",
    "        train_step+=1"
   ]
  },
  {
   "cell_type": "code",
   "execution_count": 14,
   "id": "16cac525",
   "metadata": {
    "ExecuteTime": {
     "end_time": "2022-08-01T12:38:18.839521Z",
     "start_time": "2022-08-01T12:38:18.820862Z"
    }
   },
   "outputs": [],
   "source": [
    "torch.save(model, log_dir+\"/mlp.ckpt\")"
   ]
  },
  {
   "cell_type": "code",
   "execution_count": 15,
   "id": "8614b179",
   "metadata": {
    "ExecuteTime": {
     "end_time": "2022-08-01T12:38:19.185646Z",
     "start_time": "2022-08-01T12:38:19.163563Z"
    }
   },
   "outputs": [
    {
     "name": "stdout",
     "output_type": "stream",
     "text": [
      "MLPWithDropout(\n",
      "  (linear1): Linear(in_features=784, out_features=128, bias=True)\n",
      "  (linear2): Linear(in_features=128, out_features=64, bias=True)\n",
      "  (linear3): Linear(in_features=64, out_features=32, bias=True)\n",
      "  (linear4): Linear(in_features=32, out_features=64, bias=True)\n",
      "  (linear5): Linear(in_features=64, out_features=10, bias=True)\n",
      "  (dropout): Dropout(p=0.3, inplace=False)\n",
      "  (dropout1): Dropout(p=0.3, inplace=False)\n",
      "  (dropout2): Dropout(p=0.3, inplace=False)\n",
      "  (dropout3): Dropout(p=0.3, inplace=False)\n",
      ")\n"
     ]
    }
   ],
   "source": [
    "loaded_model = torch.load(log_dir+\"/mlp.ckpt\")\n",
    "loaded_model.eval()\n",
    "print(loaded_model)"
   ]
  },
  {
   "cell_type": "code",
   "execution_count": 16,
   "id": "6fb070ad",
   "metadata": {
    "ExecuteTime": {
     "end_time": "2022-08-01T12:38:25.677313Z",
     "start_time": "2022-08-01T12:38:23.907883Z"
    }
   },
   "outputs": [
    {
     "name": "stderr",
     "output_type": "stream",
     "text": [
      "Test: 100%|██████████████████████████████████████████████████████████████████████████| 100/100 [00:01<00:00, 57.34it/s]"
     ]
    },
    {
     "name": "stdout",
     "output_type": "stream",
     "text": [
      "\n",
      " acc :65.4%\n"
     ]
    },
    {
     "name": "stderr",
     "output_type": "stream",
     "text": [
      "\n"
     ]
    }
   ],
   "source": [
    "test_batch_size=100\n",
    "test_dataset = FashionMNIST(data_root, download=True, train=False,transform=transforms.ToTensor())\n",
    "test_dataloader = torch.utils.data.DataLoader(test_dataset,batch_size=test_batch_size, shuffle=False,num_workers=1)\n",
    "\n",
    "test_labels_list = []\n",
    "test_preds_list = []\n",
    "test_outputs_list= []\n",
    "for i, (test_images,test_labels) in enumerate(tqdm(test_dataloader,position=0,leave=True,desc='Test')):\n",
    "    \n",
    "    test_images = test_images.to(device)\n",
    "    test_labels = test_labels.to(device)\n",
    "    \n",
    "    test_outputs = loaded_model(test_images)\n",
    "    test_outputs = test_outputs.to(device)\n",
    "    \n",
    "    _, test_preds = torch.max(test_outputs,1)\n",
    "    \n",
    "    final_outputs = test_outputs.detach().cpu().numpy()\n",
    "    test_outputs_list.extend(final_outputs)\n",
    "    test_labels_list.extend(test_labels.detach().cpu().numpy())\n",
    "    test_preds_list.extend(test_preds.detach().cpu().numpy())\n",
    "    \n",
    "test_preds_list = np.array(test_preds_list)\n",
    "test_labels_list = np.array(test_labels_list)\n",
    "\n",
    "print(f'\\n acc :{np.mean(test_preds_list==test_labels_list)*100}%')"
   ]
  },
  {
   "cell_type": "code",
   "execution_count": 17,
   "id": "76862cb0",
   "metadata": {
    "ExecuteTime": {
     "end_time": "2022-08-01T12:38:35.736740Z",
     "start_time": "2022-08-01T12:38:34.896584Z"
    }
   },
   "outputs": [
    {
     "data": {
      "image/png": "[encoded data removed]",
      "text/plain": [
       "<Figure size 432x288 with 1 Axes>"
      ]
     },
     "metadata": {
      "needs_background": "light"
     },
     "output_type": "display_data"
    },
    {
     "name": "stdout",
     "output_type": "stream",
     "text": [
      "auc_score 0.8994967500000002\n"
     ]
    }
   ],
   "source": [
    "from sklearn.metrics import roc_curve\n",
    "from sklearn.metrics import roc_auc_score\n",
    "import matplotlib.pyplot as plt\n",
    "\n",
    "false_positive_rate = {}\n",
    "true_positive_rate = {}\n",
    "threshold = {}\n",
    "n_class = 10\n",
    "\n",
    "for i in range(n_class):\n",
    "    false_positive_rate[i],true_positive_rate[i],threshold[i] = roc_curve(test_labels_list, np.array(test_outputs_list)[:,i],pos_label=i)\n",
    "for i in range(n_class):\n",
    "    plt.plot(false_positive_rate[i],true_positive_rate[i],linestyle='--',label=f\"Class {i}\")\n",
    "    \n",
    "plt.title('Multi-class ROC Curve')\n",
    "plt.xlabel('False Positive Rate')\n",
    "plt.ylabel('True Positive Rate')\n",
    "plt.legend(loc='best')\n",
    "plt.show()\n",
    "\n",
    "print(\"auc_score\",roc_auc_score(test_labels_list,test_outputs_list,multi_class='ovo',average='macro'))"
   ]
  },
  {
   "cell_type": "code",
   "execution_count": 18,
   "id": "6b8ddbfd",
   "metadata": {
    "ExecuteTime": {
     "end_time": "2022-08-01T12:38:38.854360Z",
     "start_time": "2022-08-01T12:38:38.706178Z"
    }
   },
   "outputs": [
    {
     "data": {
      "text/plain": [
       "[<matplotlib.lines.Line2D at 0x1d14e4107f0>]"
      ]
     },
     "execution_count": 18,
     "metadata": {},
     "output_type": "execute_result"
    },
    {
     "data": {
      "image/png": "[encoded data removed]",
      "text/plain": [
       "<Figure size 432x288 with 1 Axes>"
      ]
     },
     "metadata": {
      "needs_background": "light"
     },
     "output_type": "display_data"
    }
   ],
   "source": [
    "plt.plot(np.array(logs['tr_bce_loss']))"
   ]
  },
  {
   "cell_type": "code",
   "execution_count": 20,
   "id": "42d18183",
   "metadata": {
    "ExecuteTime": {
     "end_time": "2022-08-01T12:39:01.279141Z",
     "start_time": "2022-08-01T12:39:01.198353Z"
    }
   },
   "outputs": [
    {
     "data": {
      "text/plain": [
       "[<matplotlib.lines.Line2D at 0x1d1ecc42970>]"
      ]
     },
     "execution_count": 20,
     "metadata": {},
     "output_type": "execute_result"
    },
    {
     "data": {
      "image/png": "[encoded data removed]",
      "text/plain": [
       "<Figure size 432x288 with 1 Axes>"
      ]
     },
     "metadata": {
      "needs_background": "light"
     },
     "output_type": "display_data"
    }
   ],
   "source": [
    "plt.plot(np.array(logs['tr_bce_loss']))"
   ]
  },
  {
   "cell_type": "code",
   "execution_count": null,
   "id": "63c6c51b",
   "metadata": {},
   "outputs": [],
   "source": []
  }
 ],
 "metadata": {
  "kernelspec": {
   "display_name": "SKT-env",
   "language": "python",
   "name": "skt-env"
  },
  "language_info": {
   "codemirror_mode": {
    "name": "ipython",
    "version": 3
   },
   "file_extension": ".py",
   "mimetype": "text/x-python",
   "name": "python",
   "nbconvert_exporter": "python",
   "pygments_lexer": "ipython3",
   "version": "3.8.13"
  }
 },
 "nbformat": 4,
 "nbformat_minor": 5
}
